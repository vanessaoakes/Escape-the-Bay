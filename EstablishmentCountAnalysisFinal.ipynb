{
 "cells": [
  {
   "cell_type": "code",
   "execution_count": 1,
   "metadata": {},
   "outputs": [],
   "source": [
    "import pandas as pd\n",
    "import numpy as np\n",
    "import matplotlib.pyplot as plt\n",
    "\n",
    "#load and read csv's\n",
    "file1 = \"EstablishmentData2014.csv\" \n",
    "file2 = \"EstablishmentData2015.csv\"\n",
    "file3 = \"EstablishmentData2016.csv\"\n",
    "\n",
    "df_original_1 = pd.read_csv(file1)\n",
    "df_original_2 = pd.read_csv(file2)\n",
    "df_original_3 = pd.read_csv(file3)\n",
    "\n",
    "#convert a column to float\n",
    "df_original_1[\"EMPSZES.id\"] = pd.to_numeric(df_original_1[\"EMPSZES.id\"]) \n",
    "df_original_2[\"EMPSZES.id\"] = pd.to_numeric(df_original_2[\"EMPSZES.id\"]) \n",
    "df_original_3[\"EMPSZES.id\"] = pd.to_numeric(df_original_3[\"EMPSZES.id\"]) \n",
    "\n",
    "#filter by industry sizec(df_original[\"EMPSZES.id\"]) \n",
    "all_businesses_df_1 = df_original_1.loc[df_original_1[\"EMPSZES.id\"] == 1, :] \n",
    "all_businesses_df_2 = df_original_2.loc[df_original_2[\"EMPSZES.id\"] == 1, :] \n",
    "all_businesses_df_3 = df_original_3.loc[df_original_3[\"EMPSZES.id\"] == 1, :] \n",
    "\n",
    "#group by industry type\n",
    "df_groupedby_GEOID_1 = df_original_1.groupby('NAICS.id') \n",
    "df_groupedby_GEOID_2 = df_original_2.groupby('NAICS.id') \n",
    "df_groupedby_GEOID_3 = df_original_3.groupby('NAICS.id') \n",
    "\n",
    "#take the sum of the group\n",
    "df_quick_sum_1 = df_groupedby_GEOID_1[\"ESTAB\"].sum() \n",
    "df_quick_sum_2 = df_groupedby_GEOID_2[\"ESTAB\"].sum() \n",
    "df_quick_sum_3 = df_groupedby_GEOID_3[\"ESTAB\"].sum() \n",
    "\n",
    "#filter by industry type\n",
    "all_sizes_df_1 = all_businesses_df_1.loc[all_businesses_df_1[\"NAICS.id\"] == \"0\", :] \n",
    "all_sizes_df_2 = all_businesses_df_2.loc[all_businesses_df_2[\"NAICS.id\"] == \"0\", :] \n",
    "all_sizes_df_3 = all_businesses_df_3.loc[all_businesses_df_3[\"NAICS.id\"] == \"0\", :]\n",
    "\n",
    "all_sizes_df_1 = all_sizes_df_1.set_index(\"GEO.id2\")\n",
    "all_sizes_df_2 = all_sizes_df_2.set_index(\"GEO.id2\")\n",
    "all_sizes_df_3 = all_sizes_df_3.set_index(\"GEO.id2\")\n",
    "#result is a dataframe only containing only one county code per \"total # of establishments\""
   ]
  },
  {
   "cell_type": "code",
   "execution_count": 2,
   "metadata": {},
   "outputs": [],
   "source": [
    "\n",
    "toCal2014 = []\n",
    "toCal2015 = []\n",
    "toCal2016 = []\n",
    "outCal2014 = []\n",
    "outCal2015 = []\n",
    "outCal2016 = []\n",
    "\n",
    "toCal2014.append(all_sizes_df_1.loc[6037, \"ESTAB\" ])\n",
    "toCal2015.append(all_sizes_df_2.loc[6037, \"ESTAB\" ])\n",
    "toCal2016.append(all_sizes_df_3.loc[6037, \"ESTAB\" ])\n",
    "\n",
    "toCal2014.append(all_sizes_df_1.loc[6085, \"ESTAB\" ])\n",
    "toCal2015.append(all_sizes_df_2.loc[6085, \"ESTAB\" ])\n",
    "toCal2016.append(all_sizes_df_3.loc[6085, \"ESTAB\" ])\n",
    "\n",
    "toCal2014.append(all_sizes_df_1.loc[6001, \"ESTAB\" ])\n",
    "toCal2015.append(all_sizes_df_2.loc[6001, \"ESTAB\" ])\n",
    "toCal2016.append(all_sizes_df_3.loc[6001, \"ESTAB\" ])\n",
    "\n",
    "toCal2014.append(all_sizes_df_1.loc[6013, \"ESTAB\" ])\n",
    "toCal2015.append(all_sizes_df_2.loc[6013, \"ESTAB\" ])\n",
    "toCal2016.append(all_sizes_df_3.loc[6013, \"ESTAB\" ])\n",
    "\n",
    "toCal2014.append(all_sizes_df_1.loc[6081, \"ESTAB\" ])\n",
    "toCal2015.append(all_sizes_df_2.loc[6081, \"ESTAB\" ])\n",
    "toCal2016.append(all_sizes_df_3.loc[6081, \"ESTAB\" ])\n",
    "\n",
    "outCal2014.append(all_sizes_df_1.loc[17031, \"ESTAB\" ])\n",
    "outCal2015.append(all_sizes_df_2.loc[17031, \"ESTAB\" ])\n",
    "outCal2016.append(all_sizes_df_3.loc[17031, \"ESTAB\" ])\n",
    "\n",
    "outCal2014.append(all_sizes_df_1.loc[36061, \"ESTAB\" ])\n",
    "outCal2015.append(all_sizes_df_2.loc[36061, \"ESTAB\" ])\n",
    "outCal2016.append(all_sizes_df_3.loc[36061, \"ESTAB\" ])\n",
    "\n",
    "outCal2014.append(all_sizes_df_1.loc[53033, \"ESTAB\" ])\n",
    "outCal2015.append(all_sizes_df_2.loc[53033, \"ESTAB\" ])\n",
    "outCal2016.append(all_sizes_df_3.loc[53033, \"ESTAB\" ])\n",
    "\n",
    "outCal2014.append(all_sizes_df_1.loc[36047, \"ESTAB\" ])\n",
    "outCal2015.append(all_sizes_df_2.loc[36047, \"ESTAB\" ])\n",
    "outCal2016.append(all_sizes_df_3.loc[36047, \"ESTAB\" ])\n",
    "\n",
    "outCal2014.append(all_sizes_df_1.loc[41051, \"ESTAB\" ])\n",
    "outCal2015.append(all_sizes_df_2.loc[41051, \"ESTAB\" ])\n",
    "outCal2016.append(all_sizes_df_3.loc[41051, \"ESTAB\" ])\n"
   ]
  },
  {
   "cell_type": "code",
   "execution_count": 3,
   "metadata": {},
   "outputs": [
    {
     "data": {
      "image/png": "[encoded data removed]",
      "text/plain": [
       "<Figure size 432x288 with 1 Axes>"
      ]
     },
     "metadata": {
      "needs_background": "light"
     },
     "output_type": "display_data"
    }
   ],
   "source": [
    "# set width of bar\n",
    "barWidth = 0.3\n",
    " \n",
    "# Set position of bar on X axis\n",
    "r1 = np.arange(len(toCal2014))\n",
    "r2 = [x + barWidth for x in r1]\n",
    "r3 = [x + barWidth for x in r2]\n",
    " \n",
    "# Make the plot\n",
    "plt.bar(r1, outCal2014, color='#0652ff', width=barWidth, edgecolor='white')\n",
    "plt.bar(r2, outCal2015, color='#74a662', width=barWidth, edgecolor='white')\n",
    "plt.bar(r3, outCal2016, color='#5729ce', width=barWidth, edgecolor='white')\n",
    " \n",
    "# Add xticks on the middle of the group bars\n",
    "plt.xlabel('County', fontweight='bold')\n",
    "plt.xticks([r + barWidth for r in range(len(toCal2014))], ['Cook', 'New York', 'King', 'Kings', 'Multnomah'])\n",
    " \n",
    "# Create legend & Show graphic\n",
    "plt.show()\n"
   ]
  },
  {
   "cell_type": "code",
   "execution_count": 4,
   "metadata": {},
   "outputs": [
    {
     "data": {
      "image/png": "[encoded data removed]",
      "text/plain": [
       "<Figure size 432x288 with 1 Axes>"
      ]
     },
     "metadata": {
      "needs_background": "light"
     },
     "output_type": "display_data"
    }
   ],
   "source": [
    "# set width of bar\n",
    "barWidth = 0.3\n",
    " \n",
    "# Set position of bar on X axis\n",
    "r1 = np.arange(len(toCal2014))\n",
    "r2 = [x + barWidth for x in r1]\n",
    "r3 = [x + barWidth for x in r2]\n",
    " \n",
    "# Make the plot\n",
    "plt.bar(r1, toCal2014, color='#0652ff', width=barWidth, edgecolor='white')\n",
    "plt.bar(r2, toCal2015, color='#74a662', width=barWidth, edgecolor='white')\n",
    "plt.bar(r3, toCal2016, color='#5729ce', width=barWidth, edgecolor='white')\n",
    " \n",
    "# Add xticks on the middle of the group bars\n",
    "plt.xlabel('County', fontweight='bold')\n",
    "plt.xticks([r + barWidth for r in range(len(toCal2014))], ['Los Angeles', 'Santa Clara', 'Alameda', 'Contra Costa', 'San Mateo'])\n",
    " \n",
    "# Create legend & Show graphic\n",
    "plt.show()\n"
   ]
  }
 ],
 "metadata": {
  "kernelspec": {
   "display_name": "Python 3",
   "language": "python",
   "name": "python3"
  },
  "language_info": {
   "codemirror_mode": {
    "name": "ipython",
    "version": 3
   },
   "file_extension": ".py",
   "mimetype": "text/x-python",
   "name": "python",
   "nbconvert_exporter": "python",
   "pygments_lexer": "ipython3",
   "version": "3.7.0"
  }
 },
 "nbformat": 4,
 "nbformat_minor": 2
}
