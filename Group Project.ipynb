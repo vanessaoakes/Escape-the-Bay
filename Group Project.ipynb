{
 "cells": [
  {
   "cell_type": "code",
   "execution_count": null,
   "metadata": {},
   "outputs": [],
   "source": [
    "import csv\n",
    "from matplotlib.ticker import FuncFormatter\n",
    "import matplotlib.pyplot as plt\n",
    "import pandas as pd\n",
    "import numpy as np"
   ]
  },
  {
   "cell_type": "code",
   "execution_count": null,
   "metadata": {},
   "outputs": [],
   "source": [
    "#Vanessa's CSV\n",
    "out_df = pd.read_csv('Quick Facts - Out of State.csv')\n",
    "california_df = pd.read_csv('Quick Facts - California.csv')\n",
    "\n",
    "#Emily's API\n",
    "\n",
    "\n",
    "#Emily's CSV\n",
    "csv_path = \"SF_ALL_OUT.csv\"\n",
    "sf_out_df = pd.read_csv(csv_path)\n",
    "\n",
    "#Rebecca's CSV\n",
    "\n",
    "#Stefan's CSV\n"
   ]
  },
  {
   "cell_type": "markdown",
   "metadata": {
    "slideshow": {
     "slide_type": "slide"
    }
   },
   "source": [
    "# Escape the Bay\n",
    "\n",
    "Emily Todd, Vanessa Oakes, Rebecca X, Stefan X.\n",
    "\n"
   ]
  },
  {
   "cell_type": "code",
   "execution_count": null,
   "metadata": {
    "slideshow": {
     "slide_type": "subslide"
    }
   },
   "outputs": [],
   "source": [
    "Research Question to Answer: What are the motiviating factors to move out of SF county?"
   ]
  },
  {
   "cell_type": "code",
   "execution_count": 2,
   "metadata": {
    "slideshow": {
     "slide_type": "slide"
    }
   },
   "outputs": [
    {
     "ename": "SyntaxError",
     "evalue": "invalid syntax (<ipython-input-2-e7f3a5d896a1>, line 1)",
     "output_type": "error",
     "traceback": [
      "\u001b[0;36m  File \u001b[0;32m\"<ipython-input-2-e7f3a5d896a1>\"\u001b[0;36m, line \u001b[0;32m1\u001b[0m\n\u001b[0;31m    Parameters:\u001b[0m\n\u001b[0m               ^\u001b[0m\n\u001b[0;31mSyntaxError\u001b[0m\u001b[0;31m:\u001b[0m invalid syntax\n"
     ]
    }
   ],
   "source": [
    "Parameters:\n",
    "Used latest data 2017 unless otherwise noted\n",
    "Although the majority of people leaving SF would move to nearby counties\n",
    "we have separated within California and Out of State.\n"
   ]
  },
  {
   "cell_type": "code",
   "execution_count": null,
   "metadata": {
    "slideshow": {
     "slide_type": "slide"
    }
   },
   "outputs": [],
   "source": [
    "Research:\n",
    "\n",
    "    We used census.gov and their datasets.\n",
    "    We also we able to grab their API."
   ]
  },
  {
   "cell_type": "code",
   "execution_count": 1,
   "metadata": {
    "slideshow": {
     "slide_type": "slide"
    }
   },
   "outputs": [
    {
     "ename": "SyntaxError",
     "evalue": "invalid syntax (<ipython-input-1-7aefb5218f7d>, line 1)",
     "output_type": "error",
     "traceback": [
      "\u001b[0;36m  File \u001b[0;32m\"<ipython-input-1-7aefb5218f7d>\"\u001b[0;36m, line \u001b[0;32m1\u001b[0m\n\u001b[0;31m    Housing:\u001b[0m\n\u001b[0m            ^\u001b[0m\n\u001b[0;31mSyntaxError\u001b[0m\u001b[0;31m:\u001b[0m invalid syntax\n"
     ]
    }
   ],
   "source": [
    "Housing:\n",
    "\n",
    "Why are they leaving? \n",
    "Where are they going?\n",
    "How's the housing market similar and different against SF County\n",
    "Who are they?\n",
    "\n",
    "_Insert Emily information"
   ]
  },
  {
   "cell_type": "code",
   "execution_count": null,
   "metadata": {},
   "outputs": [],
   "source": [
    "#Emily Counties\n",
    "ranked_sf_out_df = sf_out_df.sort_values(by='Total', ascending=False)\n",
    "sf_to_ca = ranked_sf_out_df.loc[ranked_sf_out_df[\"State Name\"] == \"California\",:]\n",
    "sf_to_ca.head(5)\n",
    "\n",
    "sf_not_ca = ranked_sf_out_df.loc[ranked_sf_out_df[\"State Name\"] != \"California\",:]\n",
    "sf_not_ca.head(5)"
   ]
  },
  {
   "cell_type": "code",
   "execution_count": null,
   "metadata": {
    "slideshow": {
     "slide_type": "slide"
    }
   },
   "outputs": [],
   "source": [
    "#Emily's CSV to show how she got in/out state\n",
    "Top 5 Counties in California\n",
    "California\n",
    "1. Alameda County\n",
    "2. San Mateo County\n",
    "3. Contra Costa County\n",
    "4. Los Angeles County\n",
    "5. Santa Clara County\n",
    "\n",
    "Top 5 Counties they leave outside of California\n",
    "Non – California\n",
    "1.\tNew York County (NY)\n",
    "2.\tKing County (Washington)\n",
    "3.\tMultnomah County (Oregon)\n",
    "4.\tKings County (New York)\n",
    "5.\tCook County (Illinois)\n"
   ]
  },
  {
   "cell_type": "code",
   "execution_count": null,
   "metadata": {
    "slideshow": {
     "slide_type": "slide"
    }
   },
   "outputs": [],
   "source": [
    "#Vanessa's info\n",
    "Generic:\n",
    "Who are the people leaving? \n",
    "Race / Ethnicity\n",
    "Gender / Age\n",
    "Marital Status"
   ]
  },
  {
   "cell_type": "code",
   "execution_count": null,
   "metadata": {},
   "outputs": [],
   "source": [
    "#Emily info\n",
    "Motivations\n",
    "Why are they leaving? \n",
    "Where are they going?\n",
    "How's the housing market similar and different against SF County"
   ]
  },
  {
   "cell_type": "code",
   "execution_count": null,
   "metadata": {
    "slideshow": {
     "slide_type": "slide"
    }
   },
   "outputs": [],
   "source": []
  },
  {
   "cell_type": "code",
   "execution_count": null,
   "metadata": {
    "slideshow": {
     "slide_type": "slide"
    }
   },
   "outputs": [],
   "source": [
    "Rebecca\n",
    "Income within 11 different counties\n",
    "-What's the status of median household income in SF against CA/Out\n",
    "    -Are people giving up anything\n",
    "-Commute?\n"
   ]
  },
  {
   "cell_type": "code",
   "execution_count": null,
   "metadata": {
    "slideshow": {
     "slide_type": "slide"
    }
   },
   "outputs": [],
   "source": [
    "Stefan\n",
    "Number of businesses information\n",
    "Employment\n",
    "#SF is not in the front of his graph\n",
    "#No clear explanation of what the graph's represent\n"
   ]
  },
  {
   "cell_type": "code",
   "execution_count": null,
   "metadata": {
    "slideshow": {
     "slide_type": "slide"
    }
   },
   "outputs": [],
   "source": [
    "References\n",
    "Conclusion"
   ]
  },
  {
   "cell_type": "code",
   "execution_count": null,
   "metadata": {
    "slideshow": {
     "slide_type": "slide"
    }
   },
   "outputs": [],
   "source": [
    "Keep in Mind:\n",
    "\n",
    "\n",
    "The questions you and your group found interesting, and what motivated you to answer them\n",
    "Where and how you found the data you used to answer these questions\n",
    "The data exploration and cleanup process (accompanied by your Jupyter Notebook)\n",
    "The analysis process (accompanied by your Jupyter Notebook)\n",
    "Your conclusions. This should include a numerical summary as well as visualizations of that summary\n",
    "Discuss the implications of your findings. This is where you get to have an open-ended discussion about what your findings \"mean\".\n"
   ]
  }
 ],
 "metadata": {
  "celltoolbar": "Slideshow",
  "kernelspec": {
   "display_name": "Python 3",
   "language": "python",
   "name": "python3"
  },
  "language_info": {
   "codemirror_mode": {
    "name": "ipython",
    "version": 3
   },
   "file_extension": ".py",
   "mimetype": "text/x-python",
   "name": "python",
   "nbconvert_exporter": "python",
   "pygments_lexer": "ipython3",
   "version": "3.7.2"
  }
 },
 "nbformat": 4,
 "nbformat_minor": 2
}
