{
 "cells": [
  {
   "cell_type": "markdown",
   "metadata": {},
   "source": [
    "### Housing metric comparison for top counties for SF migration"
   ]
  },
  {
   "cell_type": "code",
   "execution_count": 1,
   "metadata": {},
   "outputs": [],
   "source": [
    "# dependencies\n",
    "import matplotlib.pyplot as plt\n",
    "import requests\n",
    "import json\n",
    "import pandas as pd\n",
    "import numpy as np"
   ]
  },
  {
   "cell_type": "code",
   "execution_count": 2,
   "metadata": {},
   "outputs": [
    {
     "data": {
      "text/html": [
       "<div>\n",
       "<style scoped>\n",
       "    .dataframe tbody tr th:only-of-type {\n",
       "        vertical-align: middle;\n",
       "    }\n",
       "\n",
       "    .dataframe tbody tr th {\n",
       "        vertical-align: top;\n",
       "    }\n",
       "\n",
       "    .dataframe thead th {\n",
       "        text-align: right;\n",
       "    }\n",
       "</style>\n",
       "<table border=\"1\" class=\"dataframe\">\n",
       "  <thead>\n",
       "    <tr style=\"text-align: right;\">\n",
       "      <th></th>\n",
       "      <th>County Name</th>\n",
       "      <th>State_FIPS</th>\n",
       "      <th>County_FIPS</th>\n",
       "    </tr>\n",
       "  </thead>\n",
       "  <tbody>\n",
       "    <tr>\n",
       "      <th>0</th>\n",
       "      <td>San Francisco</td>\n",
       "      <td>06</td>\n",
       "      <td>075</td>\n",
       "    </tr>\n",
       "    <tr>\n",
       "      <th>1</th>\n",
       "      <td>Alameda</td>\n",
       "      <td>06</td>\n",
       "      <td>001</td>\n",
       "    </tr>\n",
       "    <tr>\n",
       "      <th>2</th>\n",
       "      <td>San Mateo</td>\n",
       "      <td>06</td>\n",
       "      <td>081</td>\n",
       "    </tr>\n",
       "    <tr>\n",
       "      <th>3</th>\n",
       "      <td>Contra Costa</td>\n",
       "      <td>06</td>\n",
       "      <td>013</td>\n",
       "    </tr>\n",
       "    <tr>\n",
       "      <th>4</th>\n",
       "      <td>Los Angeles</td>\n",
       "      <td>06</td>\n",
       "      <td>037</td>\n",
       "    </tr>\n",
       "    <tr>\n",
       "      <th>5</th>\n",
       "      <td>Santa Clara</td>\n",
       "      <td>06</td>\n",
       "      <td>085</td>\n",
       "    </tr>\n",
       "  </tbody>\n",
       "</table>\n",
       "</div>"
      ],
      "text/plain": [
       "     County Name State_FIPS County_FIPS\n",
       "0  San Francisco         06         075\n",
       "1        Alameda         06         001\n",
       "2      San Mateo         06         081\n",
       "3   Contra Costa         06         013\n",
       "4    Los Angeles         06         037\n",
       "5    Santa Clara         06         085"
      ]
     },
     "execution_count": 2,
     "metadata": {},
     "output_type": "execute_result"
    }
   ],
   "source": [
    "#dictionary for in-CA counties\n",
    "\n",
    "base_url = \"https://api.census.gov/data/2017/acs/acs1/profile\"\n",
    "\n",
    "ca_cty_name = [\"San Francisco\",\"Alameda\",\"San Mateo\",\"Contra Costa\",\"Los Angeles\",\"Santa Clara\"]\n",
    "ca_st_fips = [\"06\",\"06\",\"06\",\"06\",\"06\",\"06\"]\n",
    "ca_cty_fips = [\"075\",\"001\",\"081\",\"013\",\"037\",\"085\"]\n",
    "\n",
    "in_ca_dict = {\n",
    "    \"County Name\": ca_cty_name,\n",
    "    \"State_FIPS\": ca_st_fips,\n",
    "    \"County_FIPS\": ca_cty_fips\n",
    "}\n",
    "\n",
    "in_ca_df = pd.DataFrame(in_ca_dict)\n",
    "in_ca_df"
   ]
  },
  {
   "cell_type": "code",
   "execution_count": 3,
   "metadata": {},
   "outputs": [
    {
     "name": "stdout",
     "output_type": "stream",
     "text": [
      "[1104100, 781000, 1087100, 642300, 588700, 971300]\n"
     ]
    },
    {
     "data": {
      "text/html": [
       "<div>\n",
       "<style scoped>\n",
       "    .dataframe tbody tr th:only-of-type {\n",
       "        vertical-align: middle;\n",
       "    }\n",
       "\n",
       "    .dataframe tbody tr th {\n",
       "        vertical-align: top;\n",
       "    }\n",
       "\n",
       "    .dataframe thead th {\n",
       "        text-align: right;\n",
       "    }\n",
       "</style>\n",
       "<table border=\"1\" class=\"dataframe\">\n",
       "  <thead>\n",
       "    <tr style=\"text-align: right;\">\n",
       "      <th></th>\n",
       "      <th>County Name</th>\n",
       "      <th>State_FIPS</th>\n",
       "      <th>County_FIPS</th>\n",
       "      <th>Med_Home_Value</th>\n",
       "    </tr>\n",
       "  </thead>\n",
       "  <tbody>\n",
       "    <tr>\n",
       "      <th>0</th>\n",
       "      <td>San Francisco</td>\n",
       "      <td>06</td>\n",
       "      <td>075</td>\n",
       "      <td>1104100</td>\n",
       "    </tr>\n",
       "    <tr>\n",
       "      <th>1</th>\n",
       "      <td>Alameda</td>\n",
       "      <td>06</td>\n",
       "      <td>001</td>\n",
       "      <td>781000</td>\n",
       "    </tr>\n",
       "    <tr>\n",
       "      <th>2</th>\n",
       "      <td>San Mateo</td>\n",
       "      <td>06</td>\n",
       "      <td>081</td>\n",
       "      <td>1087100</td>\n",
       "    </tr>\n",
       "    <tr>\n",
       "      <th>3</th>\n",
       "      <td>Contra Costa</td>\n",
       "      <td>06</td>\n",
       "      <td>013</td>\n",
       "      <td>642300</td>\n",
       "    </tr>\n",
       "    <tr>\n",
       "      <th>4</th>\n",
       "      <td>Los Angeles</td>\n",
       "      <td>06</td>\n",
       "      <td>037</td>\n",
       "      <td>588700</td>\n",
       "    </tr>\n",
       "    <tr>\n",
       "      <th>5</th>\n",
       "      <td>Santa Clara</td>\n",
       "      <td>06</td>\n",
       "      <td>085</td>\n",
       "      <td>971300</td>\n",
       "    </tr>\n",
       "  </tbody>\n",
       "</table>\n",
       "</div>"
      ],
      "text/plain": [
       "     County Name State_FIPS County_FIPS  Med_Home_Value\n",
       "0  San Francisco         06         075         1104100\n",
       "1        Alameda         06         001          781000\n",
       "2      San Mateo         06         081         1087100\n",
       "3   Contra Costa         06         013          642300\n",
       "4    Los Angeles         06         037          588700\n",
       "5    Santa Clara         06         085          971300"
      ]
     },
     "execution_count": 3,
     "metadata": {},
     "output_type": "execute_result"
    }
   ],
   "source": [
    "#collect median home values by county\n",
    "\n",
    "ca_med_home_val = []\n",
    "med_home_var = \"DP04_0089E\"\n",
    "    \n",
    "for county_id, state_id in zip(ca_cty_fips, ca_st_fips):\n",
    "    med_home_val = requests.get(f\"{base_url}?get={med_home_var}&for=county:{county_id}&in=state:{state_id}\").json()\n",
    "    ca_med_home_val.append(int(med_home_val[1][0]))\n",
    "    \n",
    "print(ca_med_home_val)\n",
    "in_ca_df[\"Med_Home_Value\"] = ca_med_home_val\n",
    "in_ca_df"
   ]
  },
  {
   "cell_type": "code",
   "execution_count": 4,
   "metadata": {},
   "outputs": [
    {
     "data": {
      "text/plain": [
       "(0, 1200000)"
      ]
     },
     "execution_count": 4,
     "metadata": {},
     "output_type": "execute_result"
    },
    {
     "data": {
      "image/png": "[encoded data removed]",
      "text/plain": [
       "<Figure size 432x288 with 1 Axes>"
      ]
     },
     "metadata": {
      "needs_background": "light"
     },
     "output_type": "display_data"
    }
   ],
   "source": [
    "#plot in-CA median home values\n",
    "x_axis = np.arange(len(ca_cty_name))\n",
    "tick_locations = [x for x in x_axis]\n",
    "plt.bar(x_axis, ca_med_home_val)\n",
    "plt.xticks(tick_locations, ca_cty_name, rotation=45)\n",
    "\n",
    "plt.title(\"Median Home Value by CA County\")\n",
    "plt.xlabel(\"County Name\")\n",
    "plt.ylabel(\"Median Home Value ($)\")\n",
    "plt.ylim(0, 1200000)"
   ]
  },
  {
   "cell_type": "code",
   "execution_count": 5,
   "metadata": {},
   "outputs": [
    {
     "data": {
      "text/html": [
       "<div>\n",
       "<style scoped>\n",
       "    .dataframe tbody tr th:only-of-type {\n",
       "        vertical-align: middle;\n",
       "    }\n",
       "\n",
       "    .dataframe tbody tr th {\n",
       "        vertical-align: top;\n",
       "    }\n",
       "\n",
       "    .dataframe thead th {\n",
       "        text-align: right;\n",
       "    }\n",
       "</style>\n",
       "<table border=\"1\" class=\"dataframe\">\n",
       "  <thead>\n",
       "    <tr style=\"text-align: right;\">\n",
       "      <th></th>\n",
       "      <th>County Name</th>\n",
       "      <th>State_FIPS</th>\n",
       "      <th>County_FIPS</th>\n",
       "    </tr>\n",
       "  </thead>\n",
       "  <tbody>\n",
       "    <tr>\n",
       "      <th>0</th>\n",
       "      <td>San Francisco</td>\n",
       "      <td>06</td>\n",
       "      <td>075</td>\n",
       "    </tr>\n",
       "    <tr>\n",
       "      <th>1</th>\n",
       "      <td>New York County</td>\n",
       "      <td>36</td>\n",
       "      <td>061</td>\n",
       "    </tr>\n",
       "    <tr>\n",
       "      <th>2</th>\n",
       "      <td>King County</td>\n",
       "      <td>53</td>\n",
       "      <td>033</td>\n",
       "    </tr>\n",
       "    <tr>\n",
       "      <th>3</th>\n",
       "      <td>Multnomah County</td>\n",
       "      <td>41</td>\n",
       "      <td>051</td>\n",
       "    </tr>\n",
       "    <tr>\n",
       "      <th>4</th>\n",
       "      <td>Kings County</td>\n",
       "      <td>36</td>\n",
       "      <td>047</td>\n",
       "    </tr>\n",
       "    <tr>\n",
       "      <th>5</th>\n",
       "      <td>Cook County</td>\n",
       "      <td>17</td>\n",
       "      <td>031</td>\n",
       "    </tr>\n",
       "  </tbody>\n",
       "</table>\n",
       "</div>"
      ],
      "text/plain": [
       "        County Name State_FIPS County_FIPS\n",
       "0     San Francisco         06         075\n",
       "1   New York County         36         061\n",
       "2       King County         53         033\n",
       "3  Multnomah County         41         051\n",
       "4      Kings County         36         047\n",
       "5       Cook County         17         031"
      ]
     },
     "execution_count": 5,
     "metadata": {},
     "output_type": "execute_result"
    }
   ],
   "source": [
    "#dictionary for non-CA counties\n",
    "\n",
    "nonca_cty_name = [\"San Francisco\",\"New York County\",\"King County\",\"Multnomah County\",\"Kings County\",\"Cook County\"]\n",
    "nonca_st_fips = [\"06\",\"36\",\"53\",\"41\",\"36\",\"17\"]\n",
    "nonca_cty_fips = [\"075\",\"061\",\"033\",\"051\",\"047\",\"031\"]\n",
    "\n",
    "non_ca_dict = {\n",
    "    \"County Name\": nonca_cty_name,\n",
    "    \"State_FIPS\": nonca_st_fips,\n",
    "    \"County_FIPS\": nonca_cty_fips\n",
    "}\n",
    "\n",
    "non_ca_df = pd.DataFrame(non_ca_dict)\n",
    "non_ca_df"
   ]
  },
  {
   "cell_type": "code",
   "execution_count": 6,
   "metadata": {},
   "outputs": [
    {
     "name": "stdout",
     "output_type": "stream",
     "text": [
      "[1104100, 976100, 563600, 393900, 701800, 247600]\n"
     ]
    },
    {
     "data": {
      "text/html": [
       "<div>\n",
       "<style scoped>\n",
       "    .dataframe tbody tr th:only-of-type {\n",
       "        vertical-align: middle;\n",
       "    }\n",
       "\n",
       "    .dataframe tbody tr th {\n",
       "        vertical-align: top;\n",
       "    }\n",
       "\n",
       "    .dataframe thead th {\n",
       "        text-align: right;\n",
       "    }\n",
       "</style>\n",
       "<table border=\"1\" class=\"dataframe\">\n",
       "  <thead>\n",
       "    <tr style=\"text-align: right;\">\n",
       "      <th></th>\n",
       "      <th>County Name</th>\n",
       "      <th>State_FIPS</th>\n",
       "      <th>County_FIPS</th>\n",
       "      <th>Med_Home_Value</th>\n",
       "    </tr>\n",
       "  </thead>\n",
       "  <tbody>\n",
       "    <tr>\n",
       "      <th>0</th>\n",
       "      <td>San Francisco</td>\n",
       "      <td>06</td>\n",
       "      <td>075</td>\n",
       "      <td>1104100</td>\n",
       "    </tr>\n",
       "    <tr>\n",
       "      <th>1</th>\n",
       "      <td>New York County</td>\n",
       "      <td>36</td>\n",
       "      <td>061</td>\n",
       "      <td>976100</td>\n",
       "    </tr>\n",
       "    <tr>\n",
       "      <th>2</th>\n",
       "      <td>King County</td>\n",
       "      <td>53</td>\n",
       "      <td>033</td>\n",
       "      <td>563600</td>\n",
       "    </tr>\n",
       "    <tr>\n",
       "      <th>3</th>\n",
       "      <td>Multnomah County</td>\n",
       "      <td>41</td>\n",
       "      <td>051</td>\n",
       "      <td>393900</td>\n",
       "    </tr>\n",
       "    <tr>\n",
       "      <th>4</th>\n",
       "      <td>Kings County</td>\n",
       "      <td>36</td>\n",
       "      <td>047</td>\n",
       "      <td>701800</td>\n",
       "    </tr>\n",
       "    <tr>\n",
       "      <th>5</th>\n",
       "      <td>Cook County</td>\n",
       "      <td>17</td>\n",
       "      <td>031</td>\n",
       "      <td>247600</td>\n",
       "    </tr>\n",
       "  </tbody>\n",
       "</table>\n",
       "</div>"
      ],
      "text/plain": [
       "        County Name State_FIPS County_FIPS  Med_Home_Value\n",
       "0     San Francisco         06         075         1104100\n",
       "1   New York County         36         061          976100\n",
       "2       King County         53         033          563600\n",
       "3  Multnomah County         41         051          393900\n",
       "4      Kings County         36         047          701800\n",
       "5       Cook County         17         031          247600"
      ]
     },
     "execution_count": 6,
     "metadata": {},
     "output_type": "execute_result"
    }
   ],
   "source": [
    "#collect median home values by county\n",
    "\n",
    "non_ca_med_home_val = []\n",
    "med_home_var = \"DP04_0089E\"\n",
    "\n",
    "for county_id, state_id in zip(nonca_cty_fips, nonca_st_fips):\n",
    "    med_home_val = requests.get(f\"{base_url}?get={med_home_var}&for=county:{county_id}&in=state:{state_id}\").json()\n",
    "    non_ca_med_home_val.append(int(med_home_val[1][0]))\n",
    "    \n",
    "print(non_ca_med_home_val)\n",
    "non_ca_df[\"Med_Home_Value\"] = non_ca_med_home_val\n",
    "non_ca_df"
   ]
  },
  {
   "cell_type": "code",
   "execution_count": 7,
   "metadata": {},
   "outputs": [
    {
     "data": {
      "text/plain": [
       "(0, 1200000)"
      ]
     },
     "execution_count": 7,
     "metadata": {},
     "output_type": "execute_result"
    },
    {
     "data": {
      "image/png": "[encoded data removed]",
      "text/plain": [
       "<Figure size 432x288 with 1 Axes>"
      ]
     },
     "metadata": {
      "needs_background": "light"
     },
     "output_type": "display_data"
    }
   ],
   "source": [
    "#plot non-CA median home values\n",
    "\n",
    "x_axis = np.arange(len(nonca_cty_name))\n",
    "tick_locations = [x for x in x_axis]\n",
    "plt.bar(x_axis, non_ca_med_home_val)\n",
    "plt.xticks(tick_locations, nonca_cty_name, rotation=45)\n",
    "\n",
    "plt.title(\"Median Home Value by non-CA County\")\n",
    "plt.xlabel(\"County Name\")\n",
    "plt.ylabel(\"Median Home Value ($)\")\n",
    "plt.ylim(0, 1200000)"
   ]
  },
  {
   "cell_type": "code",
   "execution_count": 8,
   "metadata": {},
   "outputs": [
    {
     "name": "stdout",
     "output_type": "stream",
     "text": [
      "[1836, 1745, 2259, 1766, 1402, 2229]\n"
     ]
    },
    {
     "data": {
      "text/html": [
       "<div>\n",
       "<style scoped>\n",
       "    .dataframe tbody tr th:only-of-type {\n",
       "        vertical-align: middle;\n",
       "    }\n",
       "\n",
       "    .dataframe tbody tr th {\n",
       "        vertical-align: top;\n",
       "    }\n",
       "\n",
       "    .dataframe thead th {\n",
       "        text-align: right;\n",
       "    }\n",
       "</style>\n",
       "<table border=\"1\" class=\"dataframe\">\n",
       "  <thead>\n",
       "    <tr style=\"text-align: right;\">\n",
       "      <th></th>\n",
       "      <th>County Name</th>\n",
       "      <th>State_FIPS</th>\n",
       "      <th>County_FIPS</th>\n",
       "      <th>Med_Home_Value</th>\n",
       "      <th>Med_Rent</th>\n",
       "    </tr>\n",
       "  </thead>\n",
       "  <tbody>\n",
       "    <tr>\n",
       "      <th>0</th>\n",
       "      <td>San Francisco</td>\n",
       "      <td>06</td>\n",
       "      <td>075</td>\n",
       "      <td>1104100</td>\n",
       "      <td>1836</td>\n",
       "    </tr>\n",
       "    <tr>\n",
       "      <th>1</th>\n",
       "      <td>Alameda</td>\n",
       "      <td>06</td>\n",
       "      <td>001</td>\n",
       "      <td>781000</td>\n",
       "      <td>1745</td>\n",
       "    </tr>\n",
       "    <tr>\n",
       "      <th>2</th>\n",
       "      <td>San Mateo</td>\n",
       "      <td>06</td>\n",
       "      <td>081</td>\n",
       "      <td>1087100</td>\n",
       "      <td>2259</td>\n",
       "    </tr>\n",
       "    <tr>\n",
       "      <th>3</th>\n",
       "      <td>Contra Costa</td>\n",
       "      <td>06</td>\n",
       "      <td>013</td>\n",
       "      <td>642300</td>\n",
       "      <td>1766</td>\n",
       "    </tr>\n",
       "    <tr>\n",
       "      <th>4</th>\n",
       "      <td>Los Angeles</td>\n",
       "      <td>06</td>\n",
       "      <td>037</td>\n",
       "      <td>588700</td>\n",
       "      <td>1402</td>\n",
       "    </tr>\n",
       "    <tr>\n",
       "      <th>5</th>\n",
       "      <td>Santa Clara</td>\n",
       "      <td>06</td>\n",
       "      <td>085</td>\n",
       "      <td>971300</td>\n",
       "      <td>2229</td>\n",
       "    </tr>\n",
       "  </tbody>\n",
       "</table>\n",
       "</div>"
      ],
      "text/plain": [
       "     County Name State_FIPS County_FIPS  Med_Home_Value  Med_Rent\n",
       "0  San Francisco         06         075         1104100      1836\n",
       "1        Alameda         06         001          781000      1745\n",
       "2      San Mateo         06         081         1087100      2259\n",
       "3   Contra Costa         06         013          642300      1766\n",
       "4    Los Angeles         06         037          588700      1402\n",
       "5    Santa Clara         06         085          971300      2229"
      ]
     },
     "execution_count": 8,
     "metadata": {},
     "output_type": "execute_result"
    }
   ],
   "source": [
    "#follow the same process for median gross rents\n",
    "\n",
    "ca_med_rent = []\n",
    "med_rent_var = \"DP04_0134E\"\n",
    "    \n",
    "for county_id, state_id in zip(ca_cty_fips, ca_st_fips):\n",
    "    med_rent = requests.get(f\"{base_url}?get={med_rent_var}&for=county:{county_id}&in=state:{state_id}\").json()\n",
    "    ca_med_rent.append(int(med_rent[1][0]))\n",
    "    \n",
    "print(ca_med_rent)\n",
    "in_ca_df[\"Med_Rent\"] = ca_med_rent\n",
    "in_ca_df"
   ]
  },
  {
   "cell_type": "code",
   "execution_count": 9,
   "metadata": {},
   "outputs": [
    {
     "data": {
      "text/plain": [
       "(0, 2500)"
      ]
     },
     "execution_count": 9,
     "metadata": {},
     "output_type": "execute_result"
    },
    {
     "data": {
      "image/png": "[encoded data removed]",
      "text/plain": [
       "<Figure size 432x288 with 1 Axes>"
      ]
     },
     "metadata": {
      "needs_background": "light"
     },
     "output_type": "display_data"
    }
   ],
   "source": [
    "x_axis = np.arange(len(ca_cty_name))\n",
    "tick_locations = [x for x in x_axis]\n",
    "plt.bar(x_axis, ca_med_rent)\n",
    "plt.xticks(tick_locations, ca_cty_name, rotation=45)\n",
    "\n",
    "plt.title(\"Median Rent by CA County\")\n",
    "plt.xlabel(\"County Name\")\n",
    "plt.ylabel(\"Median Rent ($)\")\n",
    "plt.ylim(0, 2500)"
   ]
  },
  {
   "cell_type": "code",
   "execution_count": 10,
   "metadata": {},
   "outputs": [
    {
     "name": "stdout",
     "output_type": "stream",
     "text": [
      "[1836, 1601, 1555, 1199, 1367, 1082]\n"
     ]
    },
    {
     "data": {
      "text/html": [
       "<div>\n",
       "<style scoped>\n",
       "    .dataframe tbody tr th:only-of-type {\n",
       "        vertical-align: middle;\n",
       "    }\n",
       "\n",
       "    .dataframe tbody tr th {\n",
       "        vertical-align: top;\n",
       "    }\n",
       "\n",
       "    .dataframe thead th {\n",
       "        text-align: right;\n",
       "    }\n",
       "</style>\n",
       "<table border=\"1\" class=\"dataframe\">\n",
       "  <thead>\n",
       "    <tr style=\"text-align: right;\">\n",
       "      <th></th>\n",
       "      <th>County Name</th>\n",
       "      <th>State_FIPS</th>\n",
       "      <th>County_FIPS</th>\n",
       "      <th>Med_Home_Value</th>\n",
       "      <th>Med_Rent</th>\n",
       "    </tr>\n",
       "  </thead>\n",
       "  <tbody>\n",
       "    <tr>\n",
       "      <th>0</th>\n",
       "      <td>San Francisco</td>\n",
       "      <td>06</td>\n",
       "      <td>075</td>\n",
       "      <td>1104100</td>\n",
       "      <td>1836</td>\n",
       "    </tr>\n",
       "    <tr>\n",
       "      <th>1</th>\n",
       "      <td>New York County</td>\n",
       "      <td>36</td>\n",
       "      <td>061</td>\n",
       "      <td>976100</td>\n",
       "      <td>1601</td>\n",
       "    </tr>\n",
       "    <tr>\n",
       "      <th>2</th>\n",
       "      <td>King County</td>\n",
       "      <td>53</td>\n",
       "      <td>033</td>\n",
       "      <td>563600</td>\n",
       "      <td>1555</td>\n",
       "    </tr>\n",
       "    <tr>\n",
       "      <th>3</th>\n",
       "      <td>Multnomah County</td>\n",
       "      <td>41</td>\n",
       "      <td>051</td>\n",
       "      <td>393900</td>\n",
       "      <td>1199</td>\n",
       "    </tr>\n",
       "    <tr>\n",
       "      <th>4</th>\n",
       "      <td>Kings County</td>\n",
       "      <td>36</td>\n",
       "      <td>047</td>\n",
       "      <td>701800</td>\n",
       "      <td>1367</td>\n",
       "    </tr>\n",
       "    <tr>\n",
       "      <th>5</th>\n",
       "      <td>Cook County</td>\n",
       "      <td>17</td>\n",
       "      <td>031</td>\n",
       "      <td>247600</td>\n",
       "      <td>1082</td>\n",
       "    </tr>\n",
       "  </tbody>\n",
       "</table>\n",
       "</div>"
      ],
      "text/plain": [
       "        County Name State_FIPS County_FIPS  Med_Home_Value  Med_Rent\n",
       "0     San Francisco         06         075         1104100      1836\n",
       "1   New York County         36         061          976100      1601\n",
       "2       King County         53         033          563600      1555\n",
       "3  Multnomah County         41         051          393900      1199\n",
       "4      Kings County         36         047          701800      1367\n",
       "5       Cook County         17         031          247600      1082"
      ]
     },
     "execution_count": 10,
     "metadata": {},
     "output_type": "execute_result"
    }
   ],
   "source": [
    "non_ca_med_rent = []\n",
    "med_rent_var = \"DP04_0134E\"\n",
    "\n",
    "for county_id, state_id in zip(nonca_cty_fips, nonca_st_fips):\n",
    "    med_rent= requests.get(f\"{base_url}?get={med_rent_var}&for=county:{county_id}&in=state:{state_id}\").json()\n",
    "    non_ca_med_rent.append(int(med_rent[1][0]))\n",
    "    \n",
    "print(non_ca_med_rent)\n",
    "non_ca_df[\"Med_Rent\"] = non_ca_med_rent\n",
    "non_ca_df"
   ]
  },
  {
   "cell_type": "code",
   "execution_count": 11,
   "metadata": {},
   "outputs": [
    {
     "data": {
      "text/plain": [
       "(0, 2500)"
      ]
     },
     "execution_count": 11,
     "metadata": {},
     "output_type": "execute_result"
    },
    {
     "data": {
      "image/png": "[encoded data removed]",
      "text/plain": [
       "<Figure size 432x288 with 1 Axes>"
      ]
     },
     "metadata": {
      "needs_background": "light"
     },
     "output_type": "display_data"
    }
   ],
   "source": [
    "x_axis = np.arange(len(nonca_cty_name))\n",
    "tick_locations = [x for x in x_axis]\n",
    "plt.bar(x_axis, non_ca_med_rent)\n",
    "plt.xticks(tick_locations, nonca_cty_name, rotation=45)\n",
    "\n",
    "plt.title(\"Median Rent by non-CA County\")\n",
    "plt.xlabel(\"County Name\")\n",
    "plt.ylabel(\"Median Home Value ($)\")\n",
    "plt.ylim(0, 2500)"
   ]
  },
  {
   "cell_type": "code",
   "execution_count": 12,
   "metadata": {},
   "outputs": [
    {
     "name": "stdout",
     "output_type": "stream",
     "text": [
      "[36.5, 53.3, 59.1, 67.8, 45.6, 56.8]\n"
     ]
    },
    {
     "data": {
      "text/html": [
       "<div>\n",
       "<style scoped>\n",
       "    .dataframe tbody tr th:only-of-type {\n",
       "        vertical-align: middle;\n",
       "    }\n",
       "\n",
       "    .dataframe tbody tr th {\n",
       "        vertical-align: top;\n",
       "    }\n",
       "\n",
       "    .dataframe thead th {\n",
       "        text-align: right;\n",
       "    }\n",
       "</style>\n",
       "<table border=\"1\" class=\"dataframe\">\n",
       "  <thead>\n",
       "    <tr style=\"text-align: right;\">\n",
       "      <th></th>\n",
       "      <th>County Name</th>\n",
       "      <th>State_FIPS</th>\n",
       "      <th>County_FIPS</th>\n",
       "      <th>Med_Home_Value</th>\n",
       "      <th>Med_Rent</th>\n",
       "      <th>Home Own Rate</th>\n",
       "    </tr>\n",
       "  </thead>\n",
       "  <tbody>\n",
       "    <tr>\n",
       "      <th>0</th>\n",
       "      <td>San Francisco</td>\n",
       "      <td>06</td>\n",
       "      <td>075</td>\n",
       "      <td>1104100</td>\n",
       "      <td>1836</td>\n",
       "      <td>36.5</td>\n",
       "    </tr>\n",
       "    <tr>\n",
       "      <th>1</th>\n",
       "      <td>Alameda</td>\n",
       "      <td>06</td>\n",
       "      <td>001</td>\n",
       "      <td>781000</td>\n",
       "      <td>1745</td>\n",
       "      <td>53.3</td>\n",
       "    </tr>\n",
       "    <tr>\n",
       "      <th>2</th>\n",
       "      <td>San Mateo</td>\n",
       "      <td>06</td>\n",
       "      <td>081</td>\n",
       "      <td>1087100</td>\n",
       "      <td>2259</td>\n",
       "      <td>59.1</td>\n",
       "    </tr>\n",
       "    <tr>\n",
       "      <th>3</th>\n",
       "      <td>Contra Costa</td>\n",
       "      <td>06</td>\n",
       "      <td>013</td>\n",
       "      <td>642300</td>\n",
       "      <td>1766</td>\n",
       "      <td>67.8</td>\n",
       "    </tr>\n",
       "    <tr>\n",
       "      <th>4</th>\n",
       "      <td>Los Angeles</td>\n",
       "      <td>06</td>\n",
       "      <td>037</td>\n",
       "      <td>588700</td>\n",
       "      <td>1402</td>\n",
       "      <td>45.6</td>\n",
       "    </tr>\n",
       "    <tr>\n",
       "      <th>5</th>\n",
       "      <td>Santa Clara</td>\n",
       "      <td>06</td>\n",
       "      <td>085</td>\n",
       "      <td>971300</td>\n",
       "      <td>2229</td>\n",
       "      <td>56.8</td>\n",
       "    </tr>\n",
       "  </tbody>\n",
       "</table>\n",
       "</div>"
      ],
      "text/plain": [
       "     County Name State_FIPS County_FIPS  Med_Home_Value  Med_Rent  \\\n",
       "0  San Francisco         06         075         1104100      1836   \n",
       "1        Alameda         06         001          781000      1745   \n",
       "2      San Mateo         06         081         1087100      2259   \n",
       "3   Contra Costa         06         013          642300      1766   \n",
       "4    Los Angeles         06         037          588700      1402   \n",
       "5    Santa Clara         06         085          971300      2229   \n",
       "\n",
       "   Home Own Rate  \n",
       "0           36.5  \n",
       "1           53.3  \n",
       "2           59.1  \n",
       "3           67.8  \n",
       "4           45.6  \n",
       "5           56.8  "
      ]
     },
     "execution_count": 12,
     "metadata": {},
     "output_type": "execute_result"
    }
   ],
   "source": [
    "#follow the same process for home owner rate\n",
    "\n",
    "ca_own_rate = []\n",
    "home_own_var = \"DP04_0046PE\"\n",
    "    \n",
    "for county_id, state_id in zip(ca_cty_fips, ca_st_fips):\n",
    "    own_rate = requests.get(f\"{base_url}?get={home_own_var}&for=county:{county_id}&in=state:{state_id}\").json()\n",
    "    ca_own_rate.append(float(own_rate[1][0]))\n",
    "    \n",
    "print(ca_own_rate)\n",
    "in_ca_df[\"Home Own Rate\"] = ca_own_rate\n",
    "in_ca_df"
   ]
  },
  {
   "cell_type": "code",
   "execution_count": 13,
   "metadata": {},
   "outputs": [
    {
     "data": {
      "text/plain": [
       "(0, 75)"
      ]
     },
     "execution_count": 13,
     "metadata": {},
     "output_type": "execute_result"
    },
    {
     "data": {
      "image/png": "[encoded data removed]",
      "text/plain": [
       "<Figure size 432x288 with 1 Axes>"
      ]
     },
     "metadata": {
      "needs_background": "light"
     },
     "output_type": "display_data"
    }
   ],
   "source": [
    "x_axis = np.arange(len(ca_cty_name))\n",
    "tick_locations = [x for x in x_axis]\n",
    "plt.bar(x_axis, ca_own_rate)\n",
    "plt.xticks(tick_locations, ca_cty_name, rotation=45)\n",
    "\n",
    "plt.title(\"Home Ownership Rate by CA County\")\n",
    "plt.xlabel(\"County Name\")\n",
    "plt.ylabel(\"Home Ownership Rate (%)\")\n",
    "plt.ylim(0, 75)"
   ]
  },
  {
   "cell_type": "code",
   "execution_count": 14,
   "metadata": {},
   "outputs": [
    {
     "name": "stdout",
     "output_type": "stream",
     "text": [
      "[36.5, 24.7, 56.6, 55.5, 30.4, 56.4]\n"
     ]
    },
    {
     "data": {
      "text/html": [
       "<div>\n",
       "<style scoped>\n",
       "    .dataframe tbody tr th:only-of-type {\n",
       "        vertical-align: middle;\n",
       "    }\n",
       "\n",
       "    .dataframe tbody tr th {\n",
       "        vertical-align: top;\n",
       "    }\n",
       "\n",
       "    .dataframe thead th {\n",
       "        text-align: right;\n",
       "    }\n",
       "</style>\n",
       "<table border=\"1\" class=\"dataframe\">\n",
       "  <thead>\n",
       "    <tr style=\"text-align: right;\">\n",
       "      <th></th>\n",
       "      <th>County Name</th>\n",
       "      <th>State_FIPS</th>\n",
       "      <th>County_FIPS</th>\n",
       "      <th>Med_Home_Value</th>\n",
       "      <th>Med_Rent</th>\n",
       "      <th>Home Own Rate</th>\n",
       "    </tr>\n",
       "  </thead>\n",
       "  <tbody>\n",
       "    <tr>\n",
       "      <th>0</th>\n",
       "      <td>San Francisco</td>\n",
       "      <td>06</td>\n",
       "      <td>075</td>\n",
       "      <td>1104100</td>\n",
       "      <td>1836</td>\n",
       "      <td>36.5</td>\n",
       "    </tr>\n",
       "    <tr>\n",
       "      <th>1</th>\n",
       "      <td>New York County</td>\n",
       "      <td>36</td>\n",
       "      <td>061</td>\n",
       "      <td>976100</td>\n",
       "      <td>1601</td>\n",
       "      <td>24.7</td>\n",
       "    </tr>\n",
       "    <tr>\n",
       "      <th>2</th>\n",
       "      <td>King County</td>\n",
       "      <td>53</td>\n",
       "      <td>033</td>\n",
       "      <td>563600</td>\n",
       "      <td>1555</td>\n",
       "      <td>56.6</td>\n",
       "    </tr>\n",
       "    <tr>\n",
       "      <th>3</th>\n",
       "      <td>Multnomah County</td>\n",
       "      <td>41</td>\n",
       "      <td>051</td>\n",
       "      <td>393900</td>\n",
       "      <td>1199</td>\n",
       "      <td>55.5</td>\n",
       "    </tr>\n",
       "    <tr>\n",
       "      <th>4</th>\n",
       "      <td>Kings County</td>\n",
       "      <td>36</td>\n",
       "      <td>047</td>\n",
       "      <td>701800</td>\n",
       "      <td>1367</td>\n",
       "      <td>30.4</td>\n",
       "    </tr>\n",
       "    <tr>\n",
       "      <th>5</th>\n",
       "      <td>Cook County</td>\n",
       "      <td>17</td>\n",
       "      <td>031</td>\n",
       "      <td>247600</td>\n",
       "      <td>1082</td>\n",
       "      <td>56.4</td>\n",
       "    </tr>\n",
       "  </tbody>\n",
       "</table>\n",
       "</div>"
      ],
      "text/plain": [
       "        County Name State_FIPS County_FIPS  Med_Home_Value  Med_Rent  \\\n",
       "0     San Francisco         06         075         1104100      1836   \n",
       "1   New York County         36         061          976100      1601   \n",
       "2       King County         53         033          563600      1555   \n",
       "3  Multnomah County         41         051          393900      1199   \n",
       "4      Kings County         36         047          701800      1367   \n",
       "5       Cook County         17         031          247600      1082   \n",
       "\n",
       "   Home Own Rate  \n",
       "0           36.5  \n",
       "1           24.7  \n",
       "2           56.6  \n",
       "3           55.5  \n",
       "4           30.4  \n",
       "5           56.4  "
      ]
     },
     "execution_count": 14,
     "metadata": {},
     "output_type": "execute_result"
    }
   ],
   "source": [
    "nonca_own_rate = []\n",
    "home_own_var = \"DP04_0046PE\"\n",
    "    \n",
    "for county_id, state_id in zip(nonca_cty_fips, nonca_st_fips):\n",
    "    own_rate = requests.get(f\"{base_url}?get={home_own_var}&for=county:{county_id}&in=state:{state_id}\").json()\n",
    "    nonca_own_rate.append(float(own_rate[1][0]))\n",
    "    \n",
    "print(nonca_own_rate)\n",
    "non_ca_df[\"Home Own Rate\"] = nonca_own_rate\n",
    "non_ca_df"
   ]
  },
  {
   "cell_type": "code",
   "execution_count": 15,
   "metadata": {},
   "outputs": [
    {
     "data": {
      "text/plain": [
       "(0, 75)"
      ]
     },
     "execution_count": 15,
     "metadata": {},
     "output_type": "execute_result"
    },
    {
     "data": {
      "image/png": "[encoded data removed]",
      "text/plain": [
       "<Figure size 432x288 with 1 Axes>"
      ]
     },
     "metadata": {
      "needs_background": "light"
     },
     "output_type": "display_data"
    }
   ],
   "source": [
    "x_axis = np.arange(len(nonca_cty_name))\n",
    "tick_locations = [x for x in x_axis]\n",
    "plt.bar(x_axis, nonca_own_rate)\n",
    "plt.xticks(tick_locations, nonca_cty_name, rotation=45)\n",
    "\n",
    "plt.title(\"Home Ownership Rate by non-CA County\")\n",
    "plt.xlabel(\"County Name\")\n",
    "plt.ylabel(\"Home Ownership Rate (%)\")\n",
    "plt.ylim(0, 75)"
   ]
  },
  {
   "cell_type": "code",
   "execution_count": null,
   "metadata": {},
   "outputs": [],
   "source": []
  }
 ],
 "metadata": {
  "kernelspec": {
   "display_name": "Python 3",
   "language": "python",
   "name": "python3"
  },
  "language_info": {
   "codemirror_mode": {
    "name": "ipython",
    "version": 3
   },
   "file_extension": ".py",
   "mimetype": "text/x-python",
   "name": "python",
   "nbconvert_exporter": "python",
   "pygments_lexer": "ipython3",
   "version": "3.7.0"
  }
 },
 "nbformat": 4,
 "nbformat_minor": 2
}
