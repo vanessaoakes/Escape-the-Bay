{
 "cells": [
  {
   "cell_type": "markdown",
   "metadata": {},
   "source": [
    "Escape the Bay\n",
    "\n",
    "Emily Todd, Vanessa Oakes, Rebecca X, Stefan X.\n",
    "\n"
   ]
  },
  {
   "cell_type": "code",
   "execution_count": null,
   "metadata": {},
   "outputs": [],
   "source": [
    "Research Question to Answer: What is America going after San Francisco."
   ]
  },
  {
   "cell_type": "code",
   "execution_count": null,
   "metadata": {},
   "outputs": [],
   "source": [
    "Parameters:\n",
    "Used latest data 2017 unless otherwise noted\n",
    "Although the majority of people leaving SF would move to nearby counties\n",
    "we have separated within California and Out of State.\n"
   ]
  },
  {
   "cell_type": "code",
   "execution_count": null,
   "metadata": {},
   "outputs": [],
   "source": [
    "Housing:\n",
    "\n",
    "Why are they leaving? \n",
    "Where are they going?\n",
    "\n",
    "_Insert Emily information"
   ]
  },
  {
   "cell_type": "code",
   "execution_count": null,
   "metadata": {},
   "outputs": [],
   "source": [
    "Top 5 Counties in California\n",
    "California\n",
    "1. Alameda County\n",
    "2. San Mateo County\n",
    "3. Contra Costa County\n",
    "4. Los Angeles County\n",
    "5. Santa Clara County\n",
    "\n",
    "Top 5 Counties they leave outside of California\n",
    "Non – California\n",
    "1.\tNew York County (NY)\n",
    "2.\tKing County (Washington)\n",
    "3.\tMultnomah County (Oregon)\n",
    "4.\tKings County (New York)\n",
    "5.\tCook County (Illinois)\n"
   ]
  },
  {
   "cell_type": "code",
   "execution_count": null,
   "metadata": {},
   "outputs": [],
   "source": [
    "Generic:\n",
    "Who are the people leaving? \n",
    "Race / Ethnicity\n",
    "Gender / Age\n",
    "Marital Status"
   ]
  },
  {
   "cell_type": "code",
   "execution_count": null,
   "metadata": {},
   "outputs": [],
   "source": [
    "_Insert Vanessa's information here"
   ]
  },
  {
   "cell_type": "code",
   "execution_count": null,
   "metadata": {},
   "outputs": [],
   "source": [
    "Wages within 11 different counties\n",
    "-Rebecca\n"
   ]
  },
  {
   "cell_type": "code",
   "execution_count": null,
   "metadata": {},
   "outputs": [],
   "source": [
    "Industry information\n",
    "-Stefan"
   ]
  },
  {
   "cell_type": "code",
   "execution_count": null,
   "metadata": {},
   "outputs": [],
   "source": [
    "Conclusion"
   ]
  }
 ],
 "metadata": {
  "kernelspec": {
   "display_name": "Python 3",
   "language": "python",
   "name": "python3"
  },
  "language_info": {
   "codemirror_mode": {
    "name": "ipython",
    "version": 3
   },
   "file_extension": ".py",
   "mimetype": "text/x-python",
   "name": "python",
   "nbconvert_exporter": "python",
   "pygments_lexer": "ipython3",
   "version": "3.7.2"
  }
 },
 "nbformat": 4,
 "nbformat_minor": 2
}
