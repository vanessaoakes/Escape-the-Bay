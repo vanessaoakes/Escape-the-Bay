{
 "cells": [
  {
   "cell_type": "code",
   "execution_count": 1,
   "metadata": {},
   "outputs": [],
   "source": [
    "import csv\n",
    "from matplotlib.ticker import FuncFormatter\n",
    "import matplotlib.pyplot as plt\n",
    "import pandas as pd\n",
    "import numpy as np\n",
    "\n",
    "# Resource https://www.census.gov/quickfacts/fact/table/santaclaracountycalifornia,losangelescountycalifornia,contracostacountycalifornia,sanmateocountycalifornia,alamedacountycalifornia,sanfranciscocountycalifornia/PST045217"
   ]
  },
  {
   "cell_type": "code",
   "execution_count": 2,
   "metadata": {},
   "outputs": [
    {
     "ename": "FileNotFoundError",
     "evalue": "File b'Quick Facts - California.csv' does not exist",
     "output_type": "error",
     "traceback": [
      "\u001b[0;31m---------------------------------------------------------------------------\u001b[0m",
      "\u001b[0;31mFileNotFoundError\u001b[0m                         Traceback (most recent call last)",
      "\u001b[0;32m<ipython-input-2-27be19956198>\u001b[0m in \u001b[0;36m<module>\u001b[0;34m()\u001b[0m\n\u001b[0;32m----> 1\u001b[0;31m \u001b[0mcalifornia_df\u001b[0m \u001b[0;34m=\u001b[0m \u001b[0mpd\u001b[0m\u001b[0;34m.\u001b[0m\u001b[0mread_csv\u001b[0m\u001b[0;34m(\u001b[0m\u001b[0;34m'Quick Facts - California.csv'\u001b[0m\u001b[0;34m)\u001b[0m\u001b[0;34m\u001b[0m\u001b[0;34m\u001b[0m\u001b[0m\n\u001b[0m\u001b[1;32m      2\u001b[0m \u001b[0mcalifornia_df\u001b[0m\u001b[0;34m.\u001b[0m\u001b[0mdrop\u001b[0m\u001b[0;34m(\u001b[0m\u001b[0mcolumns\u001b[0m \u001b[0;34m=\u001b[0m \u001b[0;34m[\u001b[0m\u001b[0;34m\"Fact Note\"\u001b[0m\u001b[0;34m]\u001b[0m\u001b[0;34m,\u001b[0m \u001b[0minplace\u001b[0m\u001b[0;34m=\u001b[0m\u001b[0;32mTrue\u001b[0m\u001b[0;34m)\u001b[0m\u001b[0;34m\u001b[0m\u001b[0;34m\u001b[0m\u001b[0m\n\u001b[1;32m      3\u001b[0m \u001b[0mcalifornia_df\u001b[0m\u001b[0;34m.\u001b[0m\u001b[0mdrop\u001b[0m\u001b[0;34m(\u001b[0m\u001b[0mcolumns\u001b[0m \u001b[0;34m=\u001b[0m \u001b[0;34m[\u001b[0m\u001b[0;34m\"Value Note for Santa Clara County, California\"\u001b[0m\u001b[0;34m]\u001b[0m\u001b[0;34m,\u001b[0m \u001b[0minplace\u001b[0m\u001b[0;34m=\u001b[0m\u001b[0;32mTrue\u001b[0m\u001b[0;34m)\u001b[0m\u001b[0;34m\u001b[0m\u001b[0;34m\u001b[0m\u001b[0m\n\u001b[1;32m      4\u001b[0m \u001b[0mcalifornia_df\u001b[0m\u001b[0;34m.\u001b[0m\u001b[0mdrop\u001b[0m\u001b[0;34m(\u001b[0m\u001b[0mcolumns\u001b[0m \u001b[0;34m=\u001b[0m \u001b[0;34m[\u001b[0m\u001b[0;34m\"Value Note for Contra Costa County, California\"\u001b[0m\u001b[0;34m]\u001b[0m\u001b[0;34m,\u001b[0m \u001b[0minplace\u001b[0m\u001b[0;34m=\u001b[0m\u001b[0;32mTrue\u001b[0m\u001b[0;34m)\u001b[0m\u001b[0;34m\u001b[0m\u001b[0;34m\u001b[0m\u001b[0m\n\u001b[1;32m      5\u001b[0m \u001b[0mcalifornia_df\u001b[0m\u001b[0;34m.\u001b[0m\u001b[0mdrop\u001b[0m\u001b[0;34m(\u001b[0m\u001b[0mcolumns\u001b[0m \u001b[0;34m=\u001b[0m \u001b[0;34m[\u001b[0m\u001b[0;34m\"Value Note for Los Angeles County, California\"\u001b[0m\u001b[0;34m]\u001b[0m\u001b[0;34m,\u001b[0m \u001b[0minplace\u001b[0m\u001b[0;34m=\u001b[0m\u001b[0;32mTrue\u001b[0m\u001b[0;34m)\u001b[0m\u001b[0;34m\u001b[0m\u001b[0;34m\u001b[0m\u001b[0m\n",
      "\u001b[0;32m/anaconda3/lib/python3.7/site-packages/pandas/io/parsers.py\u001b[0m in \u001b[0;36mparser_f\u001b[0;34m(filepath_or_buffer, sep, delimiter, header, names, index_col, usecols, squeeze, prefix, mangle_dupe_cols, dtype, engine, converters, true_values, false_values, skipinitialspace, skiprows, nrows, na_values, keep_default_na, na_filter, verbose, skip_blank_lines, parse_dates, infer_datetime_format, keep_date_col, date_parser, dayfirst, iterator, chunksize, compression, thousands, decimal, lineterminator, quotechar, quoting, escapechar, comment, encoding, dialect, tupleize_cols, error_bad_lines, warn_bad_lines, skipfooter, doublequote, delim_whitespace, low_memory, memory_map, float_precision)\u001b[0m\n\u001b[1;32m    676\u001b[0m                     skip_blank_lines=skip_blank_lines)\n\u001b[1;32m    677\u001b[0m \u001b[0;34m\u001b[0m\u001b[0m\n\u001b[0;32m--> 678\u001b[0;31m         \u001b[0;32mreturn\u001b[0m \u001b[0m_read\u001b[0m\u001b[0;34m(\u001b[0m\u001b[0mfilepath_or_buffer\u001b[0m\u001b[0;34m,\u001b[0m \u001b[0mkwds\u001b[0m\u001b[0;34m)\u001b[0m\u001b[0;34m\u001b[0m\u001b[0;34m\u001b[0m\u001b[0m\n\u001b[0m\u001b[1;32m    679\u001b[0m \u001b[0;34m\u001b[0m\u001b[0m\n\u001b[1;32m    680\u001b[0m     \u001b[0mparser_f\u001b[0m\u001b[0;34m.\u001b[0m\u001b[0m__name__\u001b[0m \u001b[0;34m=\u001b[0m \u001b[0mname\u001b[0m\u001b[0;34m\u001b[0m\u001b[0;34m\u001b[0m\u001b[0m\n",
      "\u001b[0;32m/anaconda3/lib/python3.7/site-packages/pandas/io/parsers.py\u001b[0m in \u001b[0;36m_read\u001b[0;34m(filepath_or_buffer, kwds)\u001b[0m\n\u001b[1;32m    438\u001b[0m \u001b[0;34m\u001b[0m\u001b[0m\n\u001b[1;32m    439\u001b[0m     \u001b[0;31m# Create the parser.\u001b[0m\u001b[0;34m\u001b[0m\u001b[0;34m\u001b[0m\u001b[0;34m\u001b[0m\u001b[0m\n\u001b[0;32m--> 440\u001b[0;31m     \u001b[0mparser\u001b[0m \u001b[0;34m=\u001b[0m \u001b[0mTextFileReader\u001b[0m\u001b[0;34m(\u001b[0m\u001b[0mfilepath_or_buffer\u001b[0m\u001b[0;34m,\u001b[0m \u001b[0;34m**\u001b[0m\u001b[0mkwds\u001b[0m\u001b[0;34m)\u001b[0m\u001b[0;34m\u001b[0m\u001b[0;34m\u001b[0m\u001b[0m\n\u001b[0m\u001b[1;32m    441\u001b[0m \u001b[0;34m\u001b[0m\u001b[0m\n\u001b[1;32m    442\u001b[0m     \u001b[0;32mif\u001b[0m \u001b[0mchunksize\u001b[0m \u001b[0;32mor\u001b[0m \u001b[0miterator\u001b[0m\u001b[0;34m:\u001b[0m\u001b[0;34m\u001b[0m\u001b[0;34m\u001b[0m\u001b[0m\n",
      "\u001b[0;32m/anaconda3/lib/python3.7/site-packages/pandas/io/parsers.py\u001b[0m in \u001b[0;36m__init__\u001b[0;34m(self, f, engine, **kwds)\u001b[0m\n\u001b[1;32m    785\u001b[0m             \u001b[0mself\u001b[0m\u001b[0;34m.\u001b[0m\u001b[0moptions\u001b[0m\u001b[0;34m[\u001b[0m\u001b[0;34m'has_index_names'\u001b[0m\u001b[0;34m]\u001b[0m \u001b[0;34m=\u001b[0m \u001b[0mkwds\u001b[0m\u001b[0;34m[\u001b[0m\u001b[0;34m'has_index_names'\u001b[0m\u001b[0;34m]\u001b[0m\u001b[0;34m\u001b[0m\u001b[0;34m\u001b[0m\u001b[0m\n\u001b[1;32m    786\u001b[0m \u001b[0;34m\u001b[0m\u001b[0m\n\u001b[0;32m--> 787\u001b[0;31m         \u001b[0mself\u001b[0m\u001b[0;34m.\u001b[0m\u001b[0m_make_engine\u001b[0m\u001b[0;34m(\u001b[0m\u001b[0mself\u001b[0m\u001b[0;34m.\u001b[0m\u001b[0mengine\u001b[0m\u001b[0;34m)\u001b[0m\u001b[0;34m\u001b[0m\u001b[0;34m\u001b[0m\u001b[0m\n\u001b[0m\u001b[1;32m    788\u001b[0m \u001b[0;34m\u001b[0m\u001b[0m\n\u001b[1;32m    789\u001b[0m     \u001b[0;32mdef\u001b[0m \u001b[0mclose\u001b[0m\u001b[0;34m(\u001b[0m\u001b[0mself\u001b[0m\u001b[0;34m)\u001b[0m\u001b[0;34m:\u001b[0m\u001b[0;34m\u001b[0m\u001b[0;34m\u001b[0m\u001b[0m\n",
      "\u001b[0;32m/anaconda3/lib/python3.7/site-packages/pandas/io/parsers.py\u001b[0m in \u001b[0;36m_make_engine\u001b[0;34m(self, engine)\u001b[0m\n\u001b[1;32m   1012\u001b[0m     \u001b[0;32mdef\u001b[0m \u001b[0m_make_engine\u001b[0m\u001b[0;34m(\u001b[0m\u001b[0mself\u001b[0m\u001b[0;34m,\u001b[0m \u001b[0mengine\u001b[0m\u001b[0;34m=\u001b[0m\u001b[0;34m'c'\u001b[0m\u001b[0;34m)\u001b[0m\u001b[0;34m:\u001b[0m\u001b[0;34m\u001b[0m\u001b[0;34m\u001b[0m\u001b[0m\n\u001b[1;32m   1013\u001b[0m         \u001b[0;32mif\u001b[0m \u001b[0mengine\u001b[0m \u001b[0;34m==\u001b[0m \u001b[0;34m'c'\u001b[0m\u001b[0;34m:\u001b[0m\u001b[0;34m\u001b[0m\u001b[0;34m\u001b[0m\u001b[0m\n\u001b[0;32m-> 1014\u001b[0;31m             \u001b[0mself\u001b[0m\u001b[0;34m.\u001b[0m\u001b[0m_engine\u001b[0m \u001b[0;34m=\u001b[0m \u001b[0mCParserWrapper\u001b[0m\u001b[0;34m(\u001b[0m\u001b[0mself\u001b[0m\u001b[0;34m.\u001b[0m\u001b[0mf\u001b[0m\u001b[0;34m,\u001b[0m \u001b[0;34m**\u001b[0m\u001b[0mself\u001b[0m\u001b[0;34m.\u001b[0m\u001b[0moptions\u001b[0m\u001b[0;34m)\u001b[0m\u001b[0;34m\u001b[0m\u001b[0;34m\u001b[0m\u001b[0m\n\u001b[0m\u001b[1;32m   1015\u001b[0m         \u001b[0;32melse\u001b[0m\u001b[0;34m:\u001b[0m\u001b[0;34m\u001b[0m\u001b[0;34m\u001b[0m\u001b[0m\n\u001b[1;32m   1016\u001b[0m             \u001b[0;32mif\u001b[0m \u001b[0mengine\u001b[0m \u001b[0;34m==\u001b[0m \u001b[0;34m'python'\u001b[0m\u001b[0;34m:\u001b[0m\u001b[0;34m\u001b[0m\u001b[0;34m\u001b[0m\u001b[0m\n",
      "\u001b[0;32m/anaconda3/lib/python3.7/site-packages/pandas/io/parsers.py\u001b[0m in \u001b[0;36m__init__\u001b[0;34m(self, src, **kwds)\u001b[0m\n\u001b[1;32m   1706\u001b[0m         \u001b[0mkwds\u001b[0m\u001b[0;34m[\u001b[0m\u001b[0;34m'usecols'\u001b[0m\u001b[0;34m]\u001b[0m \u001b[0;34m=\u001b[0m \u001b[0mself\u001b[0m\u001b[0;34m.\u001b[0m\u001b[0musecols\u001b[0m\u001b[0;34m\u001b[0m\u001b[0;34m\u001b[0m\u001b[0m\n\u001b[1;32m   1707\u001b[0m \u001b[0;34m\u001b[0m\u001b[0m\n\u001b[0;32m-> 1708\u001b[0;31m         \u001b[0mself\u001b[0m\u001b[0;34m.\u001b[0m\u001b[0m_reader\u001b[0m \u001b[0;34m=\u001b[0m \u001b[0mparsers\u001b[0m\u001b[0;34m.\u001b[0m\u001b[0mTextReader\u001b[0m\u001b[0;34m(\u001b[0m\u001b[0msrc\u001b[0m\u001b[0;34m,\u001b[0m \u001b[0;34m**\u001b[0m\u001b[0mkwds\u001b[0m\u001b[0;34m)\u001b[0m\u001b[0;34m\u001b[0m\u001b[0;34m\u001b[0m\u001b[0m\n\u001b[0m\u001b[1;32m   1709\u001b[0m \u001b[0;34m\u001b[0m\u001b[0m\n\u001b[1;32m   1710\u001b[0m         \u001b[0mpassed_names\u001b[0m \u001b[0;34m=\u001b[0m \u001b[0mself\u001b[0m\u001b[0;34m.\u001b[0m\u001b[0mnames\u001b[0m \u001b[0;32mis\u001b[0m \u001b[0;32mNone\u001b[0m\u001b[0;34m\u001b[0m\u001b[0;34m\u001b[0m\u001b[0m\n",
      "\u001b[0;32mpandas/_libs/parsers.pyx\u001b[0m in \u001b[0;36mpandas._libs.parsers.TextReader.__cinit__\u001b[0;34m()\u001b[0m\n",
      "\u001b[0;32mpandas/_libs/parsers.pyx\u001b[0m in \u001b[0;36mpandas._libs.parsers.TextReader._setup_parser_source\u001b[0;34m()\u001b[0m\n",
      "\u001b[0;31mFileNotFoundError\u001b[0m: File b'Quick Facts - California.csv' does not exist"
     ]
    }
   ],
   "source": [
    "california_df = pd.read_csv('Quick Facts - California.csv')\n",
    "california_df.drop(columns = [\"Fact Note\"], inplace=True)\n",
    "california_df.drop(columns = [\"Value Note for Santa Clara County, California\"], inplace=True)\n",
    "california_df.drop(columns = [\"Value Note for Contra Costa County, California\"], inplace=True)\n",
    "california_df.drop(columns = [\"Value Note for Los Angeles County, California\"], inplace=True)\n",
    "california_df.drop(columns = [\"Value Note for San Mateo County, California\"], inplace=True)\n",
    "california_df.drop(columns = [\"Value Note for Alameda County, California\"], inplace=True)\n",
    "california_df.drop(columns = [\"Value Note for San Francisco County, California\"], inplace=True)\n",
    "\n",
    "# california_df = california_df[[]]\n",
    "\n",
    "\n",
    "cols = list(california_df.columns.values)\n",
    "cols\n",
    "\n",
    "column_titles = ['Fact',\n",
    "                'San Francisco County, California',\n",
    "                'Alameda County, California', \n",
    "                 'San Mateo County, California',\n",
    "                'Contra Costa County, California', \n",
    "                 'Los Angeles County, California',\n",
    "                'Santa Clara County, California']\n",
    "\n",
    "california_df.reindex(columns = column_titles)\n",
    "\n"
   ]
  },
  {
   "cell_type": "code",
   "execution_count": null,
   "metadata": {},
   "outputs": [],
   "source": [
    "#Pulling Race Information\n",
    "california_race = california_df.iloc[11:18,0:7]\n",
    "california_race\n",
    "\n",
    "\n"
   ]
  },
  {
   "cell_type": "code",
   "execution_count": null,
   "metadata": {},
   "outputs": [],
   "source": [
    "#Used Lambda to convert to Float\n",
    "california_race['Santa Clara County, California'] = california_race['Santa Clara County, California'].apply(lambda x: float(x[:-1]))\n",
    "california_race['Los Angeles County, California'] = california_race['Los Angeles County, California'].apply(lambda x: float(x[:-1]))\n",
    "california_race['Contra Costa County, California'] = california_race['Contra Costa County, California'].apply(lambda x: float(x[:-1]))\n",
    "california_race['San Mateo County, California'] = california_race['San Mateo County, California'].apply(lambda x: float(x[:-1]))\n",
    "california_race['Alameda County, California'] = california_race['Alameda County, California'].apply(lambda x: float(x[:-1]))\n",
    "california_race['San Francisco County, California'] = california_race['San Francisco County, California'].apply(lambda x: float(x[:-1]))\n",
    "\n",
    "#Removed \",percent\"\n",
    "california_race['Fact'] = california_race['Fact'].apply(lambda x: x[:-9])\n",
    "california_race"
   ]
  },
  {
   "cell_type": "code",
   "execution_count": null,
   "metadata": {},
   "outputs": [],
   "source": [
    "#Bar Chart + Pretty + San Francisco first\n",
    "\n",
    "#Want to change the label in a legend on the side\n",
    "plt.pie(california_race['Los Angeles County, California'],labels=california_race['Fact'])\n",
    "plt.show()\n",
    "\n"
   ]
  },
  {
   "cell_type": "code",
   "execution_count": null,
   "metadata": {
    "scrolled": true
   },
   "outputs": [],
   "source": [
    "#Hispanic is over the 100% should we make it by itself or add it to \"white\"\n",
    "\n",
    "race = [\"White alone\", \"Black or African American Alone\", \"American Indian and Alaska Native alone\", \"Asian alone\",\n",
    "       \"Native Hawaiian and Other PAcific Islander alone\", \"Two or More Races\", \"Hispanic or Latino\"]\n",
    "\n",
    "county = ['Santa Clara County, California', 'Los Angeles County, California', 'Contra Costa County, California', \n",
    "         'San Mateo County, California', 'Alameda County, California', 'San Francisco County, California']\n",
    "\n",
    "N = 6\n",
    "ind = np.arange(N)\n",
    "width = .75\n",
    "\n",
    "#White\n",
    "white = california_race.iloc[0, 1:7]\n",
    "\n",
    "#African America\n",
    "aa = california_race.iloc[1, 1:7]\n",
    "\n",
    "#American Indian & Alaska Native\n",
    "ai = california_race.iloc[2, 1:7]\n",
    "\n",
    "#Native Hawaiian and Other Pacific\n",
    "hawaiian = california_race.iloc[3, 1:7]\n",
    "\n",
    "#Asian\n",
    "asian = california_race.iloc[4, 1:7]\n",
    "\n",
    "#Two or More Races\n",
    "two = california_race.iloc[5, 1:7]\n",
    "\n",
    "#Hispanic or Latino\n",
    "hispanic = california_race.iloc[6, 1:7]\n",
    "\n",
    "p1 = plt.bar(ind,white,width)\n",
    "p2 = plt.bar(ind,aa,width, bottom=white)\n",
    "p3 = plt.bar(ind,ai,width, bottom=white+aa)\n",
    "p4 = plt.bar(ind,hawaiian,width, bottom=white+aa+ai)\n",
    "p5 = plt.bar(ind,asian,width, bottom=white+aa+ai+hawaiian)\n",
    "p6 = plt.bar(ind,two,width, bottom =white+aa+ai+hawaiian+asian)\n",
    "p7 = plt.bar(ind,hispanic,width, bottom =white+aa+ai+hawaiian+asian+two)\n",
    "\n",
    "\n",
    "plt.ylabel('By Percentage')\n",
    "plt.title('Race')\n",
    "plt.xticks(ind, ('San Francisco', 'Alameda', 'San Mateo', 'Contra Costa',\n",
    "                'Los Angeles', 'Santa Clara'))\n",
    "\n",
    "plt.legend((p1[0], p2[0], p3[0], \n",
    "            p4[0], p5[0],p6[0], p7[0]),\n",
    "           ('White', 'African American', \n",
    "            'American Indian or Alaska Native',\n",
    "            'Hawaiian or Other Pacific', 'Asian', \n",
    "            'Two or More Races', 'Hispanic'),loc='upper right',rotation='vertical\n",
    "          bbox_to_anchor =(1.65, 1.0))\n",
    "\n",
    "plt.show()\n"
   ]
  },
  {
   "cell_type": "code",
   "execution_count": null,
   "metadata": {},
   "outputs": [],
   "source": [
    "#Age\n",
    "\n",
    "california_age =california_df.iloc[7:10,0:7]\n",
    "california_age.head()"
   ]
  },
  {
   "cell_type": "code",
   "execution_count": null,
   "metadata": {},
   "outputs": [],
   "source": [
    "california_age['Los Angeles County, California'] = california_age['Los Angeles County, California'].apply(lambda x: float(x[:-1]))\n",
    "california_age['Santa Clara County, California'] = california_age['Santa Clara County, California'].apply(lambda x: float(x[:-1]))\n",
    "california_age['Contra Costa County, California'] = california_age['Contra Costa County, California'].apply(lambda x: float(x[:-1]))\n",
    "california_age['San Mateo County, California'] = california_age['San Mateo County, California'].apply(lambda x: float(x[:-1]))\n",
    "california_age['Alameda County, California'] = california_age['Alameda County, California'].apply(lambda x: float(x[:-1]))\n",
    "california_age['San Francisco County, California'] = california_age['San Francisco County, California'].apply(lambda x: float(x[:-1]))\n",
    "\n",
    "\n",
    "california_age['Fact'] = california_age['Fact'].apply(lambda x: x[:-9])\n",
    "california_age\n",
    "\n",
    "\n"
   ]
  },
  {
   "cell_type": "code",
   "execution_count": null,
   "metadata": {},
   "outputs": [],
   "source": [
    "\n",
    "\n",
    "county = ['Santa Clara County, California', 'Los Angeles County, California', 'Contra Costa County, California', \n",
    "         'San Mateo County, California', 'Alameda County, California', 'San Francisco County, California']\n",
    "\n",
    "age = ['under 5 years','under 18 years','65 years and over, percent']\n",
    "\n",
    "N = 6\n",
    "ind = np.arange(N)\n",
    "width = 0.50\n",
    "\n",
    "\n",
    "#Under 5\n",
    "under_5 = california_age.iloc[0, 1:7]\n",
    "\n",
    "#Under 18\n",
    "under_18 = california_age.iloc[1, 1:7]\n",
    "\n",
    "#Over 65\n",
    "over_65 = california_age.iloc[2, 1:7]\n",
    "\n",
    "#18-65\n",
    "middle_age = 100-under_5-under_18-over_65\n",
    "\n",
    "\n",
    "#Plot\n",
    "p1 = plt.bar(ind,under_5,width)\n",
    "p2 = plt.bar(ind,under_18,width,bottom=under_5)\n",
    "p3 = plt.bar(ind,middle_age, width,bottom=under_5+under_18)\n",
    "p4 = plt.bar(ind,over_65,width,bottom=under_5+under_18+middle_age)\n",
    "\n",
    "plt.legend((p1[0], p2[0], p3[0],p4[0]),\n",
    "           ('Under 5', 'Under 18', '18-65', \n",
    "            'Over 65',),loc='upper right',\n",
    "          bbox_to_anchor =(1.65, 1.0),rotation='vertical')\n",
    "\n",
    "plt.ylabel('By Percentage')\n",
    "plt.title('Age')\n",
    "plt.xticks(ind, ('San Francisco', 'Alameda', 'San Mateo', 'Contra Costa',\n",
    "                'Los Angeles', 'Santa Clara'))\n",
    "\n",
    "plt.show()"
   ]
  },
  {
   "cell_type": "code",
   "execution_count": null,
   "metadata": {},
   "outputs": [],
   "source": [
    "plt.pie(california_age['Los Angeles County, California'],labels=california_age['Fact'])\n",
    "plt.show()"
   ]
  },
  {
   "cell_type": "code",
   "execution_count": null,
   "metadata": {},
   "outputs": [],
   "source": [
    "#Sex\n",
    "california_sex = california_df.iloc[10:11,0:7]\n",
    "california_sex = pd.DataFrame(california_sex)\n",
    "california_sex"
   ]
  },
  {
   "cell_type": "code",
   "execution_count": null,
   "metadata": {},
   "outputs": [],
   "source": [
    "california_sex['Los Angeles County, California'] = california_sex['Los Angeles County, California'].apply(lambda x: float(x[:-1]))\n",
    "california_sex['Santa Clara County, California'] = california_sex['Santa Clara County, California'].apply(lambda x: float(x[:-1]))\n",
    "california_sex['Contra Costa County, California'] = california_sex['Contra Costa County, California'].apply(lambda x: float(x[:-1]))\n",
    "california_sex['San Mateo County, California'] = california_sex['San Mateo County, California'].apply(lambda x: float(x[:-1]))\n",
    "california_sex['Alameda County, California'] = california_sex['Alameda County, California'].apply(lambda x: float(x[:-1]))\n",
    "california_sex['San Francisco County, California'] = california_sex['San Francisco County, California'].apply(lambda x: float(x[:-1]))\n",
    "\n",
    "california_sex['Fact'] = california_age['Fact'].apply(lambda x: x[:-9])\n",
    "\n",
    "california_sex"
   ]
  },
  {
   "cell_type": "code",
   "execution_count": null,
   "metadata": {},
   "outputs": [],
   "source": [
    "female = california_sex.iloc[0]\n",
    "female = female.drop('Los Angeles County, California')"
   ]
  },
  {
   "cell_type": "code",
   "execution_count": null,
   "metadata": {
    "scrolled": true
   },
   "outputs": [],
   "source": [
    "#Need to be stretched.\n",
    "\n",
    "county = ['Santa Clara County, California', 'Los Angeles County, California', 'Contra Costa County, California', \n",
    "         'San Mateo County, California', 'Alameda County, California', 'San Francisco County, California']\n",
    "\n",
    "N = 6\n",
    "ind = np.arange(N)\n",
    "width = 0.50\n",
    "\n",
    "#Female\n",
    "female = california_sex.iloc[0, 1:7]\n",
    "\n",
    "#Male\n",
    "male_sex = 100-female\n",
    "\n",
    "\n",
    "#Plot\n",
    "p1 = plt.bar(ind,female,width)\n",
    "p2 = plt.bar(ind,male_sex,width,bottom=female)\n",
    "\n",
    "plt.legend((p1[0], p2[0]),\n",
    "           ('Female', 'Male'),loc='upper right',\n",
    "          bbox_to_anchor =(1.65, 1.0))\n",
    "\n",
    "plt.ylabel('By Percentage')\n",
    "plt.title('Sex')\n",
    "plt.xticks(ind, ('San Francisco', 'Alameda', 'San Mateo', 'Contra Costa',\n",
    "                'Los Angeles', 'Santa Clara'))\n",
    "\n",
    "plt.show()"
   ]
  },
  {
   "cell_type": "code",
   "execution_count": null,
   "metadata": {},
   "outputs": [],
   "source": []
  },
  {
   "cell_type": "code",
   "execution_count": null,
   "metadata": {},
   "outputs": [],
   "source": []
  }
 ],
 "metadata": {
  "kernelspec": {
   "display_name": "Python 3",
   "language": "python",
   "name": "python3"
  },
  "language_info": {
   "codemirror_mode": {
    "name": "ipython",
    "version": 3
   },
   "file_extension": ".py",
   "mimetype": "text/x-python",
   "name": "python",
   "nbconvert_exporter": "python",
   "pygments_lexer": "ipython3",
   "version": "3.7.2"
  }
 },
 "nbformat": 4,
 "nbformat_minor": 2
}
