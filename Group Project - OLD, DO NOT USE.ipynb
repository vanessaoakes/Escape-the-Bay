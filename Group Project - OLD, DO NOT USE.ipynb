{
 "cells": [
  {
   "cell_type": "code",
   "execution_count": null,
   "metadata": {},
   "outputs": [],
   "source": [
    "import csv\n",
    "from matplotlib.ticker import FuncFormatter\n",
    "import matplotlib.pyplot as plt\n",
    "import pandas as pd\n",
    "import numpy as np\n",
    "import requests\n",
    "import json"
   ]
  },
  {
   "cell_type": "code",
   "execution_count": null,
   "metadata": {},
   "outputs": [],
   "source": [
    "#Vanessa's CSV\n",
    "# out_df = pd.read_csv('Quick Facts - Out of State.csv')\n",
    "# california_df = pd.read_csv('Quick Facts - California.csv')\n",
    "\n",
    "#Emily's API\n",
    "\n",
    "\n",
    "#Emily's CSV\n",
    "csv_path = \"SF_ALL_OUT.csv\"\n",
    "sf_out_df = pd.read_csv(csv_path)\n",
    "\n",
    "#Rebecca's CSV\n",
    "CA_counties = pd.read_csv(\"CA_counties.csv\")\n",
    "non_CA_counties = pd.read_csv(\"non_CA_counties.csv\")\n",
    "#Stefan's CSV\n",
    "file1 = \"EstablishmentData2014.csv\" \n",
    "file2 = \"EstablishmentData2015.csv\"\n",
    "file3 = \"EstablishmentData2016.csv\"\n",
    "\n",
    "df_original_1 = pd.read_csv(file1)\n",
    "df_original_2 = pd.read_csv(file2)\n",
    "df_original_3 = pd.read_csv(file3)"
   ]
  },
  {
   "cell_type": "markdown",
   "metadata": {
    "slideshow": {
     "slide_type": "slide"
    }
   },
   "source": [
    "# Escape the Bay\n",
    "\n",
    "Emily Todd, Vanessa Oakes, Rebecca Mih, Stefan Zobrist\n",
    "\n"
   ]
  },
  {
   "cell_type": "markdown",
   "metadata": {
    "slideshow": {
     "slide_type": "subslide"
    }
   },
   "source": [
    "Research Question to Answer: What are the motiviating factors to move out of SF county?"
   ]
  },
  {
   "cell_type": "markdown",
   "metadata": {
    "slideshow": {
     "slide_type": "slide"
    }
   },
   "source": [
    "Parameters:\n",
    "Used latest data 2017 unless otherwise noted\n",
    "Although the majority of people leaving SF would move to nearby counties\n",
    "we have separated within California and Out of State.\n"
   ]
  },
  {
   "cell_type": "markdown",
   "metadata": {
    "slideshow": {
     "slide_type": "slide"
    }
   },
   "source": [
    "Research:\n",
    "\n",
    "    We used census.gov and their datasets.\n",
    "    We also we able to grab their API."
   ]
  },
  {
   "cell_type": "markdown",
   "metadata": {
    "slideshow": {
     "slide_type": "slide"
    }
   },
   "source": [
    "Housing:\n",
    "\n",
    "Why are they leaving? \n",
    "Where are they going?\n",
    "How's the housing market similar and different against SF County\n",
    "Who are they?\n",
    "\n",
    "_Insert Emily information"
   ]
  },
  {
   "cell_type": "code",
   "execution_count": null,
   "metadata": {},
   "outputs": [],
   "source": [
    "#Top 5 in-CA counties\n",
    "ranked_sf_out_df = sf_out_df.sort_values(by='Total', ascending=False)\n",
    "sf_to_ca = ranked_sf_out_df.loc[ranked_sf_out_df[\"State Name\"] == \"California\",:]\n",
    "sf_to_ca.head(5)\n"
   ]
  },
  {
   "cell_type": "code",
   "execution_count": null,
   "metadata": {},
   "outputs": [],
   "source": [
    "#Top 5 non-CA counties\n",
    "sf_not_ca = ranked_sf_out_df.loc[ranked_sf_out_df[\"State Name\"] != \"California\",:]\n",
    "sf_not_ca.head(5)"
   ]
  },
  {
   "cell_type": "markdown",
   "metadata": {
    "slideshow": {
     "slide_type": "slide"
    }
   },
   "source": [
    "#Emily's CSV to show how she got in/out state\n",
    "Top 5 Counties in California\n",
    "California\n",
    "1. Alameda County\n",
    "2. San Mateo County\n",
    "3. Contra Costa County\n",
    "4. Los Angeles County\n",
    "5. Santa Clara County\n",
    "\n",
    "Top 5 Counties they leave outside of California\n",
    "Non – California\n",
    "1.\tNew York County (NY)\n",
    "2.\tKing County (Washington)\n",
    "3.\tMultnomah County (Oregon)\n",
    "4.\tKings County (New York)\n",
    "5.\tCook County (Illinois)\n"
   ]
  },
  {
   "cell_type": "markdown",
   "metadata": {
    "slideshow": {
     "slide_type": "slide"
    }
   },
   "source": [
    "#Vanessa's info\n",
    "Generic:\n",
    "Who are the people leaving? \n",
    "Race / Ethnicity\n",
    "Gender / Age\n",
    "Marital Status"
   ]
  },
  {
   "cell_type": "markdown",
   "metadata": {
    "slideshow": {
     "slide_type": "slide"
    }
   },
   "source": [
    "#Emily info\n",
    "Motivations\n",
    "Why are they leaving? \n",
    "Where are they going?\n",
    "How's the housing market similar and different against SF County"
   ]
  },
  {
   "cell_type": "code",
   "execution_count": null,
   "metadata": {
    "slideshow": {
     "slide_type": "slide"
    }
   },
   "outputs": [],
   "source": [
    "#Emily's housing analysis using census API\n",
    "\n",
    "#dictionary for in-CA counties\n",
    "\n",
    "base_url = \"https://api.census.gov/data/2017/acs/acs1/profile\"\n",
    "\n",
    "ca_cty_name = [\"San Francisco\",\"Alameda\",\"San Mateo\",\"Contra Costa\",\"Los Angeles\",\"Santa Clara\"]\n",
    "ca_st_fips = [\"06\",\"06\",\"06\",\"06\",\"06\",\"06\"]\n",
    "ca_cty_fips = [\"075\",\"001\",\"081\",\"013\",\"037\",\"085\"]\n",
    "\n",
    "in_ca_dict = {\n",
    "    \"County Name\": ca_cty_name,\n",
    "    \"State_FIPS\": ca_st_fips,\n",
    "    \"County_FIPS\": ca_cty_fips\n",
    "}\n",
    "\n",
    "in_ca_df = pd.DataFrame(in_ca_dict)\n",
    "print(in_ca_df)\n",
    "\n",
    "#dictionary for non-CA counties\n",
    "\n",
    "nonca_cty_name = [\"San Francisco\",\"New York County\",\"King County\",\"Multnomah County\",\"Kings County\",\"Cook County\"]\n",
    "nonca_st_fips = [\"06\",\"36\",\"53\",\"41\",\"36\",\"17\"]\n",
    "nonca_cty_fips = [\"075\",\"061\",\"033\",\"051\",\"047\",\"031\"]\n",
    "\n",
    "non_ca_dict = {\n",
    "    \"County Name\": nonca_cty_name,\n",
    "    \"State_FIPS\": nonca_st_fips,\n",
    "    \"County_FIPS\": nonca_cty_fips\n",
    "}\n",
    "\n",
    "non_ca_df = pd.DataFrame(non_ca_dict)\n",
    "print(non_ca_df)"
   ]
  },
  {
   "cell_type": "code",
   "execution_count": null,
   "metadata": {
    "slideshow": {
     "slide_type": "slide"
    }
   },
   "outputs": [],
   "source": [
    "#collect median home values by county and add to data frames\n",
    "\n",
    "ca_med_home_val = []\n",
    "med_home_var = \"DP04_0089E\"\n",
    "    \n",
    "for county_id, state_id in zip(ca_cty_fips, ca_st_fips):\n",
    "    med_home_val = requests.get(f\"{base_url}?get={med_home_var}&for=county:{county_id}&in=state:{state_id}\").json()\n",
    "    ca_med_home_val.append(int(med_home_val[1][0]))\n",
    "    \n",
    "in_ca_df[\"Med_Home_Value\"] = ca_med_home_val\n",
    "print(in_ca_df)\n",
    "\n",
    "non_ca_med_home_val = []\n",
    "med_home_var = \"DP04_0089E\"\n",
    "\n",
    "for county_id, state_id in zip(nonca_cty_fips, nonca_st_fips):\n",
    "    med_home_val = requests.get(f\"{base_url}?get={med_home_var}&for=county:{county_id}&in=state:{state_id}\").json()\n",
    "    non_ca_med_home_val.append(int(med_home_val[1][0]))\n",
    "    \n",
    "non_ca_df[\"Med_Home_Value\"] = non_ca_med_home_val\n",
    "print(non_ca_df)"
   ]
  },
  {
   "cell_type": "code",
   "execution_count": null,
   "metadata": {
    "slideshow": {
     "slide_type": "slide"
    }
   },
   "outputs": [],
   "source": [
    "#plot in-CA median home values\n",
    "\n",
    "x_axis = np.arange(len(ca_cty_name))\n",
    "tick_locations = [x for x in x_axis]\n",
    "plt.bar(x_axis, ca_med_home_val)\n",
    "plt.xticks(tick_locations, ca_cty_name, rotation=45)\n",
    "\n",
    "plt.title(\"Median Home Value by CA County\")\n",
    "plt.xlabel(\"County Name\")\n",
    "plt.ylabel(\"Median Home Value ($)\")\n",
    "plt.ylim(0, 1200000)"
   ]
  },
  {
   "cell_type": "code",
   "execution_count": null,
   "metadata": {
    "slideshow": {
     "slide_type": "slide"
    }
   },
   "outputs": [],
   "source": [
    "#plot non-CA median home values\n",
    "\n",
    "x_axis = np.arange(len(nonca_cty_name))\n",
    "tick_locations = [x for x in x_axis]\n",
    "plt.bar(x_axis, non_ca_med_home_val)\n",
    "plt.xticks(tick_locations, nonca_cty_name, rotation=45)\n",
    "\n",
    "plt.title(\"Median Home Value by non-CA County\")\n",
    "plt.xlabel(\"County Name\")\n",
    "plt.ylabel(\"Median Home Value ($)\")\n",
    "plt.ylim(0, 1200000)"
   ]
  },
  {
   "cell_type": "code",
   "execution_count": null,
   "metadata": {
    "slideshow": {
     "slide_type": "slide"
    }
   },
   "outputs": [],
   "source": [
    "#follow the same process for median gross rents\n",
    "\n",
    "ca_med_rent = []\n",
    "med_rent_var = \"DP04_0134E\"\n",
    "    \n",
    "for county_id, state_id in zip(ca_cty_fips, ca_st_fips):\n",
    "    med_rent = requests.get(f\"{base_url}?get={med_rent_var}&for=county:{county_id}&in=state:{state_id}\").json()\n",
    "    ca_med_rent.append(int(med_rent[1][0]))\n",
    "    \n",
    "in_ca_df[\"Med_Rent\"] = ca_med_rent\n",
    "print(in_ca_df)\n",
    "\n",
    "non_ca_med_rent = []\n",
    "med_rent_var = \"DP04_0134E\"\n",
    "\n",
    "for county_id, state_id in zip(nonca_cty_fips, nonca_st_fips):\n",
    "    med_rent= requests.get(f\"{base_url}?get={med_rent_var}&for=county:{county_id}&in=state:{state_id}\").json()\n",
    "    non_ca_med_rent.append(int(med_rent[1][0]))\n",
    "    \n",
    "non_ca_df[\"Med_Rent\"] = non_ca_med_rent\n",
    "print(non_ca_df)"
   ]
  },
  {
   "cell_type": "code",
   "execution_count": null,
   "metadata": {
    "slideshow": {
     "slide_type": "slide"
    }
   },
   "outputs": [],
   "source": [
    "#plot in-CA median rents\n",
    "\n",
    "x_axis = np.arange(len(ca_cty_name))\n",
    "tick_locations = [x for x in x_axis]\n",
    "plt.bar(x_axis, ca_med_rent)\n",
    "plt.xticks(tick_locations, ca_cty_name, rotation=45)\n",
    "\n",
    "plt.title(\"Median Rent by CA County\")\n",
    "plt.xlabel(\"County Name\")\n",
    "plt.ylabel(\"Median Rent ($)\")\n",
    "plt.ylim(0, 2500)"
   ]
  },
  {
   "cell_type": "code",
   "execution_count": null,
   "metadata": {
    "slideshow": {
     "slide_type": "slide"
    }
   },
   "outputs": [],
   "source": [
    "#plot non-CA median rents\n",
    "\n",
    "x_axis = np.arange(len(nonca_cty_name))\n",
    "tick_locations = [x for x in x_axis]\n",
    "plt.bar(x_axis, non_ca_med_rent)\n",
    "plt.xticks(tick_locations, nonca_cty_name, rotation=45)\n",
    "\n",
    "plt.title(\"Median Rent by non-CA County\")\n",
    "plt.xlabel(\"County Name\")\n",
    "plt.ylabel(\"Median Home Value ($)\")\n",
    "plt.ylim(0, 2500)"
   ]
  },
  {
   "cell_type": "code",
   "execution_count": null,
   "metadata": {
    "slideshow": {
     "slide_type": "slide"
    }
   },
   "outputs": [],
   "source": [
    "#follow the same process for home owner rate\n",
    "\n",
    "ca_own_rate = []\n",
    "home_own_var = \"DP04_0046PE\"\n",
    "    \n",
    "for county_id, state_id in zip(ca_cty_fips, ca_st_fips):\n",
    "    own_rate = requests.get(f\"{base_url}?get={home_own_var}&for=county:{county_id}&in=state:{state_id}\").json()\n",
    "    ca_own_rate.append(float(own_rate[1][0]))\n",
    "    \n",
    "in_ca_df[\"Home Own Rate\"] = ca_own_rate\n",
    "print(in_ca_df)\n",
    "\n",
    "nonca_own_rate = []\n",
    "home_own_var = \"DP04_0046PE\"\n",
    "    \n",
    "for county_id, state_id in zip(nonca_cty_fips, nonca_st_fips):\n",
    "    own_rate = requests.get(f\"{base_url}?get={home_own_var}&for=county:{county_id}&in=state:{state_id}\").json()\n",
    "    nonca_own_rate.append(float(own_rate[1][0]))\n",
    "    \n",
    "non_ca_df[\"Home Own Rate\"] = nonca_own_rate\n",
    "print(non_ca_df)"
   ]
  },
  {
   "cell_type": "code",
   "execution_count": null,
   "metadata": {
    "slideshow": {
     "slide_type": "slide"
    }
   },
   "outputs": [],
   "source": [
    "#plot in-CA home own rates\n",
    "\n",
    "x_axis = np.arange(len(ca_cty_name))\n",
    "tick_locations = [x for x in x_axis]\n",
    "plt.bar(x_axis, ca_own_rate)\n",
    "plt.xticks(tick_locations, ca_cty_name, rotation=45)\n",
    "\n",
    "plt.title(\"Home Ownership Rate by CA County\")\n",
    "plt.xlabel(\"County Name\")\n",
    "plt.ylabel(\"Home Ownership Rate (%)\")\n",
    "plt.ylim(0, 75)"
   ]
  },
  {
   "cell_type": "code",
   "execution_count": null,
   "metadata": {
    "slideshow": {
     "slide_type": "slide"
    }
   },
   "outputs": [],
   "source": [
    "#plot non-CA home own rates\n",
    "\n",
    "x_axis = np.arange(len(nonca_cty_name))\n",
    "tick_locations = [x for x in x_axis]\n",
    "plt.bar(x_axis, nonca_own_rate)\n",
    "plt.xticks(tick_locations, nonca_cty_name, rotation=45)\n",
    "\n",
    "plt.title(\"Home Ownership Rate by non-CA County\")\n",
    "plt.xlabel(\"County Name\")\n",
    "plt.ylabel(\"Home Ownership Rate (%)\")\n",
    "plt.ylim(0, 75)"
   ]
  },
  {
   "cell_type": "markdown",
   "metadata": {
    "slideshow": {
     "slide_type": "slide"
    }
   },
   "source": [
    "# Rebecca 2017 Median Household incomes for Top 5 Counties\n",
    "\n",
    "# Wage data from census \"QuickFacts\" utility\n",
    "\n",
    "### \n",
    "\n",
    "1. Use the graphical interface to input up to 6 locations (by city, county, state, etc) \n",
    "Reference:  https://www.census.gov/quickfacts/fact/table/US/PST045218\n",
    "\n",
    "** The only data cleaning done was to add (for out-of-state),  Travis County TX, (Austin is located there),  which was added manually to the \"non_CA_counties.csv\" files\n",
    "\n",
    "2. Import the csv\n",
    "*  Method: pd.read_csv"
   ]
  },
  {
   "cell_type": "code",
   "execution_count": null,
   "metadata": {},
   "outputs": [],
   "source": [
    "# Rebeccas Files to load\n",
    "\n",
    "\n",
    "#Display just the within CA data\n",
    "CA_counties.head()"
   ]
  },
  {
   "cell_type": "markdown",
   "metadata": {},
   "source": [
    "# Rebecca\n",
    "3. Clean up the data\n",
    "* Reduce the data size and clean up the naming (for easier reference later on)\n",
    "\n",
    "* df.drop()-    Drop columns all the columns which have no important data\n",
    "* df.dropna() - Drop rows with NaN\n",
    "* df.reset_index() - Reset the index because we had dropped out a few rows\n",
    "* df[:x] - Drop rows, only keep x rows\n",
    "* df.rename()  - Rename the colums with shorter names so the plots look ok"
   ]
  },
  {
   "cell_type": "code",
   "execution_count": null,
   "metadata": {},
   "outputs": [],
   "source": [
    "# Clean up the raw data - \n",
    "CA_counties.drop(columns = ['Fact Note'], inplace=True)\n",
    "CA_counties.drop(columns = ['Value Note for San Francisco County, California'], inplace=True)\n",
    "CA_counties.drop(columns = ['Value Note for Alameda County, California'], inplace=True)\n",
    "CA_counties.drop(columns = ['Value Note for San Mateo County, California'], inplace=True)\n",
    "CA_counties.drop(columns = ['Value Note for Contra Costa County, California'], inplace=True)\n",
    "CA_counties.drop(columns = ['Value Note for Los Angeles County, California'], inplace=True)\n",
    "CA_counties.drop(columns = ['Value Note for Santa Clara County, California'], inplace=True)\n",
    "\n",
    "non_CA_counties.drop(columns = ['Fact Note'], inplace=True)\n",
    "non_CA_counties.drop(columns = ['Value Note for San Francisco County, California'], inplace=True)\n",
    "non_CA_counties.drop(columns = ['Value Note for King County, Washington'], inplace=True)\n",
    "non_CA_counties.drop(columns = ['Value Note for New York County (Manhattan Borough), New York'], inplace=True)\n",
    "non_CA_counties.drop(columns = ['Value Note for Multnomah County, Oregon'], inplace=True)\n",
    "non_CA_counties.drop(columns = ['Value Note for Kings County (Brooklyn Borough), New York'], inplace=True)\n",
    "non_CA_counties.drop(columns = ['Value Note for Cook County, Illinois'], inplace=True)\n",
    "non_CA_counties.drop(columns = ['Value Note for Travis County, Texas'], inplace=True)\n",
    "\n",
    "# Remove the rows which have NaNs,  doing inplace needed\n",
    "CA_counties.dropna(inplace=True)\n",
    "non_CA_counties.dropna(inplace=True)\n",
    "\n",
    "# Reset the index to keep everything in order, drop = True means that the original index will be discarded\n",
    "# Do this because we need to have one DF that shows the row number as a reference (later code)\n",
    "# Reference:  https://stackoverflow.com/questions/33165734/update-index-after-sorting-data-frame\n",
    "\n",
    "CA_counties.reset_index(drop=True, inplace=True)\n",
    "non_CA_counties.reset_index(drop=True, inplace=True)\n",
    "\n",
    "\n",
    "# Only keep the top 62 rows of data\n",
    "\n",
    "CA_counties = CA_counties[:62]\n",
    "non_CA_counties = non_CA_counties[:62]\n",
    "\n",
    "\n",
    "CA_counties"
   ]
  },
  {
   "cell_type": "code",
   "execution_count": null,
   "metadata": {
    "scrolled": true
   },
   "outputs": [],
   "source": [
    "# Rename the columns, look at the DataFrame\n",
    "CA_counties = CA_counties.rename(columns={\"San Francisco County, California\": \"San Francisco\",\n",
    "                                 \"Alameda County, California\":\"Alameda\",\n",
    "                                 \"San Mateo County, California\":\"San Mateo\",\n",
    "                                 \"Contra Costa County, California\":\"Contra Costa\",\n",
    "                                \"Los Angeles County, California\":\"Los Angeles\",\n",
    "                                \"Santa Clara County, California\":\"Santa Clara\"\n",
    "                                            })\n",
    "\n",
    "\n",
    "# Move the Facts into the index to get it out of the way since we don't need to clean the numbers in that column\n",
    "# Making a new DF ca_data,  so  you can always refer to ca_df to see the line number of the row\n",
    "ca_data = CA_counties.set_index(\"Fact\")\n",
    "\n",
    "# Clean the $ and % and \" signs from multiple columns, first put the columns put them in a list\n",
    "# Reference:  https://stackoverflow.com/questions/38516481/trying-to-remove-commas-and-dollars-signs-with-pandas-in-python\n",
    "\n",
    "cols = ca_data.columns\n",
    "\n",
    "# pass cols to df.replace(), specifying $,%\" and , to be replaced by blanks\n",
    "\n",
    "ca_data[cols] = ca_data[cols].replace({'\\$': '', ',': '', '\\%':'', '\\\"': ''}, regex=True)\n",
    "\n",
    "non_ca_df = non_CA_counties.rename(columns={\"San Francisco County, California\":\"San Francisco\",\n",
    "                                 \"New York County (Manhattan Borough), New York\":\"NY (Manhattan), NY\",\n",
    "                                 \"King County, Washington\":\"King, WA\",\n",
    "                                \"Multnomah County, Oregon\":\"Multnomah, OR\",\n",
    "                                \"Kings County (Brooklyn Borough), New York\":\"Kings (Brooklyn), NY\",\n",
    "                                \"Cook County, Illinois\":\"Cook, IL\",\n",
    "                                \"Travis County, Texas\":\"Travis, TX\"\n",
    "                                            })\n",
    "\n",
    "# Move the Facts into the index to get it out of the way since we don't need to clean the numbers in that column\n",
    "# Making a new DF ca_data,  so  you can always refer to ca_df to see the line number of the row\n",
    "non_ca_data = non_CA_counties.set_index(\"Fact\")\n",
    "\n",
    "# Clean the $ and % and \" signs from multiple columns, first put the columns put them in a list\n",
    "# Reference:  https://stackoverflow.com/questions/38516481/trying-to-remove-commas-and-dollars-signs-with-pandas-in-python\n",
    "\n",
    "cols = non_ca_data.columns\n",
    "\n",
    "# pass cols to df.replace(), specifying $,%\" and , to be replaced by blanks\n",
    "\n",
    "non_ca_data[cols] = non_ca_data[cols].replace({'\\$': '', ',': '', '\\%':'', '\\\"': ''}, regex=True)\n",
    "\n",
    "\n",
    "ca_data"
   ]
  },
  {
   "cell_type": "markdown",
   "metadata": {},
   "source": [
    "3.1 Transform the data.  \n",
    "\n",
    "Because of the %, $ the data inside the dataframe are all read in as objects\n",
    "*   Doing it this way will clean the entire table, and the user can specify different facts to be used\n",
    "     \n",
    "*    df.set_index  - Move the \"Fact\" column into the index. That way the rest of the data will be cleaned of strings\n",
    "*    df.replace    - Replace the %, $, ,  in the data to blank\n",
    "*    df.apply(pd.to_numeric()) -- now change the objects in each column into numerics, \"apply\"  will apply to all cols\n"
   ]
  },
  {
   "cell_type": "code",
   "execution_count": null,
   "metadata": {},
   "outputs": [],
   "source": [
    "# convert all objects to numerics\n",
    "# reference:  https://stackoverflow.com/questions/36814100/pandas-to-numeric-for-multiple-columns\n",
    "cols = ca_data.columns[ca_data.dtypes.eq('object')]\n",
    "clean_ca = ca_data[cols].apply(pd.to_numeric, errors='coerce')\n",
    "clean_ca.head()\n",
    "\n",
    "cols = non_ca_data.columns[non_ca_data.dtypes.eq('object')]\n",
    "non_ca_data = non_ca_data[cols].apply(pd.to_numeric, errors='coerce')\n",
    "non_ca_data"
   ]
  },
  {
   "cell_type": "markdown",
   "metadata": {},
   "source": []
  },
  {
   "cell_type": "code",
   "execution_count": null,
   "metadata": {},
   "outputs": [],
   "source": [
    "# Remove extraneous rows, keep only the row you want -- Median Wages\n",
    "wages = clean_ca[44:45]\n",
    "\n",
    "# Remove extraneous rows, keep only Median Wages\n",
    "wages_nonCA = non_ca_data[44:45]\n",
    "\n",
    "wages"
   ]
  },
  {
   "cell_type": "code",
   "execution_count": null,
   "metadata": {},
   "outputs": [],
   "source": [
    "# Now setup x and y axes for the bar plot\n",
    "\n",
    "x_data = wages.columns.tolist()   #  x_data has the list of counties to be plotted\n",
    "x_axis = np.arange(len(x_data))\n",
    "\n",
    "print(x_data)            # Check that this is a list of counties\n",
    "print(wages.values[0])   # this is accessing the first (and only) row of data\n",
    "\n",
    "\n",
    "median_wage = wages.values[0]    #  [[1,2,3,4,5]] ->  row zero [0] [1,2,3,4,5]\n",
    "\n",
    "# Now setup x and y axes for the bar plot\n",
    "\n",
    "x2_data = wages_nonCA.columns.tolist()   #  x_data has the list of counties to be plotted\n",
    "x2_axis = np.arange(len(x2_data))\n",
    "\n",
    "print(x2_data)            # Check that this is a list of counties\n",
    "print(wages_nonCA.values[0])   # this is accessing the first (and only) row of data\n",
    "\n",
    "\n",
    "median_wage_nonCA = wages_nonCA.values[0]    #  [[1,2,3,4,5]] ->  row zero [0] [1,2,3,4,5]"
   ]
  },
  {
   "cell_type": "markdown",
   "metadata": {},
   "source": [
    "3.2      Setup to plot and plot\n",
    "*    df[x:y]        -Select the row or rows of data you need\n",
    "*    x_axis = np.arange(len(x_data)) -Set the x axis\n",
    "*                   -Set the values, extract if needed\n",
    "*    plt.bar()      - plot the bar chart"
   ]
  },
  {
   "cell_type": "code",
   "execution_count": null,
   "metadata": {},
   "outputs": [],
   "source": [
    "plt.bar(x_axis, median_wage, alpha=0.5, align=\"center\")\n",
    "\n",
    "tick_locations = [value for value in x_axis]\n",
    "#print(tick_locations)\n",
    "\n",
    "plt.xticks(tick_locations, x_data, rotation=\"35\", ha='right')   #ha indicates the alignment of the xlabel with the tick mark\n",
    "plt.xlim(-0.75, len(x_axis)-0.25)\n",
    "plt.ylim(0, max(median_wage) + 20000)\n",
    "plt.title(\"Median Wages for People Leaving San Francisco County\")\n",
    "plt.xlabel(\"Comparison between SF and Top 5 CA counties\")\n",
    "plt.ylabel(\"Median Salary, ($)\")\n",
    "\n",
    "# Add labels to give more context \n",
    "\n",
    "style = dict(size=8, color ='black')\n",
    "plt.text(0.3,120000, \"US Census 2013-2017, All data shown in 2017 dollars\", **style)\n",
    "#plt.text(1,-70000, \"All data shown in 2017 dollars\", **style)\n",
    "\n"
   ]
  },
  {
   "cell_type": "code",
   "execution_count": null,
   "metadata": {},
   "outputs": [],
   "source": [
    "plt.bar(x2_axis, median_wage_nonCA, alpha=0.5, align=\"center\")\n",
    "\n",
    "tick_locations = [value for value in x2_axis]\n",
    "#print(tick_locations)\n",
    "\n",
    "plt.xticks(tick_locations, x2_data, rotation=\"35\", ha='right')   #ha indicates the alignment of the xlabel with the tick mark\n",
    "plt.xlim(-0.75, len(x2_axis)-0.25)\n",
    "plt.ylim(0, max(median_wage) + 20000)\n",
    "plt.title(\"Median Wages for People Leaving San Francisco County\")\n",
    "plt.xlabel(\"Comparison between SF and Top 5 non-CA counties\")\n",
    "plt.ylabel(\"Median Salary, ($)\")\n",
    "\n",
    "# Add labels to give more context \n",
    "\n",
    "style = dict(size=8, color ='black')\n",
    "plt.text(0.4,120000, \"US Census 2013-2017, All data shown in 2017 dollars\", **style)\n",
    "#plt.text(1,-70000, \"All data shown in 2017 dollars\", **style)\n"
   ]
  },
  {
   "cell_type": "code",
   "execution_count": null,
   "metadata": {
    "slideshow": {
     "slide_type": "-"
    }
   },
   "outputs": [],
   "source": [
    "#convert a column to float\n",
    "df_original_1[\"EMPSZES.id\"] = pd.to_numeric(df_original_1[\"EMPSZES.id\"]) \n",
    "df_original_2[\"EMPSZES.id\"] = pd.to_numeric(df_original_2[\"EMPSZES.id\"]) \n",
    "df_original_3[\"EMPSZES.id\"] = pd.to_numeric(df_original_3[\"EMPSZES.id\"]) \n",
    "\n",
    "#filter by industry sizec(df_original[\"EMPSZES.id\"]) \n",
    "all_businesses_df_1 = df_original_1.loc[df_original_1[\"EMPSZES.id\"] == 1, :] \n",
    "all_businesses_df_2 = df_original_2.loc[df_original_2[\"EMPSZES.id\"] == 1, :] \n",
    "all_businesses_df_3 = df_original_3.loc[df_original_3[\"EMPSZES.id\"] == 1, :] \n",
    "\n",
    "#group by industry type\n",
    "df_groupedby_GEOID_1 = df_original_1.groupby('NAICS.id') \n",
    "df_groupedby_GEOID_2 = df_original_2.groupby('NAICS.id') \n",
    "df_groupedby_GEOID_3 = df_original_3.groupby('NAICS.id') \n",
    "\n",
    "#take the sum of the group\n",
    "df_quick_sum_1 = df_groupedby_GEOID_1[\"ESTAB\"].sum() \n",
    "df_quick_sum_2 = df_groupedby_GEOID_2[\"ESTAB\"].sum() \n",
    "df_quick_sum_3 = df_groupedby_GEOID_3[\"ESTAB\"].sum() \n",
    "\n",
    "#filter by industry type\n",
    "all_sizes_df_1 = all_businesses_df_1.loc[all_businesses_df_1[\"NAICS.id\"] == \"0\", :] \n",
    "all_sizes_df_2 = all_businesses_df_2.loc[all_businesses_df_2[\"NAICS.id\"] == \"0\", :] \n",
    "all_sizes_df_3 = all_businesses_df_3.loc[all_businesses_df_3[\"NAICS.id\"] == \"0\", :]\n",
    "\n",
    "all_sizes_df_1 = all_sizes_df_1.set_index(\"GEO.id2\")\n",
    "all_sizes_df_2 = all_sizes_df_2.set_index(\"GEO.id2\")\n",
    "all_sizes_df_3 = all_sizes_df_3.set_index(\"GEO.id2\")\n",
    "#result is a dataframe only containing only one county code per \"total # of establishments\""
   ]
  },
  {
   "cell_type": "code",
   "execution_count": null,
   "metadata": {},
   "outputs": [],
   "source": [
    "#create lists to hold values in interest from our 11 selected counties and append the values using the FIPS code\n",
    "\n",
    "toCal2014 = []\n",
    "toCal2015 = []\n",
    "toCal2016 = []\n",
    "outCal2014 = []\n",
    "outCal2015 = []\n",
    "outCal2016 = []\n",
    "\n",
    "toCal2014.append(all_sizes_df_1.loc[6075, \"ESTAB\" ])\n",
    "toCal2015.append(all_sizes_df_2.loc[6075, \"ESTAB\" ])\n",
    "toCal2016.append(all_sizes_df_3.loc[6075, \"ESTAB\" ])\n",
    "\n",
    "toCal2014.append(all_sizes_df_1.loc[6037, \"ESTAB\" ])\n",
    "toCal2015.append(all_sizes_df_2.loc[6037, \"ESTAB\" ])\n",
    "toCal2016.append(all_sizes_df_3.loc[6037, \"ESTAB\" ])\n",
    "\n",
    "toCal2014.append(all_sizes_df_1.loc[6085, \"ESTAB\" ])\n",
    "toCal2015.append(all_sizes_df_2.loc[6085, \"ESTAB\" ])\n",
    "toCal2016.append(all_sizes_df_3.loc[6085, \"ESTAB\" ])\n",
    "\n",
    "toCal2014.append(all_sizes_df_1.loc[6001, \"ESTAB\" ])\n",
    "toCal2015.append(all_sizes_df_2.loc[6001, \"ESTAB\" ])\n",
    "toCal2016.append(all_sizes_df_3.loc[6001, \"ESTAB\" ])\n",
    "\n",
    "toCal2014.append(all_sizes_df_1.loc[6013, \"ESTAB\" ])\n",
    "toCal2015.append(all_sizes_df_2.loc[6013, \"ESTAB\" ])\n",
    "toCal2016.append(all_sizes_df_3.loc[6013, \"ESTAB\" ])\n",
    "\n",
    "toCal2014.append(all_sizes_df_1.loc[6081, \"ESTAB\" ])\n",
    "toCal2015.append(all_sizes_df_2.loc[6081, \"ESTAB\" ])\n",
    "toCal2016.append(all_sizes_df_3.loc[6081, \"ESTAB\" ])\n",
    "\n",
    "outCal2014.append(all_sizes_df_1.loc[6075, \"ESTAB\" ])\n",
    "outCal2015.append(all_sizes_df_2.loc[6075, \"ESTAB\" ])\n",
    "outCal2016.append(all_sizes_df_3.loc[6075, \"ESTAB\" ])\n",
    "\n",
    "outCal2014.append(all_sizes_df_1.loc[17031, \"ESTAB\" ])\n",
    "outCal2015.append(all_sizes_df_2.loc[17031, \"ESTAB\" ])\n",
    "outCal2016.append(all_sizes_df_3.loc[17031, \"ESTAB\" ])\n",
    "\n",
    "outCal2014.append(all_sizes_df_1.loc[36061, \"ESTAB\" ])\n",
    "outCal2015.append(all_sizes_df_2.loc[36061, \"ESTAB\" ])\n",
    "outCal2016.append(all_sizes_df_3.loc[36061, \"ESTAB\" ])\n",
    "\n",
    "outCal2014.append(all_sizes_df_1.loc[53033, \"ESTAB\" ])\n",
    "outCal2015.append(all_sizes_df_2.loc[53033, \"ESTAB\" ])\n",
    "outCal2016.append(all_sizes_df_3.loc[53033, \"ESTAB\" ])\n",
    "\n",
    "outCal2014.append(all_sizes_df_1.loc[36047, \"ESTAB\" ])\n",
    "outCal2015.append(all_sizes_df_2.loc[36047, \"ESTAB\" ])\n",
    "outCal2016.append(all_sizes_df_3.loc[36047, \"ESTAB\" ])\n",
    "\n",
    "outCal2014.append(all_sizes_df_1.loc[41051, \"ESTAB\" ])\n",
    "outCal2015.append(all_sizes_df_2.loc[41051, \"ESTAB\" ])\n",
    "outCal2016.append(all_sizes_df_3.loc[41051, \"ESTAB\" ])"
   ]
  },
  {
   "cell_type": "code",
   "execution_count": null,
   "metadata": {},
   "outputs": [],
   "source": [
    "#Generate Grouped-Bar Graphs\n",
    "\n",
    "# set width of bar\n",
    "barWidth = 0.3\n",
    " \n",
    "# Set position of bar on X axis\n",
    "r1 = np.arange(len(toCal2014))\n",
    "r2 = [x + barWidth for x in r1]\n",
    "r3 = [x + barWidth for x in r2]\n",
    " \n",
    "# Make the plot\n",
    "plt.bar(r1, outCal2014, color='#0652ff', width=barWidth, edgecolor='white', label = '2014')\n",
    "plt.bar(r2, outCal2015, color='#74a662', width=barWidth, edgecolor='white', label = '2015')\n",
    "plt.bar(r3, outCal2016, color='#5729ce', width=barWidth, edgecolor='white', label = '2016')\n",
    " \n",
    "# Add xticks on the middle of the group bars\n",
    "plt.xlabel('3 Year Trend: # of Businesses in Counties Outside of CA', fontweight='bold')\n",
    "plt.ylabel(\"# of Businesses per County\")\n",
    "plt.xticks([r + barWidth for r in range(len(toCal2014))], ['San Francisco, CA', 'Cook, IL', 'New York, NY', 'King, WA', 'Kings, NY', 'Multnomah, OR'], rotation = 'vertical')\n",
    "plt.legend()\n",
    "# Create legend & Show graphic\n",
    "plt.show()\n"
   ]
  },
  {
   "cell_type": "code",
   "execution_count": null,
   "metadata": {},
   "outputs": [],
   "source": [
    "# set width of bar\n",
    "barWidth = 0.3\n",
    " \n",
    "# Set position of bar on X axis\n",
    "r1 = np.arange(len(toCal2014))\n",
    "r2 = [x + barWidth for x in r1]\n",
    "r3 = [x + barWidth for x in r2]\n",
    " \n",
    "# Make the plot\n",
    "plt.bar(r1, toCal2014, color='#0652ff', width=barWidth, edgecolor='white', label = '2014')\n",
    "plt.bar(r2, toCal2015, color='#74a662', width=barWidth, edgecolor='white', label = '2015')\n",
    "plt.bar(r3, toCal2016, color='#5729ce', width=barWidth, edgecolor='white', label = '2016')\n",
    " \n",
    "# Add xticks on the middle of the group bars\n",
    "plt.xlabel('3 Year Trend: # of Businesses in Counties Within CA', fontweight='bold')\n",
    "plt.ylabel(\"# of Businesses per County\")\n",
    "plt.xticks([r + barWidth for r in range(len(toCal2014))], ['San Francisco', 'Los Angeles', 'Santa Clara', 'Alameda', 'Contra Costa', 'San Mateo'], rotation = 'vertical')\n",
    "plt.legend()\n",
    "# Create legend & Show graphic\n",
    "plt.show()\n"
   ]
  },
  {
   "cell_type": "markdown",
   "metadata": {
    "slideshow": {
     "slide_type": "slide"
    }
   },
   "source": [
    "References\n",
    "Conclusion"
   ]
  },
  {
   "cell_type": "markdown",
   "metadata": {
    "slideshow": {
     "slide_type": "slide"
    }
   },
   "source": [
    "Keep in Mind:\n",
    "\n",
    "\n",
    "The questions you and your group found interesting, and what motivated you to answer them\n",
    "Where and how you found the data you used to answer these questions\n",
    "The data exploration and cleanup process (accompanied by your Jupyter Notebook)\n",
    "The analysis process (accompanied by your Jupyter Notebook)\n",
    "Your conclusions. This should include a numerical summary as well as visualizations of that summary\n",
    "Discuss the implications of your findings. This is where you get to have an open-ended discussion about what your findings \"mean\".\n"
   ]
  }
 ],
 "metadata": {
  "celltoolbar": "Slideshow",
  "kernelspec": {
   "display_name": "Python 3",
   "language": "python",
   "name": "python3"
  },
  "language_info": {
   "codemirror_mode": {
    "name": "ipython",
    "version": 3
   },
   "file_extension": ".py",
   "mimetype": "text/x-python",
   "name": "python",
   "nbconvert_exporter": "python",
   "pygments_lexer": "ipython3",
   "version": "3.7.0"
  }
 },
 "nbformat": 4,
 "nbformat_minor": 2
}
