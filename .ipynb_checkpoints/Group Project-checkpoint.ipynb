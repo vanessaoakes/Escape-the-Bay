{
 "cells": [
  {
   "cell_type": "code",
   "execution_count": 1,
   "metadata": {},
   "outputs": [],
   "source": [
    "import csv\n",
    "from matplotlib.ticker import FuncFormatter\n",
    "import matplotlib.pyplot as plt\n",
    "import pandas as pd\n",
    "import numpy as np"
   ]
  },
  {
   "cell_type": "code",
   "execution_count": 2,
   "metadata": {},
   "outputs": [],
   "source": [
    "#Vanessa's CSV\n",
    "# out_df = pd.read_csv('Quick Facts - Out of State.csv')\n",
    "# california_df = pd.read_csv('Quick Facts - California.csv')\n",
    "\n",
    "#Emily's API\n",
    "\n",
    "\n",
    "#Emily's CSV\n",
    "csv_path = \"SF_ALL_OUT.csv\"\n",
    "sf_out_df = pd.read_csv(csv_path)\n",
    "\n",
    "#Rebecca's CSV\n",
    "\n",
    "#Stefan's CSV\n"
   ]
  },
  {
   "cell_type": "markdown",
   "metadata": {
    "slideshow": {
     "slide_type": "slide"
    }
   },
   "source": [
    "# Escape the Bay\n",
    "\n",
    "Emily Todd, Vanessa Oakes, Rebecca X, Stefan X.\n",
    "\n"
   ]
  },
  {
   "cell_type": "markdown",
   "metadata": {
    "slideshow": {
     "slide_type": "subslide"
    }
   },
   "source": [
    "Research Question to Answer: What are the motiviating factors to move out of SF county?"
   ]
  },
  {
   "cell_type": "markdown",
   "metadata": {
    "slideshow": {
     "slide_type": "slide"
    }
   },
   "source": [
    "Parameters:\n",
    "Used latest data 2017 unless otherwise noted\n",
    "Although the majority of people leaving SF would move to nearby counties\n",
    "we have separated within California and Out of State.\n"
   ]
  },
  {
   "cell_type": "markdown",
   "metadata": {
    "slideshow": {
     "slide_type": "slide"
    }
   },
   "source": [
    "Research:\n",
    "\n",
    "    We used census.gov and their datasets.\n",
    "    We also we able to grab their API."
   ]
  },
  {
   "cell_type": "markdown",
   "metadata": {
    "slideshow": {
     "slide_type": "slide"
    }
   },
   "source": [
    "Housing:\n",
    "\n",
    "Why are they leaving? \n",
    "Where are they going?\n",
    "How's the housing market similar and different against SF County\n",
    "Who are they?\n",
    "\n",
    "_Insert Emily information"
   ]
  },
  {
   "cell_type": "code",
   "execution_count": 3,
   "metadata": {},
   "outputs": [
    {
     "data": {
      "text/html": [
       "<div>\n",
       "<style scoped>\n",
       "    .dataframe tbody tr th:only-of-type {\n",
       "        vertical-align: middle;\n",
       "    }\n",
       "\n",
       "    .dataframe tbody tr th {\n",
       "        vertical-align: top;\n",
       "    }\n",
       "\n",
       "    .dataframe thead th {\n",
       "        text-align: right;\n",
       "    }\n",
       "</style>\n",
       "<table border=\"1\" class=\"dataframe\">\n",
       "  <thead>\n",
       "    <tr style=\"text-align: right;\">\n",
       "      <th></th>\n",
       "      <th>State/County FIPS</th>\n",
       "      <th>State FIPS</th>\n",
       "      <th>County FIPS</th>\n",
       "      <th>County Name</th>\n",
       "      <th>State Name</th>\n",
       "      <th>Total</th>\n",
       "      <th>Margin of Error (+/-)</th>\n",
       "    </tr>\n",
       "  </thead>\n",
       "  <tbody>\n",
       "    <tr>\n",
       "      <th>19</th>\n",
       "      <td>'06001'</td>\n",
       "      <td>'06'</td>\n",
       "      <td>'001'</td>\n",
       "      <td>Alameda County</td>\n",
       "      <td>California</td>\n",
       "      <td>10791</td>\n",
       "      <td>1127</td>\n",
       "    </tr>\n",
       "    <tr>\n",
       "      <th>52</th>\n",
       "      <td>'06081'</td>\n",
       "      <td>'06'</td>\n",
       "      <td>'081'</td>\n",
       "      <td>San Mateo County</td>\n",
       "      <td>California</td>\n",
       "      <td>8995</td>\n",
       "      <td>1054</td>\n",
       "    </tr>\n",
       "    <tr>\n",
       "      <th>25</th>\n",
       "      <td>'06013'</td>\n",
       "      <td>'06'</td>\n",
       "      <td>'013'</td>\n",
       "      <td>Contra Costa County</td>\n",
       "      <td>California</td>\n",
       "      <td>4085</td>\n",
       "      <td>631</td>\n",
       "    </tr>\n",
       "    <tr>\n",
       "      <th>34</th>\n",
       "      <td>'06037'</td>\n",
       "      <td>'06'</td>\n",
       "      <td>'037'</td>\n",
       "      <td>Los Angeles County</td>\n",
       "      <td>California</td>\n",
       "      <td>3726</td>\n",
       "      <td>547</td>\n",
       "    </tr>\n",
       "    <tr>\n",
       "      <th>54</th>\n",
       "      <td>'06085'</td>\n",
       "      <td>'06'</td>\n",
       "      <td>'085'</td>\n",
       "      <td>Santa Clara County</td>\n",
       "      <td>California</td>\n",
       "      <td>3383</td>\n",
       "      <td>447</td>\n",
       "    </tr>\n",
       "  </tbody>\n",
       "</table>\n",
       "</div>"
      ],
      "text/plain": [
       "   State/County FIPS State FIPS County FIPS          County Name  State Name  \\\n",
       "19           '06001'       '06'       '001'       Alameda County  California   \n",
       "52           '06081'       '06'       '081'     San Mateo County  California   \n",
       "25           '06013'       '06'       '013'  Contra Costa County  California   \n",
       "34           '06037'       '06'       '037'   Los Angeles County  California   \n",
       "54           '06085'       '06'       '085'   Santa Clara County  California   \n",
       "\n",
       "    Total  Margin of Error (+/-)  \n",
       "19  10791                   1127  \n",
       "52   8995                   1054  \n",
       "25   4085                    631  \n",
       "34   3726                    547  \n",
       "54   3383                    447  "
      ]
     },
     "execution_count": 3,
     "metadata": {},
     "output_type": "execute_result"
    }
   ],
   "source": [
    "#Emily Counties\n",
    "ranked_sf_out_df = sf_out_df.sort_values(by='Total', ascending=False)\n",
    "sf_to_ca = ranked_sf_out_df.loc[ranked_sf_out_df[\"State Name\"] == \"California\",:]\n",
    "sf_to_ca.head(5)\n"
   ]
  },
  {
   "cell_type": "code",
   "execution_count": 4,
   "metadata": {},
   "outputs": [
    {
     "data": {
      "text/html": [
       "<div>\n",
       "<style scoped>\n",
       "    .dataframe tbody tr th:only-of-type {\n",
       "        vertical-align: middle;\n",
       "    }\n",
       "\n",
       "    .dataframe tbody tr th {\n",
       "        vertical-align: top;\n",
       "    }\n",
       "\n",
       "    .dataframe thead th {\n",
       "        text-align: right;\n",
       "    }\n",
       "</style>\n",
       "<table border=\"1\" class=\"dataframe\">\n",
       "  <thead>\n",
       "    <tr style=\"text-align: right;\">\n",
       "      <th></th>\n",
       "      <th>State/County FIPS</th>\n",
       "      <th>State FIPS</th>\n",
       "      <th>County FIPS</th>\n",
       "      <th>County Name</th>\n",
       "      <th>State Name</th>\n",
       "      <th>Total</th>\n",
       "      <th>Margin of Error (+/-)</th>\n",
       "    </tr>\n",
       "  </thead>\n",
       "  <tbody>\n",
       "    <tr>\n",
       "      <th>259</th>\n",
       "      <td>'36061'</td>\n",
       "      <td>'36'</td>\n",
       "      <td>'061'</td>\n",
       "      <td>New York County</td>\n",
       "      <td>New York</td>\n",
       "      <td>1419</td>\n",
       "      <td>657</td>\n",
       "    </tr>\n",
       "    <tr>\n",
       "      <th>413</th>\n",
       "      <td>'53033'</td>\n",
       "      <td>'53'</td>\n",
       "      <td>'033'</td>\n",
       "      <td>King County</td>\n",
       "      <td>Washington</td>\n",
       "      <td>1293</td>\n",
       "      <td>336</td>\n",
       "    </tr>\n",
       "    <tr>\n",
       "      <th>326</th>\n",
       "      <td>'41051'</td>\n",
       "      <td>'41'</td>\n",
       "      <td>'051'</td>\n",
       "      <td>Multnomah County</td>\n",
       "      <td>Oregon</td>\n",
       "      <td>1094</td>\n",
       "      <td>282</td>\n",
       "    </tr>\n",
       "    <tr>\n",
       "      <th>255</th>\n",
       "      <td>'36047'</td>\n",
       "      <td>'36'</td>\n",
       "      <td>'047'</td>\n",
       "      <td>Kings County</td>\n",
       "      <td>New York</td>\n",
       "      <td>887</td>\n",
       "      <td>300</td>\n",
       "    </tr>\n",
       "    <tr>\n",
       "      <th>131</th>\n",
       "      <td>'17031'</td>\n",
       "      <td>'17'</td>\n",
       "      <td>'031'</td>\n",
       "      <td>Cook County</td>\n",
       "      <td>Illinois</td>\n",
       "      <td>635</td>\n",
       "      <td>223</td>\n",
       "    </tr>\n",
       "  </tbody>\n",
       "</table>\n",
       "</div>"
      ],
      "text/plain": [
       "    State/County FIPS State FIPS County FIPS       County Name  State Name  \\\n",
       "259           '36061'       '36'       '061'   New York County    New York   \n",
       "413           '53033'       '53'       '033'       King County  Washington   \n",
       "326           '41051'       '41'       '051'  Multnomah County      Oregon   \n",
       "255           '36047'       '36'       '047'      Kings County    New York   \n",
       "131           '17031'       '17'       '031'       Cook County    Illinois   \n",
       "\n",
       "     Total  Margin of Error (+/-)  \n",
       "259   1419                    657  \n",
       "413   1293                    336  \n",
       "326   1094                    282  \n",
       "255    887                    300  \n",
       "131    635                    223  "
      ]
     },
     "execution_count": 4,
     "metadata": {},
     "output_type": "execute_result"
    }
   ],
   "source": [
    "sf_not_ca = ranked_sf_out_df.loc[ranked_sf_out_df[\"State Name\"] != \"California\",:]\n",
    "sf_not_ca.head(5)"
   ]
  },
  {
   "cell_type": "code",
   "execution_count": 5,
   "metadata": {
    "slideshow": {
     "slide_type": "slide"
    }
   },
   "outputs": [
    {
     "ename": "SyntaxError",
     "evalue": "invalid syntax (<ipython-input-5-0606abca8aea>, line 2)",
     "output_type": "error",
     "traceback": [
      "\u001b[0;36m  File \u001b[0;32m\"<ipython-input-5-0606abca8aea>\"\u001b[0;36m, line \u001b[0;32m2\u001b[0m\n\u001b[0;31m    Top 5 Counties in California\u001b[0m\n\u001b[0m        ^\u001b[0m\n\u001b[0;31mSyntaxError\u001b[0m\u001b[0;31m:\u001b[0m invalid syntax\n"
     ]
    }
   ],
   "source": [
    "#Emily's CSV to show how she got in/out state\n",
    "Top 5 Counties in California\n",
    "California\n",
    "1. Alameda County\n",
    "2. San Mateo County\n",
    "3. Contra Costa County\n",
    "4. Los Angeles County\n",
    "5. Santa Clara County\n",
    "\n",
    "Top 5 Counties they leave outside of California\n",
    "Non – California\n",
    "1.\tNew York County (NY)\n",
    "2.\tKing County (Washington)\n",
    "3.\tMultnomah County (Oregon)\n",
    "4.\tKings County (New York)\n",
    "5.\tCook County (Illinois)\n"
   ]
  },
  {
   "cell_type": "code",
   "execution_count": null,
   "metadata": {
    "slideshow": {
     "slide_type": "slide"
    }
   },
   "outputs": [],
   "source": [
    "#Vanessa's info\n",
    "Generic:\n",
    "Who are the people leaving? \n",
    "Race / Ethnicity\n",
    "Gender / Age\n",
    "Marital Status"
   ]
  },
  {
   "cell_type": "code",
   "execution_count": null,
   "metadata": {},
   "outputs": [],
   "source": [
    "#Emily info\n",
    "Motivations\n",
    "Why are they leaving? \n",
    "Where are they going?\n",
    "How's the housing market similar and different against SF County"
   ]
  },
  {
   "cell_type": "code",
   "execution_count": null,
   "metadata": {
    "slideshow": {
     "slide_type": "slide"
    }
   },
   "outputs": [],
   "source": []
  },
  {
   "cell_type": "code",
   "execution_count": null,
   "metadata": {
    "slideshow": {
     "slide_type": "slide"
    }
   },
   "outputs": [],
   "source": [
    "Rebecca\n",
    "Income within 11 different counties\n",
    "-What's the status of median household income in SF against CA/Out\n",
    "    -Are people giving up anything\n",
    "-Commute?\n"
   ]
  },
  {
   "cell_type": "code",
   "execution_count": null,
   "metadata": {
    "slideshow": {
     "slide_type": "slide"
    }
   },
   "outputs": [],
   "source": [
    "Stefan\n",
    "Number of businesses information\n",
    "Employment\n",
    "#SF is not in the front of his graph\n",
    "#No clear explanation of what the graph's represent\n"
   ]
  },
  {
   "cell_type": "code",
   "execution_count": null,
   "metadata": {
    "slideshow": {
     "slide_type": "slide"
    }
   },
   "outputs": [],
   "source": [
    "References\n",
    "Conclusion"
   ]
  },
  {
   "cell_type": "code",
   "execution_count": null,
   "metadata": {
    "slideshow": {
     "slide_type": "slide"
    }
   },
   "outputs": [],
   "source": [
    "Keep in Mind:\n",
    "\n",
    "\n",
    "The questions you and your group found interesting, and what motivated you to answer them\n",
    "Where and how you found the data you used to answer these questions\n",
    "The data exploration and cleanup process (accompanied by your Jupyter Notebook)\n",
    "The analysis process (accompanied by your Jupyter Notebook)\n",
    "Your conclusions. This should include a numerical summary as well as visualizations of that summary\n",
    "Discuss the implications of your findings. This is where you get to have an open-ended discussion about what your findings \"mean\".\n"
   ]
  }
 ],
 "metadata": {
  "celltoolbar": "Slideshow",
  "kernelspec": {
   "display_name": "Python 3",
   "language": "python",
   "name": "python3"
  },
  "language_info": {
   "codemirror_mode": {
    "name": "ipython",
    "version": 3
   },
   "file_extension": ".py",
   "mimetype": "text/x-python",
   "name": "python",
   "nbconvert_exporter": "python",
   "pygments_lexer": "ipython3",
   "version": "3.7.2"
  }
 },
 "nbformat": 4,
 "nbformat_minor": 2
}
