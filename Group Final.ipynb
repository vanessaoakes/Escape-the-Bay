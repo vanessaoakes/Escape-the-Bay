{
 "cells": [
  {
   "cell_type": "code",
   "execution_count": 1,
   "metadata": {},
   "outputs": [],
   "source": [
    "import csv\n",
    "from matplotlib.ticker import FuncFormatter\n",
    "import matplotlib.pyplot as plt\n",
    "import pandas as pd\n",
    "import numpy as np\n",
    "import requests\n",
    "import json"
   ]
  },
  {
   "cell_type": "code",
   "execution_count": 2,
   "metadata": {},
   "outputs": [
    {
     "ename": "FileNotFoundError",
     "evalue": "File b'Quick Facts- Outside CA.csv' does not exist",
     "output_type": "error",
     "traceback": [
      "\u001b[1;31m---------------------------------------------------------------------------\u001b[0m",
      "\u001b[1;31mFileNotFoundError\u001b[0m                         Traceback (most recent call last)",
      "\u001b[1;32m<ipython-input-2-f06d9b53d00e>\u001b[0m in \u001b[0;36m<module>\u001b[1;34m()\u001b[0m\n\u001b[0;32m      1\u001b[0m \u001b[1;31m#Vanessa's CSV\u001b[0m\u001b[1;33m\u001b[0m\u001b[1;33m\u001b[0m\u001b[0m\n\u001b[1;32m----> 2\u001b[1;33m \u001b[0mout_df\u001b[0m \u001b[1;33m=\u001b[0m \u001b[0mpd\u001b[0m\u001b[1;33m.\u001b[0m\u001b[0mread_csv\u001b[0m\u001b[1;33m(\u001b[0m\u001b[1;34m'Quick Facts- Outside CA.csv'\u001b[0m\u001b[1;33m)\u001b[0m\u001b[1;33m\u001b[0m\u001b[0m\n\u001b[0m\u001b[0;32m      3\u001b[0m \u001b[0mcalifornia_df\u001b[0m \u001b[1;33m=\u001b[0m \u001b[0mpd\u001b[0m\u001b[1;33m.\u001b[0m\u001b[0mread_csv\u001b[0m\u001b[1;33m(\u001b[0m\u001b[1;34m'Quick Facts-California.csv'\u001b[0m\u001b[1;33m)\u001b[0m\u001b[1;33m\u001b[0m\u001b[0m\n\u001b[0;32m      4\u001b[0m \u001b[0mmarital_ca_df\u001b[0m \u001b[1;33m=\u001b[0m \u001b[0mpd\u001b[0m\u001b[1;33m.\u001b[0m\u001b[0mread_csv\u001b[0m\u001b[1;33m(\u001b[0m\u001b[1;34m'California - Marital 3.csv'\u001b[0m\u001b[1;33m)\u001b[0m\u001b[1;33m\u001b[0m\u001b[0m\n\u001b[0;32m      5\u001b[0m \u001b[0mmarital_out_df\u001b[0m \u001b[1;33m=\u001b[0m \u001b[0mpd\u001b[0m\u001b[1;33m.\u001b[0m\u001b[0mread_csv\u001b[0m\u001b[1;33m(\u001b[0m\u001b[1;34m'Out of State - Marital.csv'\u001b[0m\u001b[1;33m)\u001b[0m\u001b[1;33m\u001b[0m\u001b[0m\n",
      "\u001b[1;32m~\\Anaconda3\\lib\\site-packages\\pandas\\io\\parsers.py\u001b[0m in \u001b[0;36mparser_f\u001b[1;34m(filepath_or_buffer, sep, delimiter, header, names, index_col, usecols, squeeze, prefix, mangle_dupe_cols, dtype, engine, converters, true_values, false_values, skipinitialspace, skiprows, nrows, na_values, keep_default_na, na_filter, verbose, skip_blank_lines, parse_dates, infer_datetime_format, keep_date_col, date_parser, dayfirst, iterator, chunksize, compression, thousands, decimal, lineterminator, quotechar, quoting, escapechar, comment, encoding, dialect, tupleize_cols, error_bad_lines, warn_bad_lines, skipfooter, doublequote, delim_whitespace, low_memory, memory_map, float_precision)\u001b[0m\n\u001b[0;32m    676\u001b[0m                     skip_blank_lines=skip_blank_lines)\n\u001b[0;32m    677\u001b[0m \u001b[1;33m\u001b[0m\u001b[0m\n\u001b[1;32m--> 678\u001b[1;33m         \u001b[1;32mreturn\u001b[0m \u001b[0m_read\u001b[0m\u001b[1;33m(\u001b[0m\u001b[0mfilepath_or_buffer\u001b[0m\u001b[1;33m,\u001b[0m \u001b[0mkwds\u001b[0m\u001b[1;33m)\u001b[0m\u001b[1;33m\u001b[0m\u001b[0m\n\u001b[0m\u001b[0;32m    679\u001b[0m \u001b[1;33m\u001b[0m\u001b[0m\n\u001b[0;32m    680\u001b[0m     \u001b[0mparser_f\u001b[0m\u001b[1;33m.\u001b[0m\u001b[0m__name__\u001b[0m \u001b[1;33m=\u001b[0m \u001b[0mname\u001b[0m\u001b[1;33m\u001b[0m\u001b[0m\n",
      "\u001b[1;32m~\\Anaconda3\\lib\\site-packages\\pandas\\io\\parsers.py\u001b[0m in \u001b[0;36m_read\u001b[1;34m(filepath_or_buffer, kwds)\u001b[0m\n\u001b[0;32m    438\u001b[0m \u001b[1;33m\u001b[0m\u001b[0m\n\u001b[0;32m    439\u001b[0m     \u001b[1;31m# Create the parser.\u001b[0m\u001b[1;33m\u001b[0m\u001b[1;33m\u001b[0m\u001b[0m\n\u001b[1;32m--> 440\u001b[1;33m     \u001b[0mparser\u001b[0m \u001b[1;33m=\u001b[0m \u001b[0mTextFileReader\u001b[0m\u001b[1;33m(\u001b[0m\u001b[0mfilepath_or_buffer\u001b[0m\u001b[1;33m,\u001b[0m \u001b[1;33m**\u001b[0m\u001b[0mkwds\u001b[0m\u001b[1;33m)\u001b[0m\u001b[1;33m\u001b[0m\u001b[0m\n\u001b[0m\u001b[0;32m    441\u001b[0m \u001b[1;33m\u001b[0m\u001b[0m\n\u001b[0;32m    442\u001b[0m     \u001b[1;32mif\u001b[0m \u001b[0mchunksize\u001b[0m \u001b[1;32mor\u001b[0m \u001b[0miterator\u001b[0m\u001b[1;33m:\u001b[0m\u001b[1;33m\u001b[0m\u001b[0m\n",
      "\u001b[1;32m~\\Anaconda3\\lib\\site-packages\\pandas\\io\\parsers.py\u001b[0m in \u001b[0;36m__init__\u001b[1;34m(self, f, engine, **kwds)\u001b[0m\n\u001b[0;32m    785\u001b[0m             \u001b[0mself\u001b[0m\u001b[1;33m.\u001b[0m\u001b[0moptions\u001b[0m\u001b[1;33m[\u001b[0m\u001b[1;34m'has_index_names'\u001b[0m\u001b[1;33m]\u001b[0m \u001b[1;33m=\u001b[0m \u001b[0mkwds\u001b[0m\u001b[1;33m[\u001b[0m\u001b[1;34m'has_index_names'\u001b[0m\u001b[1;33m]\u001b[0m\u001b[1;33m\u001b[0m\u001b[0m\n\u001b[0;32m    786\u001b[0m \u001b[1;33m\u001b[0m\u001b[0m\n\u001b[1;32m--> 787\u001b[1;33m         \u001b[0mself\u001b[0m\u001b[1;33m.\u001b[0m\u001b[0m_make_engine\u001b[0m\u001b[1;33m(\u001b[0m\u001b[0mself\u001b[0m\u001b[1;33m.\u001b[0m\u001b[0mengine\u001b[0m\u001b[1;33m)\u001b[0m\u001b[1;33m\u001b[0m\u001b[0m\n\u001b[0m\u001b[0;32m    788\u001b[0m \u001b[1;33m\u001b[0m\u001b[0m\n\u001b[0;32m    789\u001b[0m     \u001b[1;32mdef\u001b[0m \u001b[0mclose\u001b[0m\u001b[1;33m(\u001b[0m\u001b[0mself\u001b[0m\u001b[1;33m)\u001b[0m\u001b[1;33m:\u001b[0m\u001b[1;33m\u001b[0m\u001b[0m\n",
      "\u001b[1;32m~\\Anaconda3\\lib\\site-packages\\pandas\\io\\parsers.py\u001b[0m in \u001b[0;36m_make_engine\u001b[1;34m(self, engine)\u001b[0m\n\u001b[0;32m   1012\u001b[0m     \u001b[1;32mdef\u001b[0m \u001b[0m_make_engine\u001b[0m\u001b[1;33m(\u001b[0m\u001b[0mself\u001b[0m\u001b[1;33m,\u001b[0m \u001b[0mengine\u001b[0m\u001b[1;33m=\u001b[0m\u001b[1;34m'c'\u001b[0m\u001b[1;33m)\u001b[0m\u001b[1;33m:\u001b[0m\u001b[1;33m\u001b[0m\u001b[0m\n\u001b[0;32m   1013\u001b[0m         \u001b[1;32mif\u001b[0m \u001b[0mengine\u001b[0m \u001b[1;33m==\u001b[0m \u001b[1;34m'c'\u001b[0m\u001b[1;33m:\u001b[0m\u001b[1;33m\u001b[0m\u001b[0m\n\u001b[1;32m-> 1014\u001b[1;33m             \u001b[0mself\u001b[0m\u001b[1;33m.\u001b[0m\u001b[0m_engine\u001b[0m \u001b[1;33m=\u001b[0m \u001b[0mCParserWrapper\u001b[0m\u001b[1;33m(\u001b[0m\u001b[0mself\u001b[0m\u001b[1;33m.\u001b[0m\u001b[0mf\u001b[0m\u001b[1;33m,\u001b[0m \u001b[1;33m**\u001b[0m\u001b[0mself\u001b[0m\u001b[1;33m.\u001b[0m\u001b[0moptions\u001b[0m\u001b[1;33m)\u001b[0m\u001b[1;33m\u001b[0m\u001b[0m\n\u001b[0m\u001b[0;32m   1015\u001b[0m         \u001b[1;32melse\u001b[0m\u001b[1;33m:\u001b[0m\u001b[1;33m\u001b[0m\u001b[0m\n\u001b[0;32m   1016\u001b[0m             \u001b[1;32mif\u001b[0m \u001b[0mengine\u001b[0m \u001b[1;33m==\u001b[0m \u001b[1;34m'python'\u001b[0m\u001b[1;33m:\u001b[0m\u001b[1;33m\u001b[0m\u001b[0m\n",
      "\u001b[1;32m~\\Anaconda3\\lib\\site-packages\\pandas\\io\\parsers.py\u001b[0m in \u001b[0;36m__init__\u001b[1;34m(self, src, **kwds)\u001b[0m\n\u001b[0;32m   1706\u001b[0m         \u001b[0mkwds\u001b[0m\u001b[1;33m[\u001b[0m\u001b[1;34m'usecols'\u001b[0m\u001b[1;33m]\u001b[0m \u001b[1;33m=\u001b[0m \u001b[0mself\u001b[0m\u001b[1;33m.\u001b[0m\u001b[0musecols\u001b[0m\u001b[1;33m\u001b[0m\u001b[0m\n\u001b[0;32m   1707\u001b[0m \u001b[1;33m\u001b[0m\u001b[0m\n\u001b[1;32m-> 1708\u001b[1;33m         \u001b[0mself\u001b[0m\u001b[1;33m.\u001b[0m\u001b[0m_reader\u001b[0m \u001b[1;33m=\u001b[0m \u001b[0mparsers\u001b[0m\u001b[1;33m.\u001b[0m\u001b[0mTextReader\u001b[0m\u001b[1;33m(\u001b[0m\u001b[0msrc\u001b[0m\u001b[1;33m,\u001b[0m \u001b[1;33m**\u001b[0m\u001b[0mkwds\u001b[0m\u001b[1;33m)\u001b[0m\u001b[1;33m\u001b[0m\u001b[0m\n\u001b[0m\u001b[0;32m   1709\u001b[0m \u001b[1;33m\u001b[0m\u001b[0m\n\u001b[0;32m   1710\u001b[0m         \u001b[0mpassed_names\u001b[0m \u001b[1;33m=\u001b[0m \u001b[0mself\u001b[0m\u001b[1;33m.\u001b[0m\u001b[0mnames\u001b[0m \u001b[1;32mis\u001b[0m \u001b[1;32mNone\u001b[0m\u001b[1;33m\u001b[0m\u001b[0m\n",
      "\u001b[1;32mpandas\\_libs\\parsers.pyx\u001b[0m in \u001b[0;36mpandas._libs.parsers.TextReader.__cinit__\u001b[1;34m()\u001b[0m\n",
      "\u001b[1;32mpandas\\_libs\\parsers.pyx\u001b[0m in \u001b[0;36mpandas._libs.parsers.TextReader._setup_parser_source\u001b[1;34m()\u001b[0m\n",
      "\u001b[1;31mFileNotFoundError\u001b[0m: File b'Quick Facts- Outside CA.csv' does not exist"
     ]
    }
   ],
   "source": [
    "#Vanessa's CSV\n",
    "out_df = pd.read_csv('Quick Facts- Outside CA.csv')\n",
    "california_df = pd.read_csv('Quick Facts-California.csv')\n",
    "marital_ca_df = pd.read_csv('California - Marital 3.csv')\n",
    "marital_out_df = pd.read_csv('Out of State - Marital.csv')\n",
    "\n",
    "#Emily's API\n",
    "\n",
    "\n",
    "#Emily's CSV\n",
    "csv_path = \"SF_All_OUT.csv\"\n",
    "sf_out_df = pd.read_csv(csv_path)\n",
    "\n",
    "#Rebecca's CSV\n",
    "\n",
    "#Stefan's CSV\n"
   ]
  },
  {
   "cell_type": "markdown",
   "metadata": {
    "slideshow": {
     "slide_type": "slide"
    }
   },
   "source": [
    "# Escape the Bay\n",
    "\n",
    "Emily Todd, Vanessa Oakes, Rebecca Mih, Stefan Zobrist\n",
    "\n"
   ]
  },
  {
   "cell_type": "markdown",
   "metadata": {
    "slideshow": {
     "slide_type": "subslide"
    }
   },
   "source": [
    "Research Question to Answer: What are the motiviating factors to move out of SF county?"
   ]
  },
  {
   "cell_type": "markdown",
   "metadata": {
    "slideshow": {
     "slide_type": "slide"
    }
   },
   "source": [
    "Parameters:\n",
    "Used latest data 2017 unless otherwise noted\n",
    "Although the majority of people leaving SF would move to nearby counties\n",
    "we have separated within California and Out of State.\n"
   ]
  },
  {
   "cell_type": "markdown",
   "metadata": {
    "slideshow": {
     "slide_type": "slide"
    }
   },
   "source": [
    "Research:\n",
    "\n",
    "    We used census.gov and their datasets.\n",
    "    We also we able to grab their API."
   ]
  },
  {
   "cell_type": "markdown",
   "metadata": {
    "slideshow": {
     "slide_type": "slide"
    }
   },
   "source": [
    "Housing:\n",
    "\n",
    "Why are they leaving? \n",
    "Where are they going?\n",
    "How's the housing market similar and different against SF County\n",
    "Who are they?"
   ]
  },
  {
   "cell_type": "code",
   "execution_count": null,
   "metadata": {},
   "outputs": [],
   "source": [
    "#Top 5 in-CA counties\n",
    "ranked_sf_out_df = sf_out_df.sort_values(by='Total', ascending=False)\n",
    "sf_to_ca = ranked_sf_out_df.loc[ranked_sf_out_df[\"State Name\"] == \"California\",:]\n",
    "sf_to_ca.head(5)\n"
   ]
  },
  {
   "cell_type": "code",
   "execution_count": null,
   "metadata": {},
   "outputs": [],
   "source": [
    "#Top 5 non-CA counties\n",
    "sf_not_ca = ranked_sf_out_df.loc[ranked_sf_out_df[\"State Name\"] != \"California\",:]\n",
    "sf_not_ca.head(5)"
   ]
  },
  {
   "cell_type": "markdown",
   "metadata": {
    "slideshow": {
     "slide_type": "skip"
    }
   },
   "source": [
    "#Emily's CSV to show how she got in/out state\n",
    "Top 5 Counties in California\n",
    "California\n",
    "1. Alameda County\n",
    "2. San Mateo County\n",
    "3. Contra Costa County\n",
    "4. Los Angeles County\n",
    "5. Santa Clara County\n",
    "\n",
    "Top 5 Counties they leave outside of California\n",
    "Non – California\n",
    "1.\tNew York County (NY)\n",
    "2.\tKing County (Washington)\n",
    "3.\tMultnomah County (Oregon)\n",
    "4.\tKings County (New York)\n",
    "5.\tCook County (Illinois)\n"
   ]
  },
  {
   "cell_type": "code",
   "execution_count": null,
   "metadata": {
    "slideshow": {
     "slide_type": "slide"
    }
   },
   "outputs": [],
   "source": [
    "# California - Race\n",
    "\n",
    "# Who are the people leaving? \n",
    "# Race / Ethnicity\n",
    "# Gender / Age\n",
    "# Marital Status\n",
    "\n",
    "california_df = pd.read_csv('Quick Facts-California.csv')\n",
    "# california_df.drop(columns = [\"Fact Note\"], inplace=True)\n",
    "# california_df.drop(columns = [\"Value Note for Santa Clara County, California\"], inplace=True)\n",
    "# california_df.drop(columns = [\"Value Note for Contra Costa County, California\"], inplace=True)\n",
    "# california_df.drop(columns = [\"Value Note for Los Angeles County, California\"], inplace=True)\n",
    "# california_df.drop(columns = [\"Value Note for San Mateo County, California\"], inplace=True)\n",
    "# california_df.drop(columns = [\"Value Note for Alameda County, California\"], inplace=True)\n",
    "# california_df.drop(columns = [\"Value Note for San Francisco County, California\"], inplace=True)\n",
    "\n",
    "cols = list(california_df.columns.values)\n",
    "cols\n",
    "\n",
    "column_titles = ['Fact',\n",
    "                'San Francisco County, California',\n",
    "                'Alameda County, California', \n",
    "                 'San Mateo County, California',\n",
    "                'Contra Costa County, California', \n",
    "                 'Los Angeles County, California',\n",
    "                'Santa Clara County, California']\n",
    "\n",
    "california_df = california_df.reindex(columns = column_titles)\n",
    "california_df\n",
    "\n",
    "#Pulling Race Information\n",
    "california_race = california_df.iloc[8:16,0:7]\n",
    "california_race\n",
    "\n",
    "# # Used Lambda to convert to Float\n",
    "california_race['Santa Clara County, California'] = california_race['Santa Clara County, California'].apply(lambda x: float(x[:-1]))\n",
    "california_race['Los Angeles County, California'] = california_race['Los Angeles County, California'].apply(lambda x: float(x[:-1]))\n",
    "california_race['Contra Costa County, California'] = california_race['Contra Costa County, California'].apply(lambda x: float(x[:-1]))\n",
    "california_race['San Mateo County, California'] = california_race['San Mateo County, California'].apply(lambda x: float(x[:-1]))\n",
    "california_race['Alameda County, California'] = california_race['Alameda County, California'].apply(lambda x: float(x[:-1]))\n",
    "california_race['San Francisco County, California'] = california_race['San Francisco County, California'].apply(lambda x: float(x[:-1]))\n",
    "\n",
    "#Removed \",percent\"\n",
    "california_race['Fact'] = california_race['Fact'].apply(lambda x: x[:-9])\n",
    "california_race\n",
    "\n",
    "# California - Race\n",
    "#Hispanic is over the 100% should we make it by itself or add it to \"white\"\n",
    "\n",
    "race = [\"White alone\", \"Black or African American Alone\", \"American Indian and Alaska Native alone\", \"Asian alone\",\n",
    "       \"Native Hawaiian and Other PAcific Islander alone\", \"Two or More Races\", \"Hispanic or Latino\"]\n",
    "\n",
    "county = ['Santa Clara County, California', 'Los Angeles County, California', 'Contra Costa County, California', \n",
    "         'San Mateo County, California', 'Alameda County, California', 'San Francisco County, California']\n",
    "\n",
    "N = 6\n",
    "ind = np.arange(N)\n",
    "width = .75\n",
    "\n",
    "#White\n",
    "white = california_race.iloc[0, 1:7]\n",
    "\n",
    "#African America\n",
    "aa = california_race.iloc[1, 1:7]\n",
    "\n",
    "#American Indian & Alaska Native\n",
    "ai = california_race.iloc[2, 1:7]\n",
    "\n",
    "#Native Hawaiian and Other Pacific\n",
    "hawaiian = california_race.iloc[3, 1:7]\n",
    "\n",
    "#Asian\n",
    "asian = california_race.iloc[4, 1:7]\n",
    "\n",
    "#Two or More Races\n",
    "two = california_race.iloc[5, 1:7]\n",
    "\n",
    "#Hispanic or Latino\n",
    "hispanic = california_race.iloc[6, 1:7]\n",
    "\n",
    "p1 = plt.bar(ind,white,width)\n",
    "p2 = plt.bar(ind,aa,width, bottom=white)\n",
    "p3 = plt.bar(ind,ai,width, bottom=white+aa)\n",
    "p4 = plt.bar(ind,hawaiian,width, bottom=white+aa+ai)\n",
    "p5 = plt.bar(ind,asian,width, bottom=white+aa+ai+hawaiian)\n",
    "p6 = plt.bar(ind,two,width, bottom =white+aa+ai+hawaiian+asian)\n",
    "p7 = plt.bar(ind,hispanic,width, bottom =white+aa+ai+hawaiian+asian+two)\n",
    "\n",
    "\n",
    "plt.ylabel('By Percentage')\n",
    "plt.title('California: Race')\n",
    "plt.xticks(ind, ('San Francisco', 'Alameda', 'San Mateo', 'Contra Costa',\n",
    "                'Los Angeles', 'Santa Clara'),rotation='vertical')\n",
    "\n",
    "plt.legend((p1[0], p2[0], p3[0], \n",
    "            p4[0], p5[0],p6[0], p7[0]),\n",
    "           ('White', 'African American', \n",
    "            'American Indian or Alaska Native',\n",
    "            'Hawaiian or Other Pacific', 'Asian', \n",
    "            'Two or More Races', 'Hispanic'),loc='upper right',\n",
    "          bbox_to_anchor =(1.65, 1.0))\n",
    "\n",
    "plt.show()\n",
    "\n",
    "\n"
   ]
  },
  {
   "cell_type": "code",
   "execution_count": null,
   "metadata": {
    "slideshow": {
     "slide_type": "slide"
    }
   },
   "outputs": [],
   "source": [
    "# Out of State- Race\n",
    "out_df = pd.read_csv('Quick Facts- Outside CA.csv')\n",
    "\n",
    "out_df.drop(columns = [\"Fact Note\"], inplace=True) # TANNER - uncommented this\n",
    "# out_df.drop(columns = [\"Value Note for Cook County, Illinois\"], inplace=True)\n",
    "# out_df.drop(columns = [\"Value Note for Kings County (Brooklyn Borough), New York\"], inplace=True)\n",
    "# out_df.drop(columns = [\"Value Note for Multnomah County, Oregon\"], inplace=True)\n",
    "# out_df.drop(columns = [\"Value Note for King County, Washington\"], inplace=True)\n",
    "# out_df.drop(columns = [\"Value Note for New York County (Manhattan Borough), New York\"], inplace=True)\n",
    "# out_df.drop(columns = [\"Value Note for San Francisco County, California\"], inplace=True)\n",
    "\n",
    "\n",
    "cols = list(out_df.columns.values)\n",
    "cols\n",
    "\n",
    "column_titles = ['Fact',\n",
    "                'San Francisco County, California',\n",
    "                'New York County (Manhattan Borough), New York', \n",
    "                 'King County, Washington',\n",
    "                'Multnomah County, Oregon', \n",
    "                 'Kings County (Brooklyn Borough), New York',\n",
    "                'Cook County, Illinois']\n",
    "\n",
    "out_df.reindex(columns = column_titles)\n",
    "\n",
    "\n",
    "\n",
    "\n"
   ]
  },
  {
   "cell_type": "code",
   "execution_count": null,
   "metadata": {},
   "outputs": [],
   "source": [
    "#Pulling Race Information\n",
    "out_race = out_df.iloc[8:15,0:7]\n",
    "\n",
    "\n",
    "#Used Lambda to convert to Float\n",
    "out_race['Cook County, Illinois'] = out_race['Cook County, Illinois'].apply(lambda x: float(x[:-1]))\n",
    "out_race['Kings County (Brooklyn Borough), New York'] = out_race['Kings County (Brooklyn Borough), New York'].apply(lambda x: float(x[:-1]))\n",
    "out_race['Multnomah County, Oregon'] = out_race['Multnomah County, Oregon'].apply(lambda x: float(x[:-1]))\n",
    "out_race['King County, Washington'] = out_race['King County, Washington'].apply(lambda x: float(x[:-1]))\n",
    "out_race['New York County (Manhattan Borough), New York'] = out_race['New York County (Manhattan Borough), New York'].apply(lambda x: float(x[:-1]))\n",
    "out_race['San Francisco County, California'] = out_race['San Francisco County, California'].apply(lambda x: float(x[:-1]))\n",
    "\n",
    "#Removed \",percent\"\n",
    "out_race['Fact'] = out_race['Fact'].apply(lambda x: x[:-9])\n",
    "out_race\n"
   ]
  },
  {
   "cell_type": "code",
   "execution_count": null,
   "metadata": {},
   "outputs": [],
   "source": [
    "#HELP\n",
    "# #Hispanic is over the 100% should we make it by itself or add it to \"white\"\n",
    "\n",
    "race = [\"White alone\", \"Black or African American Alone\", \"American Indian and Alaska Native alone\", \"Asian alone\",\n",
    "        \"Native Hawaiian and Other Pacific Islander alone\", \"Two or More Races\", \"Hispanic or Latino\"]\n",
    "\n",
    "county = ['San Francisco County, California',\n",
    "                 'New York County (Manhattan Borough), New York', \n",
    "                  'King County, Washington',\n",
    "                 'Multnomah County, Oregon', \n",
    "                  'Kings County (Brooklyn Borough), New York',\n",
    "                 'Cook County, Illinois']\n",
    "\n",
    "N = 6\n",
    "ind = np.arange(N)\n",
    "width = .75\n",
    "\n",
    "#White\n",
    "white = out_race.iloc[0, 1:7]\n",
    "\n",
    "print(white)\n",
    "\n",
    "#African America\n",
    "aa = out_race.iloc[1, 1:7]\n",
    "\n",
    "#American Indian & Alaska Native\n",
    "ai = out_race.iloc[2, 1:7]\n",
    "\n",
    "#Native Hawaiian and Other Pacific\n",
    "hawaiian = out_race.iloc[3, 1:7]\n",
    "\n",
    "#Asian\n",
    "asian = out_race.iloc[4, 1:7]\n",
    "\n",
    "#Two or More Races\n",
    "two = out_race.iloc[5, 1:7]\n",
    "\n",
    "#Hispanic or Latino\n",
    "hispanic = out_race.iloc[6, 1:7]\n",
    "\n",
    "p1 = plt.bar(ind,white,width)\n",
    "p2 = plt.bar(ind,aa,width, bottom=white)\n",
    "p3 = plt.bar(ind,ai,width, bottom=white+aa)\n",
    "p4 = plt.bar(ind,hawaiian,width, bottom=white+aa+ai)\n",
    "p5 = plt.bar(ind,asian,width, bottom=white+aa+ai+hawaiian)\n",
    "p6 = plt.bar(ind,two,width, bottom =white+aa+ai+hawaiian+asian)\n",
    "p7 = plt.bar(ind,hispanic,width, bottom =white+aa+ai+hawaiian+asian+two)\n",
    "\n",
    "\n",
    "\n",
    "\n",
    "plt.ylabel('By Percentage')\n",
    "plt.title('Out of State: Race')\n",
    "plt.xticks(ind, ('San Francisco', 'Manhattan', 'King County (WA)', 'Multnomah County (OR)',\n",
    "                 'Brooklyn', 'Chicago'),rotation='vertical')\n",
    "\n",
    "                \n",
    "plt.legend((p1[0], p2[0], p3[0], \n",
    "             p4[0], p5[0],p6[0], p7[0]),\n",
    "            ('White', 'African American', \n",
    "             'American Indian or Alaska Native',\n",
    "             'Hawaiian or Other Pacific', 'Asian', \n",
    "             'Two or More Races', 'Hispanic'),loc='upper right',\n",
    "           bbox_to_anchor =(1.65, 1.0))\n",
    "\n",
    "plt.show()\n",
    "\n",
    "# #Mostly white. A lot of Hawaiian or Other Pacific in Chicago.\n",
    "# #add states"
   ]
  },
  {
   "cell_type": "code",
   "execution_count": null,
   "metadata": {
    "slideshow": {
     "slide_type": "slide"
    }
   },
   "outputs": [],
   "source": [
    "# California - Age\n",
    "\n",
    "california_age =california_df.iloc[4:7,0:7]\n",
    "california_age.head()\n",
    "\n",
    "california_age['Los Angeles County, California'] = california_age['Los Angeles County, California'].apply(lambda x: float(x[:-1]))\n",
    "california_age['Santa Clara County, California'] = california_age['Santa Clara County, California'].apply(lambda x: float(x[:-1]))\n",
    "california_age['Contra Costa County, California'] = california_age['Contra Costa County, California'].apply(lambda x: float(x[:-1]))\n",
    "california_age['San Mateo County, California'] = california_age['San Mateo County, California'].apply(lambda x: float(x[:-1]))\n",
    "california_age['Alameda County, California'] = california_age['Alameda County, California'].apply(lambda x: float(x[:-1]))\n",
    "california_age['San Francisco County, California'] = california_age['San Francisco County, California'].apply(lambda x: float(x[:-1]))\n",
    "\n",
    "\n",
    "# california_age['Fact'] = california_age['Fact'].apply(lambda x: x[])\n",
    "california_age\n",
    "\n",
    "\n"
   ]
  },
  {
   "cell_type": "code",
   "execution_count": null,
   "metadata": {
    "slideshow": {
     "slide_type": "slide"
    }
   },
   "outputs": [],
   "source": [
    "# California - Age (bar)\n",
    "\n",
    "county = ['Santa Clara County, California', 'Los Angeles County, California', 'Contra Costa County, California', \n",
    "         'San Mateo County, California', 'Alameda County, California', 'San Francisco County, California']\n",
    "\n",
    "age = ['under 5 years','under 18 years','65 years and over, percent']\n",
    "\n",
    "N = 6\n",
    "ind = np.arange(N)\n",
    "width = 0.50\n",
    "\n",
    "\n",
    "#Under 5\n",
    "under_5 = california_age.iloc[0, 1:7]\n",
    "\n",
    "#Under 18\n",
    "under_18 = california_age.iloc[1, 1:7]\n",
    "\n",
    "#Over 65\n",
    "over_65 = california_age.iloc[2, 1:7]\n",
    "\n",
    "#18-65\n",
    "middle_age = 100-under_5-under_18-over_65\n",
    "\n",
    "\n",
    "#Plot\n",
    "p1 = plt.bar(ind,under_5,width)\n",
    "p2 = plt.bar(ind,under_18,width,bottom=under_5)\n",
    "p3 = plt.bar(ind,middle_age, width,bottom=under_5+under_18)\n",
    "p4 = plt.bar(ind,over_65,width,bottom=under_5+under_18+middle_age)\n",
    "\n",
    "plt.legend((p1[0], p2[0], p3[0],p4[0]),\n",
    "           ('Under 5', 'Under 18', '18-65', \n",
    "            'Over 65',),loc='upper right',\n",
    "          bbox_to_anchor =(1.65, 1.0))\n",
    "\n",
    "plt.ylabel('By Percentage')\n",
    "plt.title('California: Age')\n",
    "plt.xticks(ind, ('San Francisco', 'Alameda', 'San Mateo', 'Contra Costa',\n",
    "                'Los Angeles', 'Santa Clara'),rotation='vertical')\n",
    "\n",
    "plt.show()"
   ]
  },
  {
   "cell_type": "code",
   "execution_count": null,
   "metadata": {
    "slideshow": {
     "slide_type": "slide"
    }
   },
   "outputs": [],
   "source": [
    "# Out of California: Age\n",
    "\n",
    "out_df = pd.read_csv('Quick Facts- Outside CA.csv')\n",
    "\n",
    "out_df.drop(columns = [\"Fact Note\"], inplace=True)\n",
    "# out_df.drop(columns = [\"Value Note for Cook County, Illinois\"], inplace=True)\n",
    "# out_df.drop(columns = [\"Value Note for Kings County (Brooklyn Borough), New York\"], inplace=True)\n",
    "# out_df.drop(columns = [\"Value Note for Multnomah County, Oregon\"], inplace=True)\n",
    "# out_df.drop(columns = [\"Value Note for King County, Washington\"], inplace=True)\n",
    "# out_df.drop(columns = [\"Value Note for New York County (Manhattan Borough), New York\"], inplace=True)\n",
    "# out_df.drop(columns = [\"Value Note for San Francisco County, California\"], inplace=True)\n",
    "\n",
    "\n",
    "cols = list(out_df.columns.values)\n",
    "cols\n",
    "\n",
    "column_titles = ['Fact',\n",
    "                'San Francisco County, California',\n",
    "                'New York County (Manhattan Borough), New York', \n",
    "                 'King County, Washington',\n",
    "                'Multnomah County, Oregon', \n",
    "                 'Kings County (Brooklyn Borough), New York',\n",
    "                'Cook County, Illinois']\n",
    "\n",
    "out_df.reindex(columns = column_titles)\n",
    "\n",
    "out_age =out_df.iloc[4:7,0:7]\n",
    "out_age.head(20)\n",
    "\n",
    "\n",
    "\n"
   ]
  },
  {
   "cell_type": "code",
   "execution_count": null,
   "metadata": {
    "slideshow": {
     "slide_type": "-"
    }
   },
   "outputs": [],
   "source": [
    "out_age['Cook County, Illinois'] = out_age['Cook County, Illinois'].apply(lambda x: float(x[:-1]))\n",
    "out_age['Kings County (Brooklyn Borough), New York'] = out_age['Kings County (Brooklyn Borough), New York'].apply(lambda x: float(x[:-1]))\n",
    "out_age['Multnomah County, Oregon'] = out_age['Multnomah County, Oregon'].apply(lambda x: float(x[:-1]))\n",
    "out_age['King County, Washington'] = out_age['King County, Washington'].apply(lambda x: float(x[:-1]))\n",
    "out_age['New York County (Manhattan Borough), New York'] = out_age['New York County (Manhattan Borough), New York'].apply(lambda x: float(x[:-1]))\n",
    "out_age['San Francisco County, California'] = out_age['San Francisco County, California'].apply(lambda x: float(x[:-1]))\n",
    "\n",
    "\n",
    "# out_age['Fact'] = out_age['Fact'].apply(lambda x: x[:-9])\n",
    "out_age\n",
    "\n",
    "\n",
    "\n",
    "\n",
    "\n",
    "\n"
   ]
  },
  {
   "cell_type": "code",
   "execution_count": null,
   "metadata": {},
   "outputs": [],
   "source": [
    "# Out of State: Age\n",
    "\n",
    "county = ['San Francisco County, California',\n",
    "                'New York County (Manhattan Borough), New York', \n",
    "                 'King County, Washington',\n",
    "                'Multnomah County, Oregon', \n",
    "                 'Kings County (Brooklyn Borough), New York',\n",
    "                'Cook County, Illinois']\n",
    "\n",
    "age = ['under 5 years','under 18 years','65 years and over, percent']\n",
    "\n",
    "N = 6\n",
    "ind = np.arange(N)\n",
    "width = 0.50\n",
    "\n",
    "# #Under 5\n",
    "under_5 = out_age.iloc[0, 1:7]\n",
    "\n",
    "# #Under 18\n",
    "under_18 = out_age.iloc[1, 1:7]\n",
    "\n",
    "# #Over 65\n",
    "over_65 = out_age.iloc[2, 1:7]\n",
    "\n",
    "# #18-65\n",
    "middle_age = 100-under_5-under_18-over_65\n",
    "\n",
    "\n",
    "# #Plot\n",
    "p1 = plt.bar(ind,under_5,width)\n",
    "p2 = plt.bar(ind,under_18,width,bottom=under_5)\n",
    "p3 = plt.bar(ind,middle_age,width,bottom=under_5+under_18)\n",
    "p4 = plt.bar(ind,over_65,width,bottom=under_5+under_18+middle_age)\n",
    "\n",
    "\n",
    "plt.legend((p1[0], p2[0], p3[0],p4[0]),\n",
    "           ('Under 5', 'Under 18', '18-65', \n",
    "            'Over 65',),loc='upper right',\n",
    "          bbox_to_anchor =(1.65, 1.0))\n",
    "\n",
    "\n",
    "\n",
    "plt.ylabel('By Percentage')\n",
    "plt.title('Out of State: Age')\n",
    "plt.xticks(ind, ('San Francisco', 'Manhattan,NY', 'King County (WA)', 'Multnomah County (OR)',\n",
    "                'Brooklyn', 'Chicago'),rotation='vertical')\n",
    "\n",
    "plt.show()\n",
    "\n",
    "# #Millenials taking over. "
   ]
  },
  {
   "cell_type": "code",
   "execution_count": null,
   "metadata": {
    "slideshow": {
     "slide_type": "slide"
    }
   },
   "outputs": [],
   "source": [
    "# California - Marital Male (bar)\n",
    "\n",
    "marital_ca_df = pd.read_csv('California - Marital 3.csv')\n",
    "\n",
    "# marital_ca_df.reindex(columns = column_titles)\n",
    "\n",
    "marital_ca_df=marital_ca_df.transpose()\n",
    "\n",
    "marital_ca_df.head(115-150)\n",
    "\n",
    "marital_ca_df.to_csv('california_marital_transpose.csv')\n",
    "marital_ca_df\n",
    "\n",
    "# cols = list(marital_ca_df.columns.values)\n",
    "# cols\n",
    "\n",
    "# column_titles = ['Fact',\n",
    "#                 'San Francisco County, California',\n",
    "#                 'Alameda County, California', \n",
    "#                  'San Mateo County, California',\n",
    "#                 'Contra Costa County, California', \n",
    "#                  'Los Angeles County, California',\n",
    "#                 'Santa Clara County, California']\n",
    "marital_ca_df = marital_ca_df.reindex(columns = [3, 0, 4, 1, 2, 5])\n",
    "# marital_ca_df.reindex(columns = column_titles)\n",
    "marital_ca_df\n",
    "\n",
    "male_single= marital_ca_df.iloc[25]\n",
    "male_married=marital_ca_df.iloc[17]\n",
    "male_widowed=marital_ca_df.iloc[19]\n",
    "male_divorced=marital_ca_df.iloc[21]\n",
    "male_separated=marital_ca_df.iloc[23]\n",
    "\n",
    "\n",
    "female_single= marital_ca_df.iloc[109]\n",
    "female_married=marital_ca_df.iloc[101]\n",
    "female_widowed=marital_ca_df.iloc[103]\n",
    "female_divorced=marital_ca_df.iloc[105]\n",
    "female_separated=marital_ca_df.iloc[107]\n",
    "\n",
    "N = 6\n",
    "ind = np.arange(N)\n",
    "width = 0.50\n",
    "\n",
    "p1 = plt.bar(ind,male_single,width)\n",
    "p2 = plt.bar(ind,male_married,width,bottom = male_single)\n",
    "p3 = plt.bar(ind,male_widowed,width,bottom = male_single+male_married)\n",
    "p4 = plt.bar(ind,male_divorced,width,bottom =male_single+male_married+male_widowed)\n",
    "p5 = plt.bar(ind,male_separated,width,bottom= male_single+male_married+male_widowed+male_divorced)\n",
    "\n",
    "\n",
    "plt.legend((p1[0], p2[0], p3[0], p4[0], p5[0]),\n",
    "           ('Single', 'Married', \"Widowed\", \"Divorced\", \"Separated\"),loc='upper right',\n",
    "          bbox_to_anchor =(1.65, 1.0))\n",
    "\n",
    "plt.ylabel('By Percentage')\n",
    "plt.title('California: Male Marital Status')\n",
    "plt.xticks(ind, ('San Francisco', 'Alameda', 'San Mateo', 'Contra Costa',\n",
    "                'Los Angeles', 'Santa Clara'),rotation='vertical')\n",
    "\n",
    "plt.show()\n",
    "\n",
    "# Pretty even in SF Married vs. Single"
   ]
  },
  {
   "cell_type": "code",
   "execution_count": null,
   "metadata": {},
   "outputs": [],
   "source": [
    "#Female Marital Status\n",
    "\n",
    "N = 6\n",
    "ind = np.arange(N)\n",
    "width = 0.50\n",
    "\n",
    "p1 = plt.bar(ind,female_single,width)\n",
    "p2 = plt.bar(ind,female_married,width,bottom = female_single)\n",
    "p3 = plt.bar(ind,female_widowed,width,bottom = female_single+female_married)\n",
    "p4 = plt.bar(ind,female_divorced,width,bottom =female_single+female_married+female_widowed)\n",
    "p5 = plt.bar(ind,female_separated,width,bottom= female_single+female_married+female_widowed+female_divorced)\n",
    "\n",
    "\n",
    "plt.legend((p1[0], p2[0], p3[0], p4[0], p5[0]),\n",
    "           ('Single', 'Married', \"Widowed\", \"Divorced\", \"Separated\"),loc='upper right',\n",
    "          bbox_to_anchor =(1.65, 1.0))\n",
    "\n",
    "plt.ylabel('By Percentage')\n",
    "plt.title('California: Female Marital Status')\n",
    "plt.xticks(ind, ('San Francisco', 'Alameda', 'San Mateo', 'Contra Costa',\n",
    "                'Los Angeles', 'Santa Clara'),rotation='vertical')\n",
    "\n",
    "plt.show()\n",
    "\n",
    "#More people are married in Santa Clara,San Mateo, Contra Costa"
   ]
  },
  {
   "cell_type": "code",
   "execution_count": null,
   "metadata": {},
   "outputs": [],
   "source": []
  },
  {
   "cell_type": "code",
   "execution_count": null,
   "metadata": {},
   "outputs": [],
   "source": [
    "#Out of State: Male Marital Status\n",
    "marital_out_df = pd.read_csv('Out of State - Marital.csv')\n",
    "\n",
    "# marital_ca_df.reindex(columns = column_titles)\n",
    "\n",
    "marital_out_df=marital_out_df.transpose()\n",
    "\n",
    "marital_out_df.head(115-150)\n",
    "\n",
    "marital_out_df.to_csv('outstate_marital_transpose.csv')\n",
    "marital_out_df\n",
    "\n",
    "# cols = list(marital_ca_df.columns.values)\n",
    "# cols\n",
    "\n",
    "# column_titles = ['Fact',\n",
    "#                 'San Francisco County, California',\n",
    "#                 'Alameda County, California', \n",
    "#                  'San Mateo County, California',\n",
    "#                 'Contra Costa County, California', \n",
    "#                  'Los Angeles County, California',\n",
    "#                 'Santa Clara County, California']\n",
    "marital_out_df = marital_out_df.reindex(columns = [0, 3, 5, 4, 2, 1])\n",
    "# marital_ca_df.reindex(columns = column_titles)\n",
    "marital_out_df\n",
    "\n",
    "#Fix County Name\n",
    "N = 6\n",
    "ind = np.arange(N)\n",
    "width = 0.50\n",
    "\n",
    "p1 = plt.bar(ind,male_single,width)\n",
    "p2 = plt.bar(ind,male_married,width,bottom = male_single)\n",
    "p3 = plt.bar(ind,male_widowed,width,bottom = male_single+male_married)\n",
    "p4 = plt.bar(ind,male_divorced,width,bottom =male_single+male_married+male_widowed)\n",
    "p5 = plt.bar(ind,male_separated,width,bottom= male_single+male_married+male_widowed+male_divorced)\n",
    "\n",
    "\n",
    "plt.legend((p1[0], p2[0], p3[0], p4[0], p5[0]),\n",
    "           ('Single', 'Married', \"Widowed\", \"Divorced\", \"Separated\"),loc='upper right',\n",
    "          bbox_to_anchor =(1.65, 1.0))\n",
    "\n",
    "plt.ylabel('By Percentage')\n",
    "plt.title('Out of State: Male Marital Status')\n",
    "plt.xticks(ind, ('San Francisco', 'New York, NY', 'King County, WA', 'Multnomah County, Oregon',\n",
    "                'Kings County, New York', 'Cook County, Illinois'),rotation='vertical')\n",
    "\n",
    "plt.show()\n"
   ]
  },
  {
   "cell_type": "code",
   "execution_count": null,
   "metadata": {},
   "outputs": [],
   "source": [
    "# Out of state: Female Marital Status\n",
    "N = 6\n",
    "ind = np.arange(N)\n",
    "width = 0.50\n",
    "\n",
    "p1 = plt.bar(ind,female_single,width)\n",
    "p2 = plt.bar(ind,female_married,width,bottom = female_single)\n",
    "p3 = plt.bar(ind,female_widowed,width,bottom = female_single+female_married)\n",
    "p4 = plt.bar(ind,female_divorced,width,bottom =female_single+female_married+female_widowed)\n",
    "p5 = plt.bar(ind,female_separated,width,bottom= female_single+female_married+female_widowed+female_divorced)\n",
    "\n",
    "\n",
    "plt.legend((p1[0], p2[0], p3[0], p4[0], p5[0]),\n",
    "           ('Single', 'Married', \"Widowed\", \"Divorced\", \"Separated\"),loc='upper right',\n",
    "          bbox_to_anchor =(1.65, 1.0))\n",
    "\n",
    "plt.ylabel('By Percentage')\n",
    "plt.title('Out of State: Female Marital Status')\n",
    "plt.xticks(ind, ('San Francisco', 'New York, NY', 'King County, WA', 'Multnomah County, Oregon',\n",
    "                'Kings County, New York', 'Cook County, Illinois'),rotation='vertical')\n",
    "\n",
    "plt.show()"
   ]
  },
  {
   "cell_type": "markdown",
   "metadata": {
    "slideshow": {
     "slide_type": "slide"
    }
   },
   "source": [
    "#Emily info\n",
    "Motivations\n",
    "Why are they leaving? \n",
    "Where are they going?\n",
    "How's the housing market similar and different against SF County"
   ]
  },
  {
   "cell_type": "code",
   "execution_count": null,
   "metadata": {
    "slideshow": {
     "slide_type": "slide"
    }
   },
   "outputs": [],
   "source": [
    "#Emily's housing analysis using census API\n",
    "\n",
    "#dictionary for in-CA counties\n",
    "\n",
    "base_url = \"https://api.census.gov/data/2017/acs/acs1/profile\"\n",
    "\n",
    "ca_cty_name = [\"San Francisco\",\"Alameda\",\"San Mateo\",\"Contra Costa\",\"Los Angeles\",\"Santa Clara\"]\n",
    "ca_st_fips = [\"06\",\"06\",\"06\",\"06\",\"06\",\"06\"]\n",
    "ca_cty_fips = [\"075\",\"001\",\"081\",\"013\",\"037\",\"085\"]\n",
    "\n",
    "in_ca_dict = {\n",
    "    \"County Name\": ca_cty_name,\n",
    "    \"State_FIPS\": ca_st_fips,\n",
    "    \"County_FIPS\": ca_cty_fips\n",
    "}\n",
    "\n",
    "in_ca_df = pd.DataFrame(in_ca_dict)\n",
    "print(in_ca_df)\n",
    "\n",
    "#dictionary for non-CA counties\n",
    "\n",
    "nonca_cty_name = [\"San Francisco\",\"New York County\",\"King County\",\"Multnomah County\",\"Kings County\",\"Cook County\"]\n",
    "nonca_st_fips = [\"06\",\"36\",\"53\",\"41\",\"36\",\"17\"]\n",
    "nonca_cty_fips = [\"075\",\"061\",\"033\",\"051\",\"047\",\"031\"]\n",
    "\n",
    "non_ca_dict = {\n",
    "    \"County Name\": nonca_cty_name,\n",
    "    \"State_FIPS\": nonca_st_fips,\n",
    "    \"County_FIPS\": nonca_cty_fips\n",
    "}\n",
    "\n",
    "non_ca_df = pd.DataFrame(non_ca_dict)\n",
    "print(non_ca_df)"
   ]
  },
  {
   "cell_type": "code",
   "execution_count": null,
   "metadata": {
    "slideshow": {
     "slide_type": "slide"
    }
   },
   "outputs": [],
   "source": [
    "#collect median home values by county and add to data frames\n",
    "\n",
    "ca_med_home_val = []\n",
    "med_home_var = \"DP04_0089E\"\n",
    "    \n",
    "for county_id, state_id in zip(ca_cty_fips, ca_st_fips):\n",
    "    med_home_val = requests.get(f\"{base_url}?get={med_home_var}&for=county:{county_id}&in=state:{state_id}\").json()\n",
    "    ca_med_home_val.append(int(med_home_val[1][0]))\n",
    "    \n",
    "in_ca_df[\"Med_Home_Value\"] = ca_med_home_val\n",
    "print(in_ca_df)\n",
    "\n",
    "non_ca_med_home_val = []\n",
    "med_home_var = \"DP04_0089E\"\n",
    "\n",
    "for county_id, state_id in zip(nonca_cty_fips, nonca_st_fips):\n",
    "    med_home_val = requests.get(f\"{base_url}?get={med_home_var}&for=county:{county_id}&in=state:{state_id}\").json()\n",
    "    non_ca_med_home_val.append(int(med_home_val[1][0]))\n",
    "    \n",
    "non_ca_df[\"Med_Home_Value\"] = non_ca_med_home_val\n",
    "print(non_ca_df)"
   ]
  },
  {
   "cell_type": "code",
   "execution_count": null,
   "metadata": {
    "slideshow": {
     "slide_type": "slide"
    }
   },
   "outputs": [],
   "source": [
    "#plot in-CA median home values\n",
    "\n",
    "x_axis = np.arange(len(ca_cty_name))\n",
    "tick_locations = [x for x in x_axis]\n",
    "plt.bar(x_axis, ca_med_home_val)\n",
    "plt.xticks(tick_locations, ca_cty_name, rotation=45)\n",
    "\n",
    "plt.title(\"Median Home Value by CA County\")\n",
    "plt.xlabel(\"County Name\")\n",
    "plt.ylabel(\"Median Home Value ($)\")\n",
    "plt.ylim(0, 1200000)"
   ]
  },
  {
   "cell_type": "code",
   "execution_count": null,
   "metadata": {
    "slideshow": {
     "slide_type": "slide"
    }
   },
   "outputs": [],
   "source": [
    "#plot non-CA median home values\n",
    "\n",
    "x_axis = np.arange(len(nonca_cty_name))\n",
    "tick_locations = [x for x in x_axis]\n",
    "plt.bar(x_axis, non_ca_med_home_val)\n",
    "plt.xticks(tick_locations, nonca_cty_name, rotation=45)\n",
    "\n",
    "plt.title(\"Median Home Value by non-CA County\")\n",
    "plt.xlabel(\"County Name\")\n",
    "plt.ylabel(\"Median Home Value ($)\")\n",
    "plt.ylim(0, 1200000)"
   ]
  },
  {
   "cell_type": "code",
   "execution_count": null,
   "metadata": {
    "slideshow": {
     "slide_type": "slide"
    }
   },
   "outputs": [],
   "source": [
    "#follow the same process for median gross rents\n",
    "\n",
    "ca_med_rent = []\n",
    "med_rent_var = \"DP04_0134E\"\n",
    "    \n",
    "for county_id, state_id in zip(ca_cty_fips, ca_st_fips):\n",
    "    med_rent = requests.get(f\"{base_url}?get={med_rent_var}&for=county:{county_id}&in=state:{state_id}\").json()\n",
    "    ca_med_rent.append(int(med_rent[1][0]))\n",
    "    \n",
    "in_ca_df[\"Med_Rent\"] = ca_med_rent\n",
    "print(in_ca_df)\n",
    "\n",
    "non_ca_med_rent = []\n",
    "med_rent_var = \"DP04_0134E\"\n",
    "\n",
    "for county_id, state_id in zip(nonca_cty_fips, nonca_st_fips):\n",
    "    med_rent= requests.get(f\"{base_url}?get={med_rent_var}&for=county:{county_id}&in=state:{state_id}\").json()\n",
    "    non_ca_med_rent.append(int(med_rent[1][0]))\n",
    "    \n",
    "non_ca_df[\"Med_Rent\"] = non_ca_med_rent\n",
    "print(non_ca_df)"
   ]
  },
  {
   "cell_type": "code",
   "execution_count": null,
   "metadata": {
    "slideshow": {
     "slide_type": "slide"
    }
   },
   "outputs": [],
   "source": [
    "#plot in-CA median rents\n",
    "\n",
    "x_axis = np.arange(len(ca_cty_name))\n",
    "tick_locations = [x for x in x_axis]\n",
    "plt.bar(x_axis, ca_med_rent)\n",
    "plt.xticks(tick_locations, ca_cty_name, rotation=45)\n",
    "\n",
    "plt.title(\"Median Rent by CA County\")\n",
    "plt.xlabel(\"County Name\")\n",
    "plt.ylabel(\"Median Rent ($)\")\n",
    "plt.ylim(0, 2500)"
   ]
  },
  {
   "cell_type": "code",
   "execution_count": null,
   "metadata": {
    "slideshow": {
     "slide_type": "slide"
    }
   },
   "outputs": [],
   "source": [
    "#plot non-CA median rents\n",
    "\n",
    "x_axis = np.arange(len(nonca_cty_name))\n",
    "tick_locations = [x for x in x_axis]\n",
    "plt.bar(x_axis, non_ca_med_rent)\n",
    "plt.xticks(tick_locations, nonca_cty_name, rotation=45)\n",
    "\n",
    "plt.title(\"Median Rent by non-CA County\")\n",
    "plt.xlabel(\"County Name\")\n",
    "plt.ylabel(\"Median Home Value ($)\")\n",
    "plt.ylim(0, 2500)"
   ]
  },
  {
   "cell_type": "code",
   "execution_count": null,
   "metadata": {
    "slideshow": {
     "slide_type": "slide"
    }
   },
   "outputs": [],
   "source": [
    "#follow the same process for home owner rate\n",
    "\n",
    "ca_own_rate = []\n",
    "home_own_var = \"DP04_0046PE\"\n",
    "    \n",
    "for county_id, state_id in zip(ca_cty_fips, ca_st_fips):\n",
    "    own_rate = requests.get(f\"{base_url}?get={home_own_var}&for=county:{county_id}&in=state:{state_id}\").json()\n",
    "    ca_own_rate.append(float(own_rate[1][0]))\n",
    "    \n",
    "in_ca_df[\"Home Own Rate\"] = ca_own_rate\n",
    "print(in_ca_df)\n",
    "\n",
    "nonca_own_rate = []\n",
    "home_own_var = \"DP04_0046PE\"\n",
    "    \n",
    "for county_id, state_id in zip(nonca_cty_fips, nonca_st_fips):\n",
    "    own_rate = requests.get(f\"{base_url}?get={home_own_var}&for=county:{county_id}&in=state:{state_id}\").json()\n",
    "    nonca_own_rate.append(float(own_rate[1][0]))\n",
    "    \n",
    "non_ca_df[\"Home Own Rate\"] = nonca_own_rate\n",
    "print(non_ca_df)"
   ]
  },
  {
   "cell_type": "code",
   "execution_count": null,
   "metadata": {
    "slideshow": {
     "slide_type": "slide"
    }
   },
   "outputs": [],
   "source": [
    "#plot in-CA home own rates\n",
    "\n",
    "x_axis = np.arange(len(ca_cty_name))\n",
    "tick_locations = [x for x in x_axis]\n",
    "plt.bar(x_axis, ca_own_rate)\n",
    "plt.xticks(tick_locations, ca_cty_name, rotation=45)\n",
    "\n",
    "plt.title(\"Home Ownership Rate by CA County\")\n",
    "plt.xlabel(\"County Name\")\n",
    "plt.ylabel(\"Home Ownership Rate (%)\")\n",
    "plt.ylim(0, 75)"
   ]
  },
  {
   "cell_type": "code",
   "execution_count": null,
   "metadata": {
    "slideshow": {
     "slide_type": "slide"
    }
   },
   "outputs": [],
   "source": [
    "#plot non-CA home own rates\n",
    "\n",
    "x_axis = np.arange(len(nonca_cty_name))\n",
    "tick_locations = [x for x in x_axis]\n",
    "plt.bar(x_axis, nonca_own_rate)\n",
    "plt.xticks(tick_locations, nonca_cty_name, rotation=45)\n",
    "\n",
    "plt.title(\"Home Ownership Rate by non-CA County\")\n",
    "plt.xlabel(\"County Name\")\n",
    "plt.ylabel(\"Home Ownership Rate (%)\")\n",
    "plt.ylim(0, 75)"
   ]
  },
  {
   "cell_type": "markdown",
   "metadata": {
    "slideshow": {
     "slide_type": "slide"
    }
   },
   "source": [
    "# Rebecca 2017 Median Household incomes for Top 5 Counties\n",
    "\n",
    "# Wage data from census \"QuickFacts\" utility\n",
    "\n",
    "### \n",
    "\n",
    "1. Use the graphical interface to input up to 6 locations (by city, county, state, etc) \n",
    "Reference:  https://www.census.gov/quickfacts/fact/table/US/PST045218\n",
    "\n",
    "** The only data cleaning done was to add (for out-of-state),  Travis County TX, (Austin is located there),  which was added manually to the \"non_CA_counties.csv\" files\n",
    "\n",
    "2. Import the csv\n",
    "*  Method: pd.read_csv"
   ]
  },
  {
   "cell_type": "code",
   "execution_count": null,
   "metadata": {},
   "outputs": [],
   "source": [
    "# Rebeccas Files to load\n",
    "CA_counties = pd.read_csv(\"CA_counties.csv\")\n",
    "non_CA_counties = pd.read_csv(\"non_CA_counties.csv\")\n",
    "\n",
    "#Display just the within CA data\n",
    "CA_counties.head()"
   ]
  },
  {
   "cell_type": "markdown",
   "metadata": {},
   "source": [
    "# Rebecca\n",
    "3. Clean up the data\n",
    "* Reduce the data size and clean up the naming (for easier reference later on)\n",
    "\n",
    "* df.drop()-    Drop columns all the columns which have no important data\n",
    "* df.dropna() - Drop rows with NaN\n",
    "* df.reset_index() - Reset the index because we had dropped out a few rows\n",
    "* df[:x] - Drop rows, only keep x rows\n",
    "* df.rename()  - Rename the colums with shorter names so the plots look ok"
   ]
  },
  {
   "cell_type": "code",
   "execution_count": null,
   "metadata": {},
   "outputs": [],
   "source": [
    "# Clean up the raw data - \n",
    "CA_counties.drop(columns = ['Fact Note'], inplace=True)\n",
    "CA_counties.drop(columns = ['Value Note for San Francisco County, California'], inplace=True)\n",
    "CA_counties.drop(columns = ['Value Note for Alameda County, California'], inplace=True)\n",
    "CA_counties.drop(columns = ['Value Note for San Mateo County, California'], inplace=True)\n",
    "CA_counties.drop(columns = ['Value Note for Contra Costa County, California'], inplace=True)\n",
    "CA_counties.drop(columns = ['Value Note for Los Angeles County, California'], inplace=True)\n",
    "CA_counties.drop(columns = ['Value Note for Santa Clara County, California'], inplace=True)\n",
    "\n",
    "non_CA_counties.drop(columns = ['Fact Note'], inplace=True)\n",
    "non_CA_counties.drop(columns = ['Value Note for San Francisco County, California'], inplace=True)\n",
    "non_CA_counties.drop(columns = ['Value Note for King County, Washington'], inplace=True)\n",
    "non_CA_counties.drop(columns = ['Value Note for New York County (Manhattan Borough), New York'], inplace=True)\n",
    "non_CA_counties.drop(columns = ['Value Note for Multnomah County, Oregon'], inplace=True)\n",
    "non_CA_counties.drop(columns = ['Value Note for Kings County (Brooklyn Borough), New York'], inplace=True)\n",
    "non_CA_counties.drop(columns = ['Value Note for Cook County, Illinois'], inplace=True)\n",
    "non_CA_counties.drop(columns = ['Value Note for Travis County, Texas'], inplace=True)\n",
    "\n",
    "# Remove the rows which have NaNs,  doing inplace needed\n",
    "CA_counties.dropna(inplace=True)\n",
    "non_CA_counties.dropna(inplace=True)\n",
    "\n",
    "# Reset the index to keep everything in order, drop = True means that the original index will be discarded\n",
    "# Do this because we need to have one DF that shows the row number as a reference (later code)\n",
    "# Reference:  https://stackoverflow.com/questions/33165734/update-index-after-sorting-data-frame\n",
    "\n",
    "CA_counties.reset_index(drop=True, inplace=True)\n",
    "non_CA_counties.reset_index(drop=True, inplace=True)\n",
    "\n",
    "\n",
    "# Only keep the top 62 rows of data\n",
    "\n",
    "CA_counties = CA_counties[:62]\n",
    "non_CA_counties = non_CA_counties[:62]\n",
    "\n",
    "\n",
    "CA_counties"
   ]
  },
  {
   "cell_type": "code",
   "execution_count": null,
   "metadata": {
    "scrolled": true
   },
   "outputs": [],
   "source": [
    "# Rename the columns, look at the DataFrame\n",
    "CA_counties = CA_counties.rename(columns={\"San Francisco County, California\": \"San Francisco\",\n",
    "                                 \"Alameda County, California\":\"Alameda\",\n",
    "                                 \"San Mateo County, California\":\"San Mateo\",\n",
    "                                 \"Contra Costa County, California\":\"Contra Costa\",\n",
    "                                \"Los Angeles County, California\":\"Los Angeles\",\n",
    "                                \"Santa Clara County, California\":\"Santa Clara\"\n",
    "                                            })\n",
    "\n",
    "\n",
    "# Move the Facts into the index to get it out of the way since we don't need to clean the numbers in that column\n",
    "# Making a new DF ca_data,  so  you can always refer to ca_df to see the line number of the row\n",
    "ca_data = CA_counties.set_index(\"Fact\")\n",
    "\n",
    "# Clean the $ and % and \" signs from multiple columns, first put the columns put them in a list\n",
    "# Reference:  https://stackoverflow.com/questions/38516481/trying-to-remove-commas-and-dollars-signs-with-pandas-in-python\n",
    "\n",
    "cols = ca_data.columns\n",
    "\n",
    "# pass cols to df.replace(), specifying $,%\" and , to be replaced by blanks\n",
    "\n",
    "ca_data[cols] = ca_data[cols].replace({'\\$': '', ',': '', '\\%':'', '\\\"': ''}, regex=True)\n",
    "\n",
    "non_ca_df = non_CA_counties.rename(columns={\"San Francisco County, California\":\"San Francisco\",\n",
    "                                 \"New York County (Manhattan Borough), New York\":\"NY (Manhattan), NY\",\n",
    "                                 \"King County, Washington\":\"King, WA\",\n",
    "                                \"Multnomah County, Oregon\":\"Multnomah, OR\",\n",
    "                                \"Kings County (Brooklyn Borough), New York\":\"Kings (Brooklyn), NY\",\n",
    "                                \"Cook County, Illinois\":\"Cook, IL\",\n",
    "                                \"Travis County, Texas\":\"Travis, TX\"\n",
    "                                            })\n",
    "\n",
    "# Move the Facts into the index to get it out of the way since we don't need to clean the numbers in that column\n",
    "# Making a new DF ca_data,  so  you can always refer to ca_df to see the line number of the row\n",
    "non_ca_data = non_CA_counties.set_index(\"Fact\")\n",
    "\n",
    "# Clean the $ and % and \" signs from multiple columns, first put the columns put them in a list\n",
    "# Reference:  https://stackoverflow.com/questions/38516481/trying-to-remove-commas-and-dollars-signs-with-pandas-in-python\n",
    "\n",
    "cols = non_ca_data.columns\n",
    "\n",
    "# pass cols to df.replace(), specifying $,%\" and , to be replaced by blanks\n",
    "\n",
    "non_ca_data[cols] = non_ca_data[cols].replace({'\\$': '', ',': '', '\\%':'', '\\\"': ''}, regex=True)\n",
    "\n",
    "\n",
    "ca_data"
   ]
  },
  {
   "cell_type": "markdown",
   "metadata": {},
   "source": [
    "3.1 Transform the data.  \n",
    "\n",
    "Because of the %, $ the data inside the dataframe are all read in as objects\n",
    "*   Doing it this way will clean the entire table, and the user can specify different facts to be used\n",
    "     \n",
    "*    df.set_index  - Move the \"Fact\" column into the index. That way the rest of the data will be cleaned of strings\n",
    "*    df.replace    - Replace the %, $, ,  in the data to blank\n",
    "*    df.apply(pd.to_numeric()) -- now change the objects in each column into numerics, \"apply\"  will apply to all cols\n"
   ]
  },
  {
   "cell_type": "code",
   "execution_count": null,
   "metadata": {},
   "outputs": [],
   "source": [
    "# convert all objects to numerics\n",
    "# reference:  https://stackoverflow.com/questions/36814100/pandas-to-numeric-for-multiple-columns\n",
    "cols = ca_data.columns[ca_data.dtypes.eq('object')]\n",
    "clean_ca = ca_data[cols].apply(pd.to_numeric, errors='coerce')\n",
    "clean_ca.head()\n",
    "\n",
    "cols = non_ca_data.columns[non_ca_data.dtypes.eq('object')]\n",
    "non_ca_data = non_ca_data[cols].apply(pd.to_numeric, errors='coerce')\n",
    "non_ca_data"
   ]
  },
  {
   "cell_type": "markdown",
   "metadata": {},
   "source": []
  },
  {
   "cell_type": "code",
   "execution_count": null,
   "metadata": {},
   "outputs": [],
   "source": [
    "# Remove extraneous rows, keep only the row you want -- Median Wages\n",
    "wages = clean_ca[44:45]\n",
    "\n",
    "# Remove extraneous rows, keep only Median Wages\n",
    "wages_nonCA = non_ca_data[44:45]\n",
    "\n",
    "wages"
   ]
  },
  {
   "cell_type": "code",
   "execution_count": null,
   "metadata": {},
   "outputs": [],
   "source": [
    "# Now setup x and y axes for the bar plot\n",
    "\n",
    "x_data = wages.columns.tolist()   #  x_data has the list of counties to be plotted\n",
    "x_axis = np.arange(len(x_data))\n",
    "\n",
    "print(x_data)            # Check that this is a list of counties\n",
    "print(wages.values[0])   # this is accessing the first (and only) row of data\n",
    "\n",
    "\n",
    "median_wage = wages.values[0]    #  [[1,2,3,4,5]] ->  row zero [0] [1,2,3,4,5]\n",
    "\n",
    "# Now setup x and y axes for the bar plot\n",
    "\n",
    "x2_data = wages_nonCA.columns.tolist()   #  x_data has the list of counties to be plotted\n",
    "x2_axis = np.arange(len(x2_data))\n",
    "\n",
    "print(x2_data)            # Check that this is a list of counties\n",
    "print(wages_nonCA.values[0])   # this is accessing the first (and only) row of data\n",
    "\n",
    "\n",
    "median_wage_nonCA = wages_nonCA.values[0]    #  [[1,2,3,4,5]] ->  row zero [0] [1,2,3,4,5]"
   ]
  },
  {
   "cell_type": "markdown",
   "metadata": {},
   "source": [
    "3.2      Setup to plot and plot\n",
    "*    df[x:y]        -Select the row or rows of data you need\n",
    "*    x_axis = np.arange(len(x_data)) -Set the x axis\n",
    "*                   -Set the values, extract if needed\n",
    "*    plt.bar()      - plot the bar chart"
   ]
  },
  {
   "cell_type": "code",
   "execution_count": null,
   "metadata": {},
   "outputs": [],
   "source": [
    "plt.bar(x_axis, median_wage, alpha=0.5, align=\"center\")\n",
    "\n",
    "tick_locations = [value for value in x_axis]\n",
    "#print(tick_locations)\n",
    "\n",
    "plt.xticks(tick_locations, x_data, rotation=\"35\", ha='right')   #ha indicates the alignment of the xlabel with the tick mark\n",
    "plt.xlim(-0.75, len(x_axis)-0.25)\n",
    "plt.ylim(0, max(median_wage) + 20000)\n",
    "plt.title(\"Median Wages for People Leaving San Francisco County\")\n",
    "plt.xlabel(\"Comparison between SF and Top 5 CA counties\")\n",
    "plt.ylabel(\"Median Salary, ($)\")\n",
    "\n",
    "# Add labels to give more context \n",
    "\n",
    "style = dict(size=8, color ='black')\n",
    "plt.text(0.3,120000, \"US Census 2013-2017, All data shown in 2017 dollars\", **style)\n",
    "#plt.text(1,-70000, \"All data shown in 2017 dollars\", **style)\n",
    "\n"
   ]
  },
  {
   "cell_type": "code",
   "execution_count": null,
   "metadata": {},
   "outputs": [],
   "source": [
    "plt.bar(x2_axis, median_wage_nonCA, alpha=0.5, align=\"center\")\n",
    "\n",
    "tick_locations = [value for value in x2_axis]\n",
    "#print(tick_locations)\n",
    "\n",
    "plt.xticks(tick_locations, x2_data, rotation=\"35\", ha='right')   #ha indicates the alignment of the xlabel with the tick mark\n",
    "plt.xlim(-0.75, len(x2_axis)-0.25)\n",
    "plt.ylim(0, max(median_wage) + 20000)\n",
    "plt.title(\"Median Wages for People Leaving San Francisco County\")\n",
    "plt.xlabel(\"Comparison between SF and Top 5 non-CA counties\")\n",
    "plt.ylabel(\"Median Salary, ($)\")\n",
    "\n",
    "# Add labels to give more context \n",
    "\n",
    "style = dict(size=8, color ='black')\n",
    "plt.text(0.4,120000, \"US Census 2013-2017, All data shown in 2017 dollars\", **style)\n",
    "#plt.text(1,-70000, \"All data shown in 2017 dollars\", **style)\n"
   ]
  },
  {
   "cell_type": "markdown",
   "metadata": {
    "slideshow": {
     "slide_type": "slide"
    }
   },
   "source": [
    "Stefan\n",
    "Number of businesses information\n",
    "Employment\n",
    "#SF is not in the front of his graph\n",
    "#No clear explanation of what the graph's represent\n"
   ]
  },
  {
   "cell_type": "markdown",
   "metadata": {
    "slideshow": {
     "slide_type": "slide"
    }
   },
   "source": [
    "References\n",
    "Conclusion"
   ]
  },
  {
   "cell_type": "markdown",
   "metadata": {
    "slideshow": {
     "slide_type": "slide"
    }
   },
   "source": [
    "Keep in Mind:\n",
    "\n",
    "\n",
    "The questions you and your group found interesting, and what motivated you to answer them\n",
    "Where and how you found the data you used to answer these questions\n",
    "The data exploration and cleanup process (accompanied by your Jupyter Notebook)\n",
    "The analysis process (accompanied by your Jupyter Notebook)\n",
    "Your conclusions. This should include a numerical summary as well as visualizations of that summary\n",
    "Discuss the implications of your findings. This is where you get to have an open-ended discussion about what your findings \"mean\".\n"
   ]
  }
 ],
 "metadata": {
  "celltoolbar": "Slideshow",
  "kernelspec": {
   "display_name": "Python 3",
   "language": "python",
   "name": "python3"
  },
  "language_info": {
   "codemirror_mode": {
    "name": "ipython",
    "version": 3
   },
   "file_extension": ".py",
   "mimetype": "text/x-python",
   "name": "python",
   "nbconvert_exporter": "python",
   "pygments_lexer": "ipython3",
   "version": "3.7.0"
  }
 },
 "nbformat": 4,
 "nbformat_minor": 2
}
